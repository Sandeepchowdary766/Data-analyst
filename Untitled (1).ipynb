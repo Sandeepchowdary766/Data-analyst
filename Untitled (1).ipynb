{
 "cells": [
  {
   "cell_type": "markdown",
   "id": "cd9f6462",
   "metadata": {},
   "source": [
    "# Functions"
   ]
  },
  {
   "cell_type": "markdown",
   "id": "3fd617d3",
   "metadata": {},
   "source": [
    "* A function is a block of code which only runs when it is called. You can pass data, known as parameters, into a function. A     function can return data as a result.\n",
    "* In Python, a function is a block of organized, reusable code that performs a specific task. Functions provide better modularity for your application and facilitate code reuse.\n",
    "* We have a function thats already noted and then it will be called whenerver wanted.\n",
    "* A set of codes which will never change and values can be changed.\n",
    "* build the function called as defining the function,passing the value by calling the function"
   ]
  },
  {
   "cell_type": "markdown",
   "id": "e1159ed2",
   "metadata": {},
   "source": [
    "### syntax of defining a fun:\n",
    "* def func_name(parameters/s): variables\n",
    "     * block of code"
   ]
  },
  {
   "cell_type": "markdown",
   "id": "122a166c",
   "metadata": {},
   "source": [
    "##### parameters\n",
    "* parameters can be considered as the variables we use to write/ define\n",
    "  Some Benefits of Using Functions\n",
    "* Increase Code Readability\n",
    "* Increase Code Reusabilit"
   ]
  },
  {
   "cell_type": "markdown",
   "id": "c2ca2cda",
   "metadata": {},
   "source": [
    "#### Calling a function\n",
    "* Syntax for calling a function:\n",
    "* func_name(arg/s)\n",
    "* here arg/s are actual values or real values of variables"
   ]
  },
  {
   "cell_type": "code",
   "execution_count": 1,
   "id": "2571160f",
   "metadata": {},
   "outputs": [],
   "source": [
    "def foosum(a,b):\n",
    "    print(a+b)"
   ]
  },
  {
   "cell_type": "code",
   "execution_count": 2,
   "id": "3a900149",
   "metadata": {},
   "outputs": [
    {
     "name": "stdout",
     "output_type": "stream",
     "text": [
      "4\n"
     ]
    }
   ],
   "source": [
    "foosum(1,3)"
   ]
  },
  {
   "cell_type": "code",
   "execution_count": 3,
   "id": "3760f540",
   "metadata": {},
   "outputs": [
    {
     "name": "stdout",
     "output_type": "stream",
     "text": [
      "-11\n"
     ]
    }
   ],
   "source": [
    "foosum(-5,-6)"
   ]
  },
  {
   "cell_type": "markdown",
   "id": "e920fabb",
   "metadata": {},
   "source": [
    "##### Positional Arguments\n",
    "* positional arguments mean whenever we pass the arguments in the order we have defined function parameters in which if you change the argument position then you may get the unexpected output."
   ]
  },
  {
   "cell_type": "code",
   "execution_count": 4,
   "id": "93d100e3",
   "metadata": {},
   "outputs": [],
   "source": [
    "def foodivision(n,d):\n",
    "    print(n/d)"
   ]
  },
  {
   "cell_type": "code",
   "execution_count": 5,
   "id": "313c6ef3",
   "metadata": {},
   "outputs": [
    {
     "name": "stdout",
     "output_type": "stream",
     "text": [
      "5.0\n"
     ]
    }
   ],
   "source": [
    "foodivision(10,2) # positinal arguments"
   ]
  },
  {
   "cell_type": "markdown",
   "id": "a3619e5b",
   "metadata": {},
   "source": [
    "#### Keyword Argument\n",
    "* Keyword arguments mean whenever we pass the arguments(or value) by their parameter names at the time of calling the function in which if you change the position of arguments then there will be no change in the output."
   ]
  },
  {
   "cell_type": "code",
   "execution_count": 6,
   "id": "9398d984",
   "metadata": {},
   "outputs": [
    {
     "name": "stdout",
     "output_type": "stream",
     "text": [
      "5.0\n"
     ]
    }
   ],
   "source": [
    "foodivision(n=10 , d=2) #Each parameter will take only one argument 'argument can be tuple also"
   ]
  },
  {
   "cell_type": "code",
   "execution_count": 8,
   "id": "a1896706",
   "metadata": {},
   "outputs": [],
   "source": [
    "def foo(a,b,c):\n",
    "    x=a+b\n",
    "    y=x/c\n",
    "    print(y)"
   ]
  },
  {
   "cell_type": "code",
   "execution_count": 9,
   "id": "6045332d",
   "metadata": {},
   "outputs": [
    {
     "name": "stdout",
     "output_type": "stream",
     "text": [
      "0.6\n"
     ]
    }
   ],
   "source": [
    "foo(1,2,5)"
   ]
  },
  {
   "cell_type": "markdown",
   "id": "5f8be5d9",
   "metadata": {},
   "source": [
    "##### Default Argument"
   ]
  },
  {
   "cell_type": "code",
   "execution_count": 14,
   "id": "fbe716b5",
   "metadata": {},
   "outputs": [
    {
     "name": "stdout",
     "output_type": "stream",
     "text": [
      "490.00000000000006\n"
     ]
    }
   ],
   "source": [
    "def foopotrntialenergy(m,h,g=9.8):# default arguments\n",
    "    print(m*h*g)\n",
    "foopotrntialenergy(10,5)"
   ]
  },
  {
   "cell_type": "markdown",
   "id": "0f584fdc",
   "metadata": {},
   "source": [
    "#### Documentation strings\n",
    "1. Declaring Docstrings:\n",
    "   *  The docstrings are declared using ”’triple single quotes”’ or “”” triple double quotes “”” just below the class, method, or      function declaration. All functions should have a docstring.\n",
    "2. Accessing Docstrings:\n",
    "   * The docstrings can be accessed using the __ doc __ method of the object or using the help function."
   ]
  },
  {
   "cell_type": "code",
   "execution_count": 16,
   "id": "543f4cba",
   "metadata": {},
   "outputs": [],
   "source": [
    "def foodivision(d:float ,n:float):\n",
    "    ''' \n",
    "    d=denominator\n",
    "    n=numarator'''\n",
    "    print(n/d)"
   ]
  },
  {
   "cell_type": "code",
   "execution_count": 18,
   "id": "c8faf5ec",
   "metadata": {},
   "outputs": [
    {
     "name": "stdout",
     "output_type": "stream",
     "text": [
      " \n",
      "    d=denominator\n",
      "    n=numarator\n"
     ]
    }
   ],
   "source": [
    "print(foodivision.__doc__) # docstrings"
   ]
  },
  {
   "cell_type": "code",
   "execution_count": 19,
   "id": "085c069a",
   "metadata": {},
   "outputs": [
    {
     "name": "stdout",
     "output_type": "stream",
     "text": [
      "hehaahaa\n"
     ]
    }
   ],
   "source": [
    "def fooconcatenaionofstring(s1:str,s2='',n=1):\n",
    "    print((s1+s2)*n)\n",
    "fooconcatenaionofstring('he',s2='haahaa')"
   ]
  }
 ],
 "metadata": {
  "kernelspec": {
   "display_name": "Python 3 (ipykernel)",
   "language": "python",
   "name": "python3"
  },
  "language_info": {
   "codemirror_mode": {
    "name": "ipython",
    "version": 3
   },
   "file_extension": ".py",
   "mimetype": "text/x-python",
   "name": "python",
   "nbconvert_exporter": "python",
   "pygments_lexer": "ipython3",
   "version": "3.11.5"
  }
 },
 "nbformat": 4,
 "nbformat_minor": 5
}
