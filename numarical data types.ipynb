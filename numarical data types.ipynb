{
 "cells": [
  {
   "cell_type": "markdown",
   "id": "e6f39383",
   "metadata": {},
   "source": [
    "# Numarical data types"
   ]
  },
  {
   "cell_type": "markdown",
   "id": "2c771906",
   "metadata": {},
   "source": [
    "1. integers\n",
    "2. float\n",
    "3. complex"
   ]
  },
  {
   "cell_type": "markdown",
   "id": "c03ad71b",
   "metadata": {},
   "source": [
    "# integers"
   ]
  },
  {
   "cell_type": "code",
   "execution_count": 1,
   "id": "833a8d77",
   "metadata": {},
   "outputs": [
    {
     "name": "stdout",
     "output_type": "stream",
     "text": [
      "123 45.56 (5+3j)\n",
      "<class 'int'> <class 'float'> <class 'complex'>\n"
     ]
    }
   ],
   "source": [
    "x,y,z=123,45.56,5+3j\n",
    "print(x,y,z)\n",
    "print(type(x),type(y),type(z))"
   ]
  },
  {
   "cell_type": "code",
   "execution_count": 2,
   "id": "7797feab",
   "metadata": {},
   "outputs": [
    {
     "name": "stdout",
     "output_type": "stream",
     "text": [
      "5 140719876969384\n",
      "10 140719876969544\n"
     ]
    }
   ],
   "source": [
    "x=5\n",
    "print(x,id(x))\n",
    "x=10\n",
    "print(x,id(x))"
   ]
  },
  {
   "cell_type": "code",
   "execution_count": 3,
   "id": "e73e09fd",
   "metadata": {},
   "outputs": [
    {
     "data": {
      "text/plain": [
       "10"
      ]
     },
     "execution_count": 3,
     "metadata": {},
     "output_type": "execute_result"
    }
   ],
   "source": [
    "int('10')"
   ]
  },
  {
   "cell_type": "markdown",
   "id": "91d43d56",
   "metadata": {},
   "source": [
    "integer class function."
   ]
  },
  {
   "cell_type": "code",
   "execution_count": 6,
   "id": "9429bb54",
   "metadata": {},
   "outputs": [
    {
     "name": "stdout",
     "output_type": "stream",
     "text": [
      "10\n",
      "5\n"
     ]
    }
   ],
   "source": [
    "print(int('10',10))\n",
    "print(int('0101',2))"
   ]
  },
  {
   "cell_type": "markdown",
   "id": "f8d1644a",
   "metadata": {},
   "source": [
    ".binerary base numbers,defalt base is always 10"
   ]
  },
  {
   "cell_type": "code",
   "execution_count": 9,
   "id": "2b80d268",
   "metadata": {},
   "outputs": [
    {
     "name": "stdout",
     "output_type": "stream",
     "text": [
      "730\n"
     ]
    }
   ],
   "source": [
    "print(int('1001',9))"
   ]
  },
  {
   "cell_type": "markdown",
   "id": "9a2a3160",
   "metadata": {},
   "source": [
    "base values are 2 to 36 highest and lowest base values"
   ]
  },
  {
   "cell_type": "code",
   "execution_count": 10,
   "id": "1bc13197",
   "metadata": {},
   "outputs": [
    {
     "name": "stdout",
     "output_type": "stream",
     "text": [
      "5\n"
     ]
    }
   ],
   "source": [
    "print(int(5.5))"
   ]
  },
  {
   "cell_type": "markdown",
   "id": "16540121",
   "metadata": {},
   "source": [
    "flot position is changed"
   ]
  },
  {
   "cell_type": "code",
   "execution_count": 11,
   "id": "61e82a88",
   "metadata": {},
   "outputs": [
    {
     "data": {
      "text/plain": [
       "('0o11', '0x13')"
      ]
     },
     "execution_count": 11,
     "metadata": {},
     "output_type": "execute_result"
    }
   ],
   "source": [
    "oct(9), hex(19)"
   ]
  },
  {
   "cell_type": "markdown",
   "id": "44667a62",
   "metadata": {},
   "source": [
    "# float()"
   ]
  },
  {
   "cell_type": "code",
   "execution_count": 12,
   "id": "360a3b4e",
   "metadata": {},
   "outputs": [
    {
     "data": {
      "text/plain": [
       "5.0"
      ]
     },
     "execution_count": 12,
     "metadata": {},
     "output_type": "execute_result"
    }
   ],
   "source": [
    "float(5)"
   ]
  },
  {
   "cell_type": "markdown",
   "id": "7cb22902",
   "metadata": {},
   "source": [
    "flot value is converted into a decimal value"
   ]
  },
  {
   "cell_type": "markdown",
   "id": "894d6e29",
   "metadata": {},
   "source": [
    "# complex "
   ]
  },
  {
   "cell_type": "code",
   "execution_count": 7,
   "id": "3419629a",
   "metadata": {},
   "outputs": [
    {
     "name": "stdout",
     "output_type": "stream",
     "text": [
      "(5+3j) <class 'complex'>\n"
     ]
    }
   ],
   "source": [
    "x=5+3j\n",
    "print(x,type(x))"
   ]
  },
  {
   "cell_type": "code",
   "execution_count": 8,
   "id": "2259fdf4",
   "metadata": {},
   "outputs": [
    {
     "name": "stdout",
     "output_type": "stream",
     "text": [
      "5.0 3.0\n"
     ]
    }
   ],
   "source": [
    "print(x.real, x.imag)"
   ]
  },
  {
   "cell_type": "markdown",
   "id": "4cd16e52",
   "metadata": {},
   "source": [
    "real values and imagenary values"
   ]
  },
  {
   "cell_type": "markdown",
   "id": "47ce12fe",
   "metadata": {},
   "source": [
    "# abs() ### absolute"
   ]
  },
  {
   "cell_type": "code",
   "execution_count": 15,
   "id": "dae0110e",
   "metadata": {},
   "outputs": [
    {
     "data": {
      "text/plain": [
       "10"
      ]
     },
     "execution_count": 15,
     "metadata": {},
     "output_type": "execute_result"
    }
   ],
   "source": [
    "x=-10\n",
    "abs(-10) # it  is going to give a positive value "
   ]
  },
  {
   "cell_type": "code",
   "execution_count": 17,
   "id": "c6a1d7d8",
   "metadata": {},
   "outputs": [
    {
     "data": {
      "text/plain": [
       "1.5"
      ]
     },
     "execution_count": 17,
     "metadata": {},
     "output_type": "execute_result"
    }
   ],
   "source": [
    "x=-1.5\n",
    "abs(-1.5)"
   ]
  },
  {
   "cell_type": "code",
   "execution_count": 18,
   "id": "f1be8b32",
   "metadata": {},
   "outputs": [
    {
     "data": {
      "text/plain": [
       "10.44030650891055"
      ]
     },
     "execution_count": 18,
     "metadata": {},
     "output_type": "execute_result"
    }
   ],
   "source": [
    "x=-10+3j\n",
    "abs(-10+3j)"
   ]
  },
  {
   "cell_type": "code",
   "execution_count": 19,
   "id": "f9867b5a",
   "metadata": {},
   "outputs": [
    {
     "data": {
      "text/plain": [
       "10.44030650891055"
      ]
     },
     "execution_count": 19,
     "metadata": {},
     "output_type": "execute_result"
    }
   ],
   "source": [
    "x=-10-3j\n",
    "abs(-10-3j)"
   ]
  },
  {
   "cell_type": "code",
   "execution_count": 20,
   "id": "127d616d",
   "metadata": {},
   "outputs": [],
   "source": [
    "import math\n",
    "from math import ceil,floor"
   ]
  },
  {
   "cell_type": "code",
   "execution_count": 21,
   "id": "19ba5a6f",
   "metadata": {},
   "outputs": [
    {
     "data": {
      "text/plain": [
       "(5, 6)"
      ]
     },
     "execution_count": 21,
     "metadata": {},
     "output_type": "execute_result"
    }
   ],
   "source": [
    "floor(5.345),ceil(5.0345)"
   ]
  },
  {
   "cell_type": "markdown",
   "id": "54f683b9",
   "metadata": {},
   "source": [
    "  floor is taken from the front value and ceil is taken from next value"
   ]
  },
  {
   "cell_type": "markdown",
   "id": "33ff3927",
   "metadata": {},
   "source": [
    "##### syntafic rotation"
   ]
  },
  {
   "cell_type": "code",
   "execution_count": 22,
   "id": "5ab57aa3",
   "metadata": {},
   "outputs": [
    {
     "data": {
      "text/plain": [
       "6"
      ]
     },
     "execution_count": 22,
     "metadata": {},
     "output_type": "execute_result"
    }
   ],
   "source": [
    "int(5.056)+1"
   ]
  },
  {
   "cell_type": "code",
   "execution_count": 23,
   "id": "c73ee58f",
   "metadata": {},
   "outputs": [
    {
     "data": {
      "text/plain": [
       "320.0"
      ]
     },
     "execution_count": 23,
     "metadata": {},
     "output_type": "execute_result"
    }
   ],
   "source": [
    "3.2e+2 "
   ]
  },
  {
   "cell_type": "code",
   "execution_count": 1,
   "id": "a4f51f5a",
   "metadata": {},
   "outputs": [
    {
     "data": {
      "text/plain": [
       "36400000.0"
      ]
     },
     "execution_count": 1,
     "metadata": {},
     "output_type": "execute_result"
    }
   ],
   "source": [
    "3.64e+7"
   ]
  },
  {
   "cell_type": "code",
   "execution_count": 2,
   "id": "458e1fea",
   "metadata": {},
   "outputs": [
    {
     "data": {
      "text/plain": [
       "0.032"
      ]
     },
     "execution_count": 2,
     "metadata": {},
     "output_type": "execute_result"
    }
   ],
   "source": [
    "3.2e-2"
   ]
  },
  {
   "cell_type": "markdown",
   "id": "f4534325",
   "metadata": {},
   "source": [
    "#### Python provies a verious types of operation to perform different operation on veriables and values"
   ]
  },
  {
   "cell_type": "markdown",
   "id": "3a6d2d0b",
   "metadata": {},
   "source": [
    "* arthmetical operator\n",
    "* relational\n",
    "* logical\n",
    "* bitwise operator\n",
    "* assignment operator\n",
    "* special operator\n",
    "\n",
    "   a. identity\n",
    "   b. membership operator"
   ]
  },
  {
   "cell_type": "markdown",
   "id": "64d8175b",
   "metadata": {},
   "source": [
    "# Arthmetic operator"
   ]
  },
  {
   "cell_type": "code",
   "execution_count": 27,
   "id": "9eaf54bb",
   "metadata": {},
   "outputs": [
    {
     "name": "stdout",
     "output_type": "stream",
     "text": [
      "19\n",
      "11\n",
      "60\n",
      "3.75\n",
      "50625\n",
      "3\n",
      "3\n"
     ]
    }
   ],
   "source": [
    "x,y=15,4\n",
    "print(x+y)# addition\n",
    "print(x-y) # sup\n",
    "print(x*y) # mul\n",
    "print(x/y) # div\n",
    "print(x**y) # exponetation # \n",
    "print(x//y) # floor division\n",
    "print(x%y) # modulus division # remainder"
   ]
  },
  {
   "cell_type": "markdown",
   "id": "2aa27a4b",
   "metadata": {},
   "source": [
    "#### my side 5,10,11,16"
   ]
  },
  {
   "cell_type": "code",
   "execution_count": 30,
   "id": "67caf3bd",
   "metadata": {},
   "outputs": [
    {
     "data": {
      "text/plain": [
       "(78.57142857142857, 31.428571428571427)"
      ]
     },
     "execution_count": 30,
     "metadata": {},
     "output_type": "execute_result"
    }
   ],
   "source": [
    "r=5\n",
    "pi=22/7\n",
    "a,c=pi*(r**2),2*pi*r\n",
    "a,c"
   ]
  },
  {
   "cell_type": "code",
   "execution_count": 31,
   "id": "35364429",
   "metadata": {},
   "outputs": [
    {
     "data": {
      "text/plain": [
       "1237.5"
      ]
     },
     "execution_count": 31,
     "metadata": {},
     "output_type": "execute_result"
    }
   ],
   "source": [
    "d=15\n",
    "h=7\n",
    "r=d/2\n",
    "v=pi*r*r*7\n",
    "v"
   ]
  },
  {
   "cell_type": "markdown",
   "id": "8ae4ec79",
   "metadata": {},
   "source": [
    "# comperition operations"
   ]
  },
  {
   "cell_type": "markdown",
   "id": "2ace258b",
   "metadata": {},
   "source": [
    "these are devided into 2 types 1.relationship operations 2. logical operations"
   ]
  },
  {
   "cell_type": "markdown",
   "id": "7cce0b63",
   "metadata": {},
   "source": [
    "# relationship operations"
   ]
  },
  {
   "cell_type": "code",
   "execution_count": 35,
   "id": "5ef0300b",
   "metadata": {},
   "outputs": [
    {
     "name": "stdout",
     "output_type": "stream",
     "text": [
      "True\n",
      "False\n",
      "True\n",
      "False\n",
      "False\n",
      "True\n"
     ]
    }
   ],
   "source": [
    "x,y=30,20\n",
    "print(x>y)\n",
    "print(x<y)\n",
    "print(x>=y)\n",
    "print(x<=y)\n",
    "print(x==y)\n",
    "print(x!=y)"
   ]
  },
  {
   "cell_type": "markdown",
   "id": "1fdaa0ae",
   "metadata": {},
   "source": [
    "# logical operations \n",
    " * and\n",
    " * or \n",
    " * not"
   ]
  },
  {
   "cell_type": "code",
   "execution_count": 39,
   "id": "fdf628d8",
   "metadata": {},
   "outputs": [
    {
     "name": "stdout",
     "output_type": "stream",
     "text": [
      "False True\n",
      "True True False\n",
      "False\n"
     ]
    }
   ],
   "source": [
    "x,y,z=True,False,True\n",
    "print(x and y,x and z)\n",
    "print(x or y, x or z, y or y)\n",
    "print(not x)"
   ]
  },
  {
   "cell_type": "markdown",
   "id": "b05551af",
   "metadata": {},
   "source": [
    "# identity operators \n",
    "* is \n",
    "* is not"
   ]
  },
  {
   "cell_type": "markdown",
   "id": "285dd955",
   "metadata": {},
   "source": [
    "* identity operators is and is not"
   ]
  },
  {
   "cell_type": "code",
   "execution_count": 42,
   "id": "66b5de71",
   "metadata": {},
   "outputs": [],
   "source": [
    "inta, intb=250, 250\n",
    "lista, listb=[1,2,3],[1,2,3]\n",
    "listc=lista\n",
    "stra, strb='string','string'\n",
    "strc=stra"
   ]
  },
  {
   "cell_type": "code",
   "execution_count": 43,
   "id": "b004b495",
   "metadata": {},
   "outputs": [
    {
     "data": {
      "text/plain": [
       "(True, False, True)"
      ]
     },
     "execution_count": 43,
     "metadata": {},
     "output_type": "execute_result"
    }
   ],
   "source": [
    "lista==listb,lista is listb,lista is listc"
   ]
  },
  {
   "cell_type": "code",
   "execution_count": 7,
   "id": "dd3d8c41",
   "metadata": {},
   "outputs": [
    {
     "data": {
      "text/plain": [
       "False"
      ]
     },
     "execution_count": 7,
     "metadata": {},
     "output_type": "execute_result"
    }
   ],
   "source": [
    "lista, listb=[1,2,3],[1,2,3]\n",
    "lista is listb # is identity operation check for the memory location "
   ]
  },
  {
   "cell_type": "code",
   "execution_count": 10,
   "id": "797700c8",
   "metadata": {},
   "outputs": [
    {
     "data": {
      "text/plain": [
       "(2099280523904, 2099280552064)"
      ]
     },
     "execution_count": 10,
     "metadata": {},
     "output_type": "execute_result"
    }
   ],
   "source": [
    "id(lista),id(listb)"
   ]
  },
  {
   "cell_type": "code",
   "execution_count": 16,
   "id": "8b09558a",
   "metadata": {},
   "outputs": [
    {
     "data": {
      "text/plain": [
       "True"
      ]
     },
     "execution_count": 16,
     "metadata": {},
     "output_type": "execute_result"
    }
   ],
   "source": [
    "listc=lista\n",
    "lista is listc"
   ]
  },
  {
   "cell_type": "code",
   "execution_count": 17,
   "id": "1c50b5fa",
   "metadata": {},
   "outputs": [
    {
     "data": {
      "text/plain": [
       "(2099280523904, 2099280523904)"
      ]
     },
     "execution_count": 17,
     "metadata": {},
     "output_type": "execute_result"
    }
   ],
   "source": [
    "id(lista),id(listc) # same memory location"
   ]
  },
  {
   "cell_type": "code",
   "execution_count": 44,
   "id": "6a634bbd",
   "metadata": {},
   "outputs": [
    {
     "data": {
      "text/plain": [
       "(2074004957696, 2074005074048, 2074004957696)"
      ]
     },
     "execution_count": 44,
     "metadata": {},
     "output_type": "execute_result"
    }
   ],
   "source": [
    "id(lista),id(listb),id(listc)"
   ]
  },
  {
   "cell_type": "code",
   "execution_count": 48,
   "id": "6e6c3862",
   "metadata": {},
   "outputs": [
    {
     "data": {
      "text/plain": [
       "True"
      ]
     },
     "execution_count": 48,
     "metadata": {},
     "output_type": "execute_result"
    }
   ],
   "source": [
    "inta, intb= 5000, 5000\n",
    "inta is intb"
   ]
  },
  {
   "cell_type": "markdown",
   "id": "846fdb74",
   "metadata": {},
   "source": [
    "# is not"
   ]
  },
  {
   "cell_type": "code",
   "execution_count": 45,
   "id": "d93680ef",
   "metadata": {},
   "outputs": [
    {
     "data": {
      "text/plain": [
       "True"
      ]
     },
     "execution_count": 45,
     "metadata": {},
     "output_type": "execute_result"
    }
   ],
   "source": [
    "lista is not listb"
   ]
  },
  {
   "cell_type": "markdown",
   "id": "d0ba2723",
   "metadata": {},
   "source": [
    "## membership operators\n",
    "* in\n",
    "* not in"
   ]
  },
  {
   "cell_type": "code",
   "execution_count": 49,
   "id": "e20c97bd",
   "metadata": {},
   "outputs": [
    {
     "data": {
      "text/plain": [
       "(True, True)"
      ]
     },
     "execution_count": 49,
     "metadata": {},
     "output_type": "execute_result"
    }
   ],
   "source": [
    "x,y=[10,11,15], 'string'\n",
    "11 in x, 'z' not in y"
   ]
  }
 ],
 "metadata": {
  "kernelspec": {
   "display_name": "Python 3 (ipykernel)",
   "language": "python",
   "name": "python3"
  },
  "language_info": {
   "codemirror_mode": {
    "name": "ipython",
    "version": 3
   },
   "file_extension": ".py",
   "mimetype": "text/x-python",
   "name": "python",
   "nbconvert_exporter": "python",
   "pygments_lexer": "ipython3",
   "version": "3.11.5"
  }
 },
 "nbformat": 4,
 "nbformat_minor": 5
}
