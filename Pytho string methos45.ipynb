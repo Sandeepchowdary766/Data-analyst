{
 "cells": [
  {
   "cell_type": "markdown",
   "id": "db85dc44",
   "metadata": {},
   "source": [
    "# <u> Python string methos</u>"
   ]
  },
  {
   "cell_type": "markdown",
   "id": "c83ae61a",
   "metadata": {},
   "source": [
    "## string lower()method"
   ]
  },
  {
   "cell_type": "markdown",
   "id": "2f8f03ba",
   "metadata": {},
   "source": [
    "* strings are immutable, the resulting strings from strings methods have a new memory location\n",
    "* in order to use these strings we need teassign it to a variable"
   ]
  },
  {
   "cell_type": "markdown",
   "id": "ae2c8ffe",
   "metadata": {},
   "source": [
    "##  Python String lower() method converts all uppercase characters in a string into lowercase characters.\n",
    "\n",
    "#### Syntax of String lower()\n",
    "\n",
    "    * <b> syntax</b>:string.lower()"
   ]
  },
  {
   "cell_type": "code",
   "execution_count": 6,
   "id": "9c7897f9",
   "metadata": {},
   "outputs": [
    {
     "name": "stdout",
     "output_type": "stream",
     "text": [
      "SANDEEP\n"
     ]
    },
    {
     "data": {
      "text/plain": [
       "'sandeep'"
      ]
     },
     "execution_count": 6,
     "metadata": {},
     "output_type": "execute_result"
    }
   ],
   "source": [
    "x='SANDEEP'\n",
    "print(x)\n",
    "x.lower()"
   ]
  },
  {
   "cell_type": "markdown",
   "id": "53b0abf8",
   "metadata": {},
   "source": [
    "# String upper()"
   ]
  },
  {
   "cell_type": "markdown",
   "id": "e362b978",
   "metadata": {},
   "source": [
    "##  String upper() method converts all lowercase characters in a string into uppercase characters "
   ]
  },
  {
   "cell_type": "markdown",
   "id": "8fad419f",
   "metadata": {},
   "source": [
    "### Syntax: string.upper()"
   ]
  },
  {
   "cell_type": "code",
   "execution_count": 4,
   "id": "d2c0ced9",
   "metadata": {},
   "outputs": [
    {
     "data": {
      "text/plain": [
       "'sandeep'"
      ]
     },
     "execution_count": 4,
     "metadata": {},
     "output_type": "execute_result"
    }
   ],
   "source": [
    "ab='sandeep'\n",
    "ab"
   ]
  },
  {
   "cell_type": "code",
   "execution_count": 5,
   "id": "bd5fb37b",
   "metadata": {},
   "outputs": [
    {
     "data": {
      "text/plain": [
       "'SANDEEP'"
      ]
     },
     "execution_count": 5,
     "metadata": {},
     "output_type": "execute_result"
    }
   ],
   "source": [
    "ab.upper()"
   ]
  },
  {
   "cell_type": "markdown",
   "id": "4e590dab",
   "metadata": {},
   "source": [
    "# Capitalize()"
   ]
  },
  {
   "cell_type": "markdown",
   "id": "45f7b81c",
   "metadata": {},
   "source": [
    "### String capitalize() method returns a copy of the original string and converts the first character of the string to a capital  (uppercase) letter, while making all other characters in the string lowercase letters."
   ]
  },
  {
   "cell_type": "markdown",
   "id": "d886987e",
   "metadata": {},
   "source": [
    "* Syntax: string_name.capitalize()"
   ]
  },
  {
   "cell_type": "code",
   "execution_count": 7,
   "id": "060bdfc6",
   "metadata": {},
   "outputs": [
    {
     "data": {
      "text/plain": [
       "'Geeks for geeks'"
      ]
     },
     "execution_count": 7,
     "metadata": {},
     "output_type": "execute_result"
    }
   ],
   "source": [
    "name = 'geeks FOR geeks'\n",
    "name.capitalize()"
   ]
  },
  {
   "cell_type": "markdown",
   "id": "9b1ed998",
   "metadata": {},
   "source": [
    "# String Title() method"
   ]
  },
  {
   "cell_type": "markdown",
   "id": "60421a3a",
   "metadata": {},
   "source": [
    "### The String title() method in Python is used to convert the first character in each word to uppercase and the remaining characters to lowercase in the string and returns a new string."
   ]
  },
  {
   "cell_type": "markdown",
   "id": "e7c34008",
   "metadata": {},
   "source": [
    "#### Syntax: str.title()"
   ]
  },
  {
   "cell_type": "code",
   "execution_count": 9,
   "id": "07e02916",
   "metadata": {},
   "outputs": [
    {
     "data": {
      "text/plain": [
       "'peter piper picked a peck of pickled peppers'"
      ]
     },
     "execution_count": 9,
     "metadata": {},
     "output_type": "execute_result"
    }
   ],
   "source": [
    "x='peter piper picked a peck of pickled peppers'\n",
    "x"
   ]
  },
  {
   "cell_type": "code",
   "execution_count": 10,
   "id": "1cc39054",
   "metadata": {},
   "outputs": [
    {
     "data": {
      "text/plain": [
       "'Peter Piper Picked A Peck Of Pickled Peppers'"
      ]
     },
     "execution_count": 10,
     "metadata": {},
     "output_type": "execute_result"
    }
   ],
   "source": [
    "x.title()"
   ]
  },
  {
   "cell_type": "markdown",
   "id": "695cc336",
   "metadata": {},
   "source": [
    "# String casefold() Method"
   ]
  },
  {
   "cell_type": "markdown",
   "id": "918e4194",
   "metadata": {},
   "source": [
    "###  String casefold() method is used to convert string to lowercase. It is similar to the Python lower() string method, but the case removes all the case distinctions present in a string."
   ]
  },
  {
   "cell_type": "markdown",
   "id": "5b62d5dd",
   "metadata": {},
   "source": [
    "#### Syntax:  string.casefold()"
   ]
  },
  {
   "cell_type": "code",
   "execution_count": 11,
   "id": "55829004",
   "metadata": {},
   "outputs": [
    {
     "data": {
      "text/plain": [
       "'geeksforgeeks'"
      ]
     },
     "execution_count": 11,
     "metadata": {},
     "output_type": "execute_result"
    }
   ],
   "source": [
    "a= \"GEEKSFORGEEKS\"\n",
    "a.casefold()"
   ]
  },
  {
   "cell_type": "code",
   "execution_count": 12,
   "id": "8722a759",
   "metadata": {},
   "outputs": [
    {
     "name": "stdout",
     "output_type": "stream",
     "text": [
      "Using lower(): ß\n",
      "Using casefold(): ss\n"
     ]
    }
   ],
   "source": [
    "string = \"ß\"\n",
    " \n",
    "print(\"Using lower():\", string.lower())\n",
    "print(\"Using casefold():\", string.casefold())"
   ]
  },
  {
   "cell_type": "markdown",
   "id": "b52e06bd",
   "metadata": {},
   "source": [
    "# String find() method"
   ]
  },
  {
   "cell_type": "markdown",
   "id": "815a90da",
   "metadata": {},
   "source": [
    "### String find() method returns the lowest index or first occurrence of the substring if it is found in a given string. If it is not found, then it returns -1"
   ]
  },
  {
   "cell_type": "markdown",
   "id": "f65a5d77",
   "metadata": {},
   "source": [
    "#### Syntax: str_obj.find(sub, start, end)"
   ]
  },
  {
   "cell_type": "code",
   "execution_count": 13,
   "id": "2f55a295",
   "metadata": {},
   "outputs": [
    {
     "data": {
      "text/plain": [
       "'Return the lowest index in S where substring sub is found,'"
      ]
     },
     "execution_count": 13,
     "metadata": {},
     "output_type": "execute_result"
    }
   ],
   "source": [
    "ab='Return the lowest index in S where substring sub is found,'\n",
    "ab"
   ]
  },
  {
   "cell_type": "code",
   "execution_count": 15,
   "id": "7a2ba45c",
   "metadata": {},
   "outputs": [
    {
     "data": {
      "text/plain": [
       "18"
      ]
     },
     "execution_count": 15,
     "metadata": {},
     "output_type": "execute_result"
    }
   ],
   "source": [
    "ab.find('i')"
   ]
  },
  {
   "cell_type": "code",
   "execution_count": 16,
   "id": "ba75f71f",
   "metadata": {},
   "outputs": [
    {
     "data": {
      "text/plain": [
       "24"
      ]
     },
     "execution_count": 16,
     "metadata": {},
     "output_type": "execute_result"
    }
   ],
   "source": [
    "ab.find('i',19)"
   ]
  },
  {
   "cell_type": "code",
   "execution_count": 19,
   "id": "bd4f33ed",
   "metadata": {},
   "outputs": [
    {
     "data": {
      "text/plain": [
       "-1"
      ]
     },
     "execution_count": 19,
     "metadata": {},
     "output_type": "execute_result"
    }
   ],
   "source": [
    "ab.find('i',0,18)"
   ]
  },
  {
   "cell_type": "markdown",
   "id": "933b36c2",
   "metadata": {},
   "source": [
    "# String rfind() Method"
   ]
  },
  {
   "cell_type": "markdown",
   "id": "b5b4308a",
   "metadata": {},
   "source": [
    "### Python String rfind() method returns the rightmost index of the substring if found in the given string. If not found then it returns -1."
   ]
  },
  {
   "cell_type": "markdown",
   "id": "2fab9564",
   "metadata": {},
   "source": [
    "#### Syntax:  str.rfind(sub, start, end)"
   ]
  },
  {
   "cell_type": "code",
   "execution_count": 21,
   "id": "6e67ac40",
   "metadata": {},
   "outputs": [
    {
     "data": {
      "text/plain": [
       "22"
      ]
     },
     "execution_count": 21,
     "metadata": {},
     "output_type": "execute_result"
    }
   ],
   "source": [
    "ab.rfind('x')"
   ]
  },
  {
   "cell_type": "code",
   "execution_count": 22,
   "id": "6a0c777d",
   "metadata": {},
   "outputs": [
    {
     "data": {
      "text/plain": [
       "-1"
      ]
     },
     "execution_count": 22,
     "metadata": {},
     "output_type": "execute_result"
    }
   ],
   "source": [
    "ab.rfind('x',1,15)"
   ]
  },
  {
   "cell_type": "markdown",
   "id": "8df50184",
   "metadata": {},
   "source": [
    "# String count() Method"
   ]
  },
  {
   "cell_type": "markdown",
   "id": "3d83fe91",
   "metadata": {},
   "source": [
    "### String count() function is an inbuilt function in Python programming language that returns the number of occurrences of a substring in the given string."
   ]
  },
  {
   "cell_type": "markdown",
   "id": "9707e43c",
   "metadata": {},
   "source": [
    "#### Syntax: string. Count(substring, start= …., end= ….)"
   ]
  },
  {
   "cell_type": "code",
   "execution_count": 24,
   "id": "c1cb8359",
   "metadata": {},
   "outputs": [
    {
     "data": {
      "text/plain": [
       "1"
      ]
     },
     "execution_count": 24,
     "metadata": {},
     "output_type": "execute_result"
    }
   ],
   "source": [
    "ab.count('index')"
   ]
  },
  {
   "cell_type": "markdown",
   "id": "e45947fd",
   "metadata": {},
   "source": [
    "# String index() Method"
   ]
  },
  {
   "cell_type": "markdown",
   "id": "ec672dd9",
   "metadata": {},
   "source": [
    "### Python String index() Method allows a user to find the index of the first occurrence of an existing substring inside a given string in Python."
   ]
  },
  {
   "cell_type": "markdown",
   "id": "157a5843",
   "metadata": {},
   "source": [
    "##### Syntax:  string_obj.index(substring, start, end)"
   ]
  },
  {
   "cell_type": "code",
   "execution_count": 26,
   "id": "0532c4bf",
   "metadata": {},
   "outputs": [
    {
     "data": {
      "text/plain": [
       "'veera venkata'"
      ]
     },
     "execution_count": 26,
     "metadata": {},
     "output_type": "execute_result"
    }
   ],
   "source": [
    "a='veera venkata'\n",
    "a"
   ]
  },
  {
   "cell_type": "code",
   "execution_count": 27,
   "id": "7808625b",
   "metadata": {},
   "outputs": [
    {
     "data": {
      "text/plain": [
       "9"
      ]
     },
     "execution_count": 27,
     "metadata": {},
     "output_type": "execute_result"
    }
   ],
   "source": [
    "a.index('k')"
   ]
  },
  {
   "cell_type": "markdown",
   "id": "48e0960f",
   "metadata": {},
   "source": [
    "# String rindex() Method"
   ]
  },
  {
   "cell_type": "markdown",
   "id": "db2c05ce",
   "metadata": {},
   "source": [
    "### Python String rindex() method returns the highest index of the substring inside the string if the substring is found. Otherwise, it raises ValueError."
   ]
  },
  {
   "cell_type": "markdown",
   "id": "00cb2e2f",
   "metadata": {},
   "source": [
    "##### Syntax:  str.rindex(sub, start, end)"
   ]
  },
  {
   "cell_type": "code",
   "execution_count": 29,
   "id": "725fa2a3",
   "metadata": {},
   "outputs": [
    {
     "data": {
      "text/plain": [
       "7"
      ]
     },
     "execution_count": 29,
     "metadata": {},
     "output_type": "execute_result"
    }
   ],
   "source": [
    "a.rindex('e')"
   ]
  },
  {
   "cell_type": "markdown",
   "id": "9f07b2c5",
   "metadata": {},
   "source": [
    "# String replace() Method"
   ]
  },
  {
   "cell_type": "markdown",
   "id": "bf30d829",
   "metadata": {},
   "source": [
    "### String replace() in Python returns a copy of the string where occurrences of a substring are replaced with another substring."
   ]
  },
  {
   "cell_type": "markdown",
   "id": "2691e27c",
   "metadata": {},
   "source": [
    "##### Syntax: string.replace(old, new, count)"
   ]
  },
  {
   "cell_type": "code",
   "execution_count": 10,
   "id": "938db1a9",
   "metadata": {},
   "outputs": [
    {
     "data": {
      "text/plain": [
       "'veera venkata sandeep'"
      ]
     },
     "execution_count": 10,
     "metadata": {},
     "output_type": "execute_result"
    }
   ],
   "source": [
    "a='veera venkata sandeep'\n",
    "a"
   ]
  },
  {
   "cell_type": "code",
   "execution_count": 11,
   "id": "ff0e6500",
   "metadata": {},
   "outputs": [
    {
     "data": {
      "text/plain": [
       "'veera venkata sanDeep'"
      ]
     },
     "execution_count": 11,
     "metadata": {},
     "output_type": "execute_result"
    }
   ],
   "source": [
    "a.replace('d','D')"
   ]
  },
  {
   "cell_type": "code",
   "execution_count": 13,
   "id": "9fc2268a",
   "metadata": {},
   "outputs": [
    {
     "data": {
      "text/plain": [
       "'vEEra vEnkata sandeep'"
      ]
     },
     "execution_count": 13,
     "metadata": {},
     "output_type": "execute_result"
    }
   ],
   "source": [
    "a.replace('e','E',3)"
   ]
  },
  {
   "cell_type": "markdown",
   "id": "5dc2973c",
   "metadata": {},
   "source": [
    "# String Split() Method"
   ]
  },
  {
   "cell_type": "code",
   "execution_count": 14,
   "id": "79bdb418",
   "metadata": {},
   "outputs": [
    {
     "data": {
      "text/plain": [
       "'Return the lowest index in S where substring sub is found,'"
      ]
     },
     "execution_count": 14,
     "metadata": {},
     "output_type": "execute_result"
    }
   ],
   "source": [
    "ab='Return the lowest index in S where substring sub is found,'\n",
    "ab"
   ]
  },
  {
   "cell_type": "code",
   "execution_count": 15,
   "id": "663cbcf4",
   "metadata": {},
   "outputs": [
    {
     "data": {
      "text/plain": [
       "['Return',\n",
       " 'the',\n",
       " 'lowest',\n",
       " 'index',\n",
       " 'in',\n",
       " 'S',\n",
       " 'where',\n",
       " 'substring',\n",
       " 'sub',\n",
       " 'is',\n",
       " 'found,']"
      ]
     },
     "execution_count": 15,
     "metadata": {},
     "output_type": "execute_result"
    }
   ],
   "source": [
    "ab.split()"
   ]
  },
  {
   "cell_type": "code",
   "execution_count": 16,
   "id": "9f7d9ab9",
   "metadata": {},
   "outputs": [
    {
     "data": {
      "text/plain": [
       "['Return',\n",
       " 'the',\n",
       " 'lowest',\n",
       " 'index',\n",
       " 'in',\n",
       " 'S',\n",
       " 'where',\n",
       " 'substring',\n",
       " 'sub',\n",
       " 'is',\n",
       " 'found,']"
      ]
     },
     "execution_count": 16,
     "metadata": {},
     "output_type": "execute_result"
    }
   ],
   "source": [
    "ab.split(' ')"
   ]
  },
  {
   "cell_type": "code",
   "execution_count": 18,
   "id": "29b27fef",
   "metadata": {},
   "outputs": [
    {
     "data": {
      "text/plain": [
       "'Return the lowest index in S where substring sub is found,'"
      ]
     },
     "execution_count": 18,
     "metadata": {},
     "output_type": "execute_result"
    }
   ],
   "source": [
    "ab"
   ]
  },
  {
   "cell_type": "code",
   "execution_count": 20,
   "id": "d05ad54e",
   "metadata": {},
   "outputs": [
    {
     "data": {
      "text/plain": [
       "['Return', 'the', 'lowest', 'index', 'in', 'S where substring sub is found,']"
      ]
     },
     "execution_count": 20,
     "metadata": {},
     "output_type": "execute_result"
    }
   ],
   "source": [
    "ab.split(' ',maxsplit=5)"
   ]
  },
  {
   "cell_type": "markdown",
   "id": "9848fbbd",
   "metadata": {},
   "source": [
    "# String rsplit() Method"
   ]
  },
  {
   "cell_type": "markdown",
   "id": "89ad6eda",
   "metadata": {},
   "source": [
    "### Python String rsplit() method returns a list of strings after breaking the given string from the right side by the specified separator."
   ]
  },
  {
   "cell_type": "markdown",
   "id": "0409c935",
   "metadata": {},
   "source": [
    "##### Syntax:  str.rsplit(separator, maxsplit)"
   ]
  },
  {
   "cell_type": "code",
   "execution_count": 21,
   "id": "87453520",
   "metadata": {},
   "outputs": [
    {
     "data": {
      "text/plain": [
       "['Return the lowest index in S where', 'substring', 'sub', 'is', 'found,']"
      ]
     },
     "execution_count": 21,
     "metadata": {},
     "output_type": "execute_result"
    }
   ],
   "source": [
    "ab.rsplit(maxsplit=4)"
   ]
  },
  {
   "cell_type": "code",
   "execution_count": 23,
   "id": "061464a5",
   "metadata": {},
   "outputs": [
    {
     "data": {
      "text/plain": [
       "['Return', 'the', 'lowest', 'index', 'in S where substring sub is found,']"
      ]
     },
     "execution_count": 23,
     "metadata": {},
     "output_type": "execute_result"
    }
   ],
   "source": [
    "ab.split(maxsplit=4)"
   ]
  },
  {
   "cell_type": "markdown",
   "id": "338d0200",
   "metadata": {},
   "source": [
    "# String partition() Method"
   ]
  },
  {
   "cell_type": "markdown",
   "id": "77c2586e",
   "metadata": {},
   "source": [
    "#### Python String partition() method splits the string at the first occurrence of the separator and returns a tuple containing the part before the separator, the separator, and the part after the separator. Here, the separator is a string that is given as the argument."
   ]
  },
  {
   "cell_type": "markdown",
   "id": "0a8cf242",
   "metadata": {},
   "source": [
    "#### Syntax: string.partition(separator)"
   ]
  },
  {
   "cell_type": "code",
   "execution_count": 24,
   "id": "3b34d684",
   "metadata": {},
   "outputs": [
    {
     "data": {
      "text/plain": [
       "'Return the lowest index in S where substring sub is found,'"
      ]
     },
     "execution_count": 24,
     "metadata": {},
     "output_type": "execute_result"
    }
   ],
   "source": [
    "ab"
   ]
  },
  {
   "cell_type": "code",
   "execution_count": 25,
   "id": "6ee8b753",
   "metadata": {},
   "outputs": [
    {
     "data": {
      "text/plain": [
       "('Return', ' ', 'the lowest index in S where substring sub is found,')"
      ]
     },
     "execution_count": 25,
     "metadata": {},
     "output_type": "execute_result"
    }
   ],
   "source": [
    "ab.partition(' ')"
   ]
  },
  {
   "cell_type": "code",
   "execution_count": 26,
   "id": "4f7b6547",
   "metadata": {},
   "outputs": [
    {
     "data": {
      "text/plain": [
       "(('Return the lowest ', 'i', 'ndex in S where substring sub is found,'),\n",
       " ('Return the lowest index in S where su', 'b', 'string sub is found,'))"
      ]
     },
     "execution_count": 26,
     "metadata": {},
     "output_type": "execute_result"
    }
   ],
   "source": [
    "ab.partition('i'),ab.partition('b')"
   ]
  },
  {
   "cell_type": "code",
   "execution_count": 27,
   "id": "49096f5d",
   "metadata": {},
   "outputs": [
    {
     "data": {
      "text/plain": [
       "('Return the lowest index in S where substring sub is found,', '', '')"
      ]
     },
     "execution_count": 27,
     "metadata": {},
     "output_type": "execute_result"
    }
   ],
   "source": [
    "ab.partition('z')"
   ]
  },
  {
   "cell_type": "markdown",
   "id": "a678f3c9",
   "metadata": {},
   "source": [
    "# String rpartition() Method"
   ]
  },
  {
   "cell_type": "markdown",
   "id": "89132812",
   "metadata": {},
   "source": [
    "### Python String rpartition() Method split the given string into three parts. rpartition() starts looking for separator from the right side, till the separator is found and return a tuple which contains part of the string before separator, the separator and the part after the separator."
   ]
  },
  {
   "cell_type": "markdown",
   "id": "e93b1e67",
   "metadata": {},
   "source": [
    "##### Syntax :  string.rpartition(separator)"
   ]
  },
  {
   "cell_type": "code",
   "execution_count": 28,
   "id": "70d53159",
   "metadata": {},
   "outputs": [
    {
     "data": {
      "text/plain": [
       "('', '', 'Return the lowest index in S where substring sub is found,')"
      ]
     },
     "execution_count": 28,
     "metadata": {},
     "output_type": "execute_result"
    }
   ],
   "source": [
    "ab.rpartition('z')"
   ]
  },
  {
   "cell_type": "code",
   "execution_count": 31,
   "id": "70fb7218",
   "metadata": {},
   "outputs": [
    {
     "data": {
      "text/plain": [
       "('Return the lowest index in S where substring sub ', 'is', ' found,')"
      ]
     },
     "execution_count": 31,
     "metadata": {},
     "output_type": "execute_result"
    }
   ],
   "source": [
    "ab.rpartition('is')"
   ]
  },
  {
   "cell_type": "markdown",
   "id": "140b9b04",
   "metadata": {},
   "source": [
    "# String center() Method"
   ]
  },
  {
   "cell_type": "markdown",
   "id": "562dbdf2",
   "metadata": {},
   "source": [
    "### Python String center() method creates and returns a new string that is padded with the specified character."
   ]
  },
  {
   "cell_type": "markdown",
   "id": "c83e8a11",
   "metadata": {},
   "source": [
    "#### Syntax:  string.center(length[, fillchar])"
   ]
  },
  {
   "cell_type": "code",
   "execution_count": 34,
   "id": "5b1804d0",
   "metadata": {},
   "outputs": [
    {
     "data": {
      "text/plain": [
       "'sandeep'"
      ]
     },
     "execution_count": 34,
     "metadata": {},
     "output_type": "execute_result"
    }
   ],
   "source": [
    "a='sandeep'\n",
    "a"
   ]
  },
  {
   "cell_type": "code",
   "execution_count": 35,
   "id": "3abb2f50",
   "metadata": {},
   "outputs": [
    {
     "data": {
      "text/plain": [
       "'      sandeep       '"
      ]
     },
     "execution_count": 35,
     "metadata": {},
     "output_type": "execute_result"
    }
   ],
   "source": [
    "a.center(20)"
   ]
  },
  {
   "cell_type": "code",
   "execution_count": 38,
   "id": "005941a6",
   "metadata": {},
   "outputs": [
    {
     "data": {
      "text/plain": [
       "'******sandeep*******'"
      ]
     },
     "execution_count": 38,
     "metadata": {},
     "output_type": "execute_result"
    }
   ],
   "source": [
    "a.center(20,'*')"
   ]
  },
  {
   "cell_type": "markdown",
   "id": "68006929",
   "metadata": {},
   "source": [
    "# rjust() and ljust() in python()"
   ]
  },
  {
   "cell_type": "markdown",
   "id": "04b7323d",
   "metadata": {},
   "source": [
    "### tring rjust() The string rjust() method returns a new string of given length after substituting a given character in left side of original string."
   ]
  },
  {
   "cell_type": "markdown",
   "id": "a24fa460",
   "metadata": {},
   "source": [
    "#### string.rjust(length, fillchar)"
   ]
  },
  {
   "cell_type": "code",
   "execution_count": 39,
   "id": "1a724655",
   "metadata": {},
   "outputs": [
    {
     "data": {
      "text/plain": [
       "'sandeep             '"
      ]
     },
     "execution_count": 39,
     "metadata": {},
     "output_type": "execute_result"
    }
   ],
   "source": [
    "a.ljust(20,' ')"
   ]
  },
  {
   "cell_type": "code",
   "execution_count": 40,
   "id": "d6a651d3",
   "metadata": {},
   "outputs": [
    {
     "data": {
      "text/plain": [
       "'sandeep*************'"
      ]
     },
     "execution_count": 40,
     "metadata": {},
     "output_type": "execute_result"
    }
   ],
   "source": [
    "a.ljust(20,'*')"
   ]
  },
  {
   "cell_type": "code",
   "execution_count": 41,
   "id": "a22c2c8d",
   "metadata": {},
   "outputs": [
    {
     "data": {
      "text/plain": [
       "'             sandeep'"
      ]
     },
     "execution_count": 41,
     "metadata": {},
     "output_type": "execute_result"
    }
   ],
   "source": [
    "a.rjust(20,' ')"
   ]
  },
  {
   "cell_type": "code",
   "execution_count": 42,
   "id": "c7be7e31",
   "metadata": {},
   "outputs": [
    {
     "data": {
      "text/plain": [
       "'*************sandeep'"
      ]
     },
     "execution_count": 42,
     "metadata": {},
     "output_type": "execute_result"
    }
   ],
   "source": [
    "a.rjust(20,'*')"
   ]
  },
  {
   "cell_type": "markdown",
   "id": "42b01dd3",
   "metadata": {},
   "source": [
    "# Python String zfill()"
   ]
  },
  {
   "cell_type": "markdown",
   "id": "c1d1fe2f",
   "metadata": {},
   "source": [
    "### Python String zfill() method returns a copy of the string with ‘0’ characters padded to the left side of the given string."
   ]
  },
  {
   "cell_type": "markdown",
   "id": "420cdd2c",
   "metadata": {},
   "source": [
    "#### Syntax: str.zfill(length)"
   ]
  },
  {
   "cell_type": "code",
   "execution_count": 45,
   "id": "c04e6a6f",
   "metadata": {},
   "outputs": [
    {
     "data": {
      "text/plain": [
       "'0000000000000sandeep'"
      ]
     },
     "execution_count": 45,
     "metadata": {},
     "output_type": "execute_result"
    }
   ],
   "source": [
    "a.zfill(20)"
   ]
  },
  {
   "cell_type": "markdown",
   "id": "25e94e33",
   "metadata": {},
   "source": [
    "# Python string | strip()"
   ]
  },
  {
   "cell_type": "markdown",
   "id": "dba30fe1",
   "metadata": {},
   "source": [
    "### String strip() is an inbuilt function in the Python programming language that returns a copy of the string with both leading and trailing characters removed "
   ]
  },
  {
   "cell_type": "markdown",
   "id": "9d8a161f",
   "metadata": {},
   "source": [
    "#### Syntax: string.strip([chars])"
   ]
  },
  {
   "cell_type": "code",
   "execution_count": 49,
   "id": "9ee41a97",
   "metadata": {},
   "outputs": [
    {
     "data": {
      "text/plain": [
       "'!@#sandeep#@!'"
      ]
     },
     "execution_count": 49,
     "metadata": {},
     "output_type": "execute_result"
    }
   ],
   "source": [
    "a='sandeep'\n",
    "a='!@#'+a+'#@!'\n",
    "a"
   ]
  },
  {
   "cell_type": "code",
   "execution_count": 54,
   "id": "9263271c",
   "metadata": {},
   "outputs": [
    {
     "data": {
      "text/plain": [
       "'  !@#sandeep#@!   '"
      ]
     },
     "execution_count": 54,
     "metadata": {},
     "output_type": "execute_result"
    }
   ],
   "source": [
    "a= '  !@#sandeep#@!   '\n",
    "a"
   ]
  },
  {
   "cell_type": "code",
   "execution_count": 55,
   "id": "164872c5",
   "metadata": {},
   "outputs": [
    {
     "data": {
      "text/plain": [
       "'!@#sandeep#@!'"
      ]
     },
     "execution_count": 55,
     "metadata": {},
     "output_type": "execute_result"
    }
   ],
   "source": [
    "a.strip()"
   ]
  },
  {
   "cell_type": "code",
   "execution_count": 58,
   "id": "b59dfce2",
   "metadata": {},
   "outputs": [
    {
     "data": {
      "text/plain": [
       "'!@#sandeep#@!'"
      ]
     },
     "execution_count": 58,
     "metadata": {},
     "output_type": "execute_result"
    }
   ],
   "source": [
    "a='!@#sandeep#@!'\n",
    "a"
   ]
  },
  {
   "cell_type": "code",
   "execution_count": 59,
   "id": "6593bd6a",
   "metadata": {},
   "outputs": [
    {
     "data": {
      "text/plain": [
       "'andeep'"
      ]
     },
     "execution_count": 59,
     "metadata": {},
     "output_type": "execute_result"
    }
   ],
   "source": [
    "a.strip('!@#s')"
   ]
  },
  {
   "cell_type": "markdown",
   "id": "a585e92f",
   "metadata": {},
   "source": [
    "# string rstrip() Method"
   ]
  },
  {
   "cell_type": "markdown",
   "id": "04a32c79",
   "metadata": {},
   "source": [
    "### Python String rstrip() method returns a copy of the string with trailing characters removed (based on the string argument passed). If no argument is passed, it removes trailing spaces."
   ]
  },
  {
   "cell_type": "code",
   "execution_count": 63,
   "id": "b8170692",
   "metadata": {},
   "outputs": [
    {
     "data": {
      "text/plain": [
       "'!@#sandeep#$!'"
      ]
     },
     "execution_count": 63,
     "metadata": {},
     "output_type": "execute_result"
    }
   ],
   "source": [
    "y=  '  !@#sandeep#$!   '  \n",
    "y.strip()"
   ]
  },
  {
   "cell_type": "code",
   "execution_count": 64,
   "id": "37397d3a",
   "metadata": {},
   "outputs": [
    {
     "data": {
      "text/plain": [
       "'#sandeep#$'"
      ]
     },
     "execution_count": 64,
     "metadata": {},
     "output_type": "execute_result"
    }
   ],
   "source": [
    "y.strip('  !@')"
   ]
  },
  {
   "cell_type": "code",
   "execution_count": 65,
   "id": "530d31aa",
   "metadata": {},
   "outputs": [
    {
     "data": {
      "text/plain": [
       "'  !@#sandeep#$'"
      ]
     },
     "execution_count": 65,
     "metadata": {},
     "output_type": "execute_result"
    }
   ],
   "source": [
    "y.rstrip(' !@')"
   ]
  },
  {
   "cell_type": "markdown",
   "id": "a29c7a80",
   "metadata": {},
   "source": [
    "# Python String lstrip() method"
   ]
  },
  {
   "cell_type": "markdown",
   "id": "029eff0e",
   "metadata": {},
   "source": [
    "### Python String lstrip() method returns a copy of the string with leading characters removed"
   ]
  },
  {
   "cell_type": "code",
   "execution_count": 66,
   "id": "0030976e",
   "metadata": {},
   "outputs": [
    {
     "data": {
      "text/plain": [
       "'#sandeep#$!   '"
      ]
     },
     "execution_count": 66,
     "metadata": {},
     "output_type": "execute_result"
    }
   ],
   "source": [
    "y.lstrip(' !@')"
   ]
  },
  {
   "cell_type": "markdown",
   "id": "c0f712a8",
   "metadata": {},
   "source": [
    "# String join() Method"
   ]
  },
  {
   "cell_type": "markdown",
   "id": "4506f097",
   "metadata": {},
   "source": [
    "#### Python join() is an inbuilt string function in Python used to join elements of the sequence separated by a string separator. This function joins elements of a sequence and makes it a string."
   ]
  },
  {
   "cell_type": "markdown",
   "id": "b7050a1b",
   "metadata": {},
   "source": [
    "##### Syntax: string_name.join(iterable) "
   ]
  },
  {
   "cell_type": "code",
   "execution_count": 71,
   "id": "677ee229",
   "metadata": {},
   "outputs": [
    {
     "data": {
      "text/plain": [
       "['@', 'a', 'c', 'f']"
      ]
     },
     "execution_count": 71,
     "metadata": {},
     "output_type": "execute_result"
    }
   ],
   "source": [
    "a=['@','a','c','f',]\n",
    "a"
   ]
  },
  {
   "cell_type": "code",
   "execution_count": 72,
   "id": "b1f89bdd",
   "metadata": {},
   "outputs": [
    {
     "data": {
      "text/plain": [
       "'@$a$c$f'"
      ]
     },
     "execution_count": 72,
     "metadata": {},
     "output_type": "execute_result"
    }
   ],
   "source": [
    "'$'.join(a)"
   ]
  },
  {
   "cell_type": "code",
   "execution_count": 73,
   "id": "1b31a946",
   "metadata": {},
   "outputs": [
    {
     "data": {
      "text/plain": [
       "['veeravenkata sandeep']"
      ]
     },
     "execution_count": 73,
     "metadata": {},
     "output_type": "execute_result"
    }
   ],
   "source": [
    "a=['veeravenkata sandeep']\n",
    "a"
   ]
  },
  {
   "cell_type": "code",
   "execution_count": 77,
   "id": "30a814be",
   "metadata": {},
   "outputs": [
    {
     "data": {
      "text/plain": [
       "'v!!e!!e!!r!!a!!v!!e!!n!!k!!a!!t!!a!! !!s!!a!!n!!d!!e!!e!!p'"
      ]
     },
     "execution_count": 77,
     "metadata": {},
     "output_type": "execute_result"
    }
   ],
   "source": [
    "'!!'.join('veeravenkata sandeep')"
   ]
  },
  {
   "cell_type": "markdown",
   "id": "2c9325b8",
   "metadata": {},
   "source": [
    "## casefold():\n",
    "* The casefold() method returns a string where all the characters are lower case.\n",
    "* This method is similar to the lower() method, but the casefold() method is stronger, more aggressive, meaning that it will * more characters into lower case, and will find more matches when comparing two strings and both are converted using the casefold() method."
   ]
  },
  {
   "cell_type": "code",
   "execution_count": 2,
   "id": "b9c75cc8",
   "metadata": {},
   "outputs": [
    {
     "data": {
      "text/plain": [
       "'hello, and welcome to my world!'"
      ]
     },
     "execution_count": 2,
     "metadata": {},
     "output_type": "execute_result"
    }
   ],
   "source": [
    "txt = \"Hello, And Welcome To My World!\"\n",
    "x = txt.casefold()\n",
    "x"
   ]
  },
  {
   "cell_type": "code",
   "execution_count": 4,
   "id": "30418486",
   "metadata": {},
   "outputs": [
    {
     "data": {
      "text/plain": [
       "'I am good boy'"
      ]
     },
     "execution_count": 4,
     "metadata": {},
     "output_type": "execute_result"
    }
   ],
   "source": [
    "txt =\"I am good boy\"\n",
    "txt"
   ]
  },
  {
   "cell_type": "markdown",
   "id": "94983405",
   "metadata": {},
   "source": [
    "## swapcase()\n",
    "####  The swapcase() method returns a string where all the upper case letters are lower case and vice versa.\n",
    "* Syntax string.swapcase()\n",
    "\n"
   ]
  },
  {
   "cell_type": "code",
   "execution_count": 5,
   "id": "2b262d08",
   "metadata": {},
   "outputs": [
    {
     "name": "stdout",
     "output_type": "stream",
     "text": [
      "hELLO mY nAME iS peter\n"
     ]
    }
   ],
   "source": [
    "txt = \"Hello My Name Is PETER\"\n",
    "x = txt.swapcase()\n",
    "print(x)"
   ]
  },
  {
   "cell_type": "markdown",
   "id": "c4f9a618",
   "metadata": {},
   "source": [
    "# startswith()\n",
    "#### The startswith() method returns True if the string starts with the specified value, otherwise False.\n",
    "* Syntax string.startswith(value, start, end)\n",
    "\n",
    "\n",
    "1. value----->Required. The value to check if the string starts with\n",
    "2. start------>Optional. An Integer specifying at which position to start the search\n",
    "3. end----->Optional. An Integer specifying at which position to end the sear"
   ]
  },
  {
   "cell_type": "code",
   "execution_count": 6,
   "id": "defd8ac5",
   "metadata": {},
   "outputs": [
    {
     "name": "stdout",
     "output_type": "stream",
     "text": [
      "True\n"
     ]
    }
   ],
   "source": [
    "txt = \"Hello, welcome to my world.\"\n",
    "x = txt.startswith(\"wel\", 7, 20)\n",
    "print(x)"
   ]
  },
  {
   "cell_type": "markdown",
   "id": "3794894d",
   "metadata": {},
   "source": [
    "# istitle()\n",
    "* The istitle() method returns True if all words in a text start with a upper case letter, AND the rest of the word are lower case letters, otherwise False.\n",
    "\n",
    "\n",
    "* Syntax string.istitle()"
   ]
  },
  {
   "cell_type": "code",
   "execution_count": 7,
   "id": "6dda2b35",
   "metadata": {},
   "outputs": [],
   "source": [
    "a = \"HELLO, AND WELCOME TO MY WORLD\"\n",
    "b = \"Hello\"\n",
    "c = \"22 Names\"\n",
    "d = \"This Is %'!?\""
   ]
  },
  {
   "cell_type": "code",
   "execution_count": 8,
   "id": "8d6c8af2",
   "metadata": {},
   "outputs": [
    {
     "name": "stdout",
     "output_type": "stream",
     "text": [
      "False\n",
      "True\n",
      "True\n",
      "True\n"
     ]
    }
   ],
   "source": [
    "print(a.istitle())\n",
    "print(b.istitle())\n",
    "print(c.istitle())\n",
    "print(d.istitle())"
   ]
  }
 ],
 "metadata": {
  "kernelspec": {
   "display_name": "Python 3 (ipykernel)",
   "language": "python",
   "name": "python3"
  },
  "language_info": {
   "codemirror_mode": {
    "name": "ipython",
    "version": 3
   },
   "file_extension": ".py",
   "mimetype": "text/x-python",
   "name": "python",
   "nbconvert_exporter": "python",
   "pygments_lexer": "ipython3",
   "version": "3.11.5"
  }
 },
 "nbformat": 4,
 "nbformat_minor": 5
}
