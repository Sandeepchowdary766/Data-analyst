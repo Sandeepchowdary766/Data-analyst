{
 "cells": [
  {
   "cell_type": "markdown",
   "id": "ed33d388",
   "metadata": {},
   "source": [
    "## List methods"
   ]
  },
  {
   "cell_type": "markdown",
   "id": "10837838",
   "metadata": {},
   "source": [
    "## sort():\n",
    "#### sort() method is a built-in method in python that sorts the elements of a list in ascending or descending order using the default '<' comparisons operator between items.\n",
    "\n",
    "* Syntax: List_name.sort(reverse=True/False, key=myFunc)"
   ]
  },
  {
   "cell_type": "code",
   "execution_count": 3,
   "id": "b77a1dc2",
   "metadata": {},
   "outputs": [
    {
     "data": {
      "text/plain": [
       "[2, 5, 8, 45, 55, 55, 65, 89, 4000]"
      ]
     },
     "execution_count": 3,
     "metadata": {},
     "output_type": "execute_result"
    }
   ],
   "source": [
    "x=[55,65,8,5,89,4000,45,2,55]\n",
    "x.sort()\n",
    "x"
   ]
  },
  {
   "cell_type": "code",
   "execution_count": 4,
   "id": "27a0baff",
   "metadata": {},
   "outputs": [
    {
     "data": {
      "text/plain": [
       "['a', 'ani', 'b', 'jolly', 'z']"
      ]
     },
     "execution_count": 4,
     "metadata": {},
     "output_type": "execute_result"
    }
   ],
   "source": [
    "y=['a', 'ani', 'b', 'z', 'jolly']\n",
    "y.sort()\n",
    "y"
   ]
  },
  {
   "cell_type": "markdown",
   "id": "fa831203",
   "metadata": {},
   "source": [
    "* sort a list in descending order by passing the 'reverse=True' parameter to the sort() method."
   ]
  },
  {
   "cell_type": "code",
   "execution_count": 5,
   "id": "2e6f0fc5",
   "metadata": {},
   "outputs": [
    {
     "data": {
      "text/plain": [
       "[4000, 89, 65, 55, 55, 45, 8, 5, 2]"
      ]
     },
     "execution_count": 5,
     "metadata": {},
     "output_type": "execute_result"
    }
   ],
   "source": [
    "x = [55,65,8,5,89,4000,45,2,55,]\n",
    "x.sort(reverse=True)\n",
    "x"
   ]
  },
  {
   "cell_type": "markdown",
   "id": "a2efae61",
   "metadata": {},
   "source": [
    "# reverse():\n",
    "#### reverse() method is a built-in method in python that reverses the order of the elements in a list.\n",
    "\n",
    "* Syntax: list_name.reverse()"
   ]
  },
  {
   "cell_type": "code",
   "execution_count": 6,
   "id": "78a61edb",
   "metadata": {},
   "outputs": [
    {
     "data": {
      "text/plain": [
       "['sandeep', 'rajesh', 'mahi', 'king']"
      ]
     },
     "execution_count": 6,
     "metadata": {},
     "output_type": "execute_result"
    }
   ],
   "source": [
    "names=['sandeep','rajesh','mahi','king']\n",
    "names"
   ]
  },
  {
   "cell_type": "code",
   "execution_count": 9,
   "id": "5bc59f7d",
   "metadata": {},
   "outputs": [
    {
     "name": "stdout",
     "output_type": "stream",
     "text": [
      "['king', 'mahi', 'rajesh', 'sandeep']\n"
     ]
    }
   ],
   "source": [
    "names.reverse()\n",
    "print(names)"
   ]
  },
  {
   "cell_type": "code",
   "execution_count": 10,
   "id": "f9ee75bc",
   "metadata": {},
   "outputs": [
    {
     "data": {
      "text/plain": [
       "[100, 96, 10, 8, 2, 1]"
      ]
     },
     "execution_count": 10,
     "metadata": {},
     "output_type": "execute_result"
    }
   ],
   "source": [
    "aa=[1,8,10,96,2,100]\n",
    "aa.sort(reverse=True) # decending order\n",
    "aa"
   ]
  },
  {
   "cell_type": "markdown",
   "id": "60e45c10",
   "metadata": {},
   "source": [
    "# index"
   ]
  },
  {
   "cell_type": "markdown",
   "id": "74e5f253",
   "metadata": {},
   "source": [
    "#### index() method is a built-in method that returns the index of the first occurrence of a specified elements in a list.\n",
    "\n",
    "* Syntax: list_name.index(element, start, end)"
   ]
  },
  {
   "cell_type": "code",
   "execution_count": 11,
   "id": "e21fa526",
   "metadata": {},
   "outputs": [
    {
     "data": {
      "text/plain": [
       "[1, -5, 10, 14, 100, 89, 'a', 'ani', 'b', 'z', 'jolly']"
      ]
     },
     "execution_count": 11,
     "metadata": {},
     "output_type": "execute_result"
    }
   ],
   "source": [
    "z=[1, -5, 10, 14, 100, 89, 'a', 'ani', 'b', 'z', 'jolly']\n",
    "z"
   ]
  },
  {
   "cell_type": "code",
   "execution_count": 12,
   "id": "fbce0390",
   "metadata": {},
   "outputs": [
    {
     "data": {
      "text/plain": [
       "5"
      ]
     },
     "execution_count": 12,
     "metadata": {},
     "output_type": "execute_result"
    }
   ],
   "source": [
    "z.index(89)"
   ]
  },
  {
   "cell_type": "markdown",
   "id": "636e6f56",
   "metadata": {},
   "source": [
    "# clear()"
   ]
  },
  {
   "cell_type": "markdown",
   "id": "9afea2ec",
   "metadata": {},
   "source": [
    "### clear() method is a built-in method that removes all the elements from a list.\n",
    "\n",
    "* Syntax: list.clear()"
   ]
  },
  {
   "cell_type": "code",
   "execution_count": 15,
   "id": "25dc4392",
   "metadata": {},
   "outputs": [
    {
     "data": {
      "text/plain": [
       "['jolly', 'z', 'b', 'ani', 'a', 89, 100, 14, 10, -5, 1]"
      ]
     },
     "execution_count": 15,
     "metadata": {},
     "output_type": "execute_result"
    }
   ],
   "source": [
    "z"
   ]
  },
  {
   "cell_type": "code",
   "execution_count": 17,
   "id": "3244329d",
   "metadata": {},
   "outputs": [
    {
     "data": {
      "text/plain": [
       "[]"
      ]
     },
     "execution_count": 17,
     "metadata": {},
     "output_type": "execute_result"
    }
   ],
   "source": [
    "z.clear()\n",
    "z"
   ]
  },
  {
   "cell_type": "markdown",
   "id": "284e805d",
   "metadata": {},
   "source": [
    "# copy():\n",
    "#### copy() method is a built-in method that returns a shallow copy of the list.\n",
    "\n",
    "* Syntax: list.copy()"
   ]
  },
  {
   "cell_type": "code",
   "execution_count": 10,
   "id": "58e49e92",
   "metadata": {},
   "outputs": [
    {
     "name": "stdout",
     "output_type": "stream",
     "text": [
      "[1, 2, [3, 4, 5], 6, 7] 2503486799104\n"
     ]
    },
    {
     "data": {
      "text/plain": [
       "[1, 2, [3, 4, 5], 6, 7]"
      ]
     },
     "execution_count": 10,
     "metadata": {},
     "output_type": "execute_result"
    }
   ],
   "source": [
    "l = [1,2,[3,4,5],6,7]\n",
    "print(l, id(l))\n",
    "\n",
    "l.copy()"
   ]
  },
  {
   "cell_type": "markdown",
   "id": "5d862872",
   "metadata": {},
   "source": [
    "## Shallowcopy():\n",
    "#### A shallow copy creates a new object which stores the reference of the original elements.\n",
    "\n",
    "* Syntax: copy.copy()"
   ]
  },
  {
   "cell_type": "code",
   "execution_count": 11,
   "id": "11d58c4d",
   "metadata": {},
   "outputs": [
    {
     "name": "stdout",
     "output_type": "stream",
     "text": [
      "[1, 2, [3, 4, 5], 6, 7] 0x246e370b400\n",
      "[1, 2, [3, 4, 5], 6, 7] 0x246e36f3c00\n"
     ]
    }
   ],
   "source": [
    "import copy \n",
    "\n",
    "l = [1,2,[3,4,5],6,7]\n",
    "print(l, hex(id(l)))\n",
    "m = copy.copy(l)\n",
    "print(m, hex(id(m)))"
   ]
  },
  {
   "cell_type": "markdown",
   "id": "7930c4e3",
   "metadata": {},
   "source": [
    "## Deepcopy():\n",
    "#### A deep copy creates a new object and recursively adds the copies of nested objects present in the original elements.\n",
    "\n",
    "* Syntax: copy.deepcopy()"
   ]
  },
  {
   "cell_type": "code",
   "execution_count": 12,
   "id": "e11e379c",
   "metadata": {},
   "outputs": [
    {
     "name": "stdout",
     "output_type": "stream",
     "text": [
      "[1, 2, [3, 4, 5], 6, 7] 0x246e29f8380\n",
      "[1, 2, [3, 4, 5], 6, 7] 0x246e370f380\n"
     ]
    }
   ],
   "source": [
    "import copy \n",
    "\n",
    "l = [1,2,[3,4,5],6,7]\n",
    "print(l, hex(id(l)))\n",
    "m = copy.deepcopy(l)\n",
    "print(m, hex(id(m)))"
   ]
  },
  {
   "cell_type": "markdown",
   "id": "f46d6005",
   "metadata": {},
   "source": [
    "# count():\n",
    "### count() method is a built-in method that returns the number of times a specified elements appears in a list.\n",
    "\n",
    "* Syntax: list_name.count(object)"
   ]
  },
  {
   "cell_type": "code",
   "execution_count": 13,
   "id": "e66cf689",
   "metadata": {},
   "outputs": [
    {
     "data": {
      "text/plain": [
       "3"
      ]
     },
     "execution_count": 13,
     "metadata": {},
     "output_type": "execute_result"
    }
   ],
   "source": [
    "a = ['a', 'a', 'a', 'b', 'b', 'a', 'c', 'b']\n",
    "a.count('b')"
   ]
  },
  {
   "cell_type": "markdown",
   "id": "d8828483",
   "metadata": {},
   "source": [
    "# tuple"
   ]
  },
  {
   "cell_type": "markdown",
   "id": "323a68a3",
   "metadata": {},
   "source": [
    "#### A tuple is an immutable sequence type that can store multiple items in a single variable. One of the ways of creating a tuple is by using the tuple() constructor.\n",
    "\n",
    "* Tuples are similar to lists in many ways, but they are immutable."
   ]
  },
  {
   "cell_type": "code",
   "execution_count": 14,
   "id": "e343ba28",
   "metadata": {},
   "outputs": [
    {
     "data": {
      "text/plain": [
       "()"
      ]
     },
     "execution_count": 14,
     "metadata": {},
     "output_type": "execute_result"
    }
   ],
   "source": [
    "# empty tuple\n",
    "a = ()\n",
    "a"
   ]
  },
  {
   "cell_type": "code",
   "execution_count": 15,
   "id": "4b9101a3",
   "metadata": {},
   "outputs": [
    {
     "data": {
      "text/plain": [
       "(1, 2, 3, 4)"
      ]
     },
     "execution_count": 15,
     "metadata": {},
     "output_type": "execute_result"
    }
   ],
   "source": [
    "# having integers\n",
    "tuple = (1,2,3,4)\n",
    "tuple"
   ]
  },
  {
   "cell_type": "code",
   "execution_count": 16,
   "id": "755ad7c0",
   "metadata": {},
   "outputs": [
    {
     "data": {
      "text/plain": [
       "('Hello', [3, 2, 9], (0, 1, 2))"
      ]
     },
     "execution_count": 16,
     "metadata": {},
     "output_type": "execute_result"
    }
   ],
   "source": [
    "# nested tuple\n",
    "x = ('Hello',[3,2,9],(0,1,2))\n",
    "x"
   ]
  },
  {
   "cell_type": "code",
   "execution_count": 24,
   "id": "dda8ba77",
   "metadata": {},
   "outputs": [
    {
     "name": "stdout",
     "output_type": "stream",
     "text": [
      "(1, 2.2, (3+3j), 'four', <built-in function print>, <class 'range'>)\n",
      "<class 'tuple'>\n",
      "2171027199680\n"
     ]
    }
   ],
   "source": [
    "a=(1,2.2,3+3j, 'four',print,range)\n",
    "print(a,type(a),id(a),sep='\\n')"
   ]
  },
  {
   "cell_type": "code",
   "execution_count": 26,
   "id": "0740186c",
   "metadata": {},
   "outputs": [
    {
     "data": {
      "text/plain": [
       "(0, 1, 2, 3, 4)"
      ]
     },
     "execution_count": 26,
     "metadata": {},
     "output_type": "execute_result"
    }
   ],
   "source": [
    "b=tuple(range(5))\n",
    "b"
   ]
  },
  {
   "cell_type": "code",
   "execution_count": 28,
   "id": "81176ba1",
   "metadata": {},
   "outputs": [
    {
     "data": {
      "text/plain": [
       "(('h', 'e', 'l', 'l', 'o'), (1000, 1, 48, 90))"
      ]
     },
     "execution_count": 28,
     "metadata": {},
     "output_type": "execute_result"
    }
   ],
   "source": [
    "c,d=tuple('hello'),tuple({1,1000,48,90})\n",
    "c,d"
   ]
  },
  {
   "cell_type": "code",
   "execution_count": 30,
   "id": "4801ea86",
   "metadata": {},
   "outputs": [
    {
     "data": {
      "text/plain": [
       "2"
      ]
     },
     "execution_count": 30,
     "metadata": {},
     "output_type": "execute_result"
    }
   ],
   "source": [
    "b=(2)\n",
    "b"
   ]
  },
  {
   "cell_type": "code",
   "execution_count": 17,
   "id": "43ff6b6e",
   "metadata": {},
   "outputs": [
    {
     "data": {
      "text/plain": [
       "[2]"
      ]
     },
     "execution_count": 17,
     "metadata": {},
     "output_type": "execute_result"
    }
   ],
   "source": [
    "a=[2]\n",
    "a"
   ]
  },
  {
   "cell_type": "code",
   "execution_count": 31,
   "id": "c96a90b9",
   "metadata": {},
   "outputs": [
    {
     "data": {
      "text/plain": [
       "((5,), tuple, 1)"
      ]
     },
     "execution_count": 31,
     "metadata": {},
     "output_type": "execute_result"
    }
   ],
   "source": [
    "z=(5, ) \n",
    "z,type(z),len(z)"
   ]
  },
  {
   "cell_type": "code",
   "execution_count": 20,
   "id": "fbcf7802",
   "metadata": {},
   "outputs": [
    {
     "data": {
      "text/plain": [
       "((1, 2, 3, 4), tuple, 4)"
      ]
     },
     "execution_count": 20,
     "metadata": {},
     "output_type": "execute_result"
    }
   ],
   "source": [
    "b=tuple\n",
    "b, type(b), len(b)"
   ]
  },
  {
   "cell_type": "code",
   "execution_count": 33,
   "id": "2b1afbe9",
   "metadata": {},
   "outputs": [
    {
     "data": {
      "text/plain": [
       "(1, 2, 3, [44, 55])"
      ]
     },
     "execution_count": 33,
     "metadata": {},
     "output_type": "execute_result"
    }
   ],
   "source": [
    "b=(1,2,3,[44,55])\n",
    "b"
   ]
  },
  {
   "cell_type": "code",
   "execution_count": 34,
   "id": "969dd09e",
   "metadata": {},
   "outputs": [
    {
     "data": {
      "text/plain": [
       "(1, 2, 3, [44, 55, 65])"
      ]
     },
     "execution_count": 34,
     "metadata": {},
     "output_type": "execute_result"
    }
   ],
   "source": [
    "b[3].append(65)\n",
    "b"
   ]
  },
  {
   "cell_type": "code",
   "execution_count": null,
   "id": "191fc776",
   "metadata": {},
   "outputs": [],
   "source": []
  }
 ],
 "metadata": {
  "kernelspec": {
   "display_name": "Python 3 (ipykernel)",
   "language": "python",
   "name": "python3"
  },
  "language_info": {
   "codemirror_mode": {
    "name": "ipython",
    "version": 3
   },
   "file_extension": ".py",
   "mimetype": "text/x-python",
   "name": "python",
   "nbconvert_exporter": "python",
   "pygments_lexer": "ipython3",
   "version": "3.11.5"
  }
 },
 "nbformat": 4,
 "nbformat_minor": 5
}
