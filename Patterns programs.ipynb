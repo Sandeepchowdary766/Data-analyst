{
 "cells": [
  {
   "cell_type": "markdown",
   "id": "838487b7",
   "metadata": {},
   "source": [
    "### reduce function"
   ]
  },
  {
   "cell_type": "code",
   "execution_count": 7,
   "id": "c9437ac9",
   "metadata": {},
   "outputs": [
    {
     "data": {
      "text/plain": [
       "12"
      ]
     },
     "execution_count": 7,
     "metadata": {},
     "output_type": "execute_result"
    }
   ],
   "source": [
    "import functools\n",
    "res=functools.reduce(lambda x,y:(x**2)+y,[1,2,3])\n",
    "res"
   ]
  },
  {
   "cell_type": "code",
   "execution_count": 11,
   "id": "b94297da",
   "metadata": {},
   "outputs": [
    {
     "data": {
      "text/plain": [
       "'hihihihihihi'"
      ]
     },
     "execution_count": 11,
     "metadata": {},
     "output_type": "execute_result"
    }
   ],
   "source": [
    "res=functools.reduce(lambda x,y:x*y,[2,3],'hi')\n",
    "res"
   ]
  },
  {
   "cell_type": "markdown",
   "id": "668c7fdc",
   "metadata": {},
   "source": [
    "### Pattern Programs"
   ]
  },
  {
   "cell_type": "markdown",
   "id": "2921bd13",
   "metadata": {},
   "source": [
    "* Patterns can be printed in python using simple for   loops.\n",
    "* First outer loop is used to handle the number of rows and the Inner nested loop is used to handle the number of columns.\n",
    "* Manipulating the print statements, different number patterns, alphabet patterns, or star patterns can be printed."
   ]
  },
  {
   "cell_type": "code",
   "execution_count": null,
   "id": "3ab5fe75",
   "metadata": {},
   "outputs": [],
   "source": [
    "'''\n",
    "*\n",
    "* *\n",
    "* * *\n",
    "* * * *\n",
    "\n",
    "'''"
   ]
  },
  {
   "cell_type": "code",
   "execution_count": null,
   "id": "764f8c18",
   "metadata": {},
   "outputs": [],
   "source": [
    "'''\n",
    "      *\n",
    "    * *\n",
    "  * * *\n",
    "* * * *\n",
    "\n",
    "'''"
   ]
  },
  {
   "cell_type": "code",
   "execution_count": 16,
   "id": "bbfa6ede",
   "metadata": {},
   "outputs": [
    {
     "name": "stdout",
     "output_type": "stream",
     "text": [
      "* \n",
      "* * \n",
      "* * * \n",
      "* * * * \n",
      "* * * * * \n"
     ]
    }
   ],
   "source": [
    "r=5\n",
    "for i in range(1,r+1):\n",
    "    for  j in range(i):\n",
    "        print('*',end=' ')\n",
    "    print()"
   ]
  },
  {
   "cell_type": "code",
   "execution_count": 18,
   "id": "7fcb88f6",
   "metadata": {},
   "outputs": [
    {
     "name": "stdout",
     "output_type": "stream",
     "text": [
      "/ \n",
      "/ / \n",
      "/ / / \n",
      "/ / / / \n",
      "/ / / / / \n"
     ]
    }
   ],
   "source": [
    "def fooTraingle(r,c):\n",
    "    for i in range(1,r+1):\n",
    "        for j in range(i):\n",
    "            print(c,end=' ')\n",
    "        print()\n",
    "fooTraingle(5,'/')"
   ]
  },
  {
   "cell_type": "code",
   "execution_count": 23,
   "id": "9cb6896d",
   "metadata": {},
   "outputs": [],
   "source": [
    "def fooTraingle(r):\n",
    "    for i in range(1,r+1):\n",
    "        for j in range(i):\n",
    "            print(j,end=' ')\n",
    "        print()"
   ]
  },
  {
   "cell_type": "code",
   "execution_count": 24,
   "id": "8e798b57",
   "metadata": {},
   "outputs": [
    {
     "name": "stdout",
     "output_type": "stream",
     "text": [
      "0 \n",
      "0 1 \n",
      "0 1 2 \n",
      "0 1 2 3 \n",
      "0 1 2 3 4 \n"
     ]
    }
   ],
   "source": [
    "fooTraingle(5)"
   ]
  },
  {
   "cell_type": "code",
   "execution_count": 10,
   "id": "c0dd10fa",
   "metadata": {},
   "outputs": [
    {
     "name": "stdout",
     "output_type": "stream",
     "text": [
      "0 1 2 3 4 5 \n",
      "  0 1 2 3 4 \n",
      "    0 1 2 3 \n",
      "      0 1 2 \n",
      "        0 1 \n",
      "          0 \n"
     ]
    }
   ],
   "source": [
    "def fooTraingle(r):\n",
    "    for i in range(r,-1,-1):\n",
    "        for j in range(i,r):\n",
    "            print(' ',end=' ')\n",
    "        for j in range(i+1):\n",
    "            print(j,end=' ')\n",
    "        print()\n",
    "fooTraingle(5)      "
   ]
  },
  {
   "cell_type": "code",
   "execution_count": 38,
   "id": "dbcb850e",
   "metadata": {},
   "outputs": [
    {
     "name": "stdout",
     "output_type": "stream",
     "text": [
      "0 1 2 3 4 \n",
      "0 1 2 3 \n",
      "0 1 2 \n",
      "0 1 \n",
      "0 \n"
     ]
    }
   ],
   "source": [
    "def fooTraingle(r):\n",
    "    for i in range(5,0,-1):\n",
    "        for j in range(i):\n",
    "            print(j,end=' ')\n",
    "        print()\n",
    "fooTraingle(5)"
   ]
  },
  {
   "cell_type": "code",
   "execution_count": 13,
   "id": "fb3738f9",
   "metadata": {},
   "outputs": [
    {
     "name": "stdout",
     "output_type": "stream",
     "text": [
      "A B C D E F G \n",
      "  A B C D E F \n",
      "    A B C D E \n",
      "      A B C D \n",
      "        A B C \n",
      "          A B \n",
      "            A \n"
     ]
    }
   ],
   "source": [
    "def foopatern(r):\n",
    "    for i in range(r,-1,-1):\n",
    "        for j in range(i,r):\n",
    "            print(' ',end=' ')\n",
    "        for j in range(i+1):\n",
    "            print(chr(65+j),end=' ')\n",
    "        print()\n",
    "foopatern(6)"
   ]
  },
  {
   "cell_type": "code",
   "execution_count": 33,
   "id": "3f5f9f4c",
   "metadata": {},
   "outputs": [
    {
     "name": "stdout",
     "output_type": "stream",
     "text": [
      "/ / / / / \n",
      "/ / / / \n",
      "/ / / \n",
      "/ / \n",
      "/ \n"
     ]
    }
   ],
   "source": [
    "def fooTraingle(r):\n",
    "    for i in range(5,0,-1):\n",
    "        for j in range(i):\n",
    "            print('/' ,end=' ')\n",
    "        print()\n",
    "fooTraingle(5)"
   ]
  },
  {
   "cell_type": "code",
   "execution_count": 1,
   "id": "cc31adb7",
   "metadata": {},
   "outputs": [
    {
     "name": "stdout",
     "output_type": "stream",
     "text": [
      "          * \n",
      "        * * * \n",
      "      * * * * * \n",
      "    * * * * * * * \n",
      "  * * * * * * * * * \n"
     ]
    }
   ],
   "source": [
    "n=5\n",
    "for i in range(n):\n",
    "    for j in range(i,n):\n",
    "        print(' ' ,end=' ')\n",
    "    for j in range(i):\n",
    "        print('*',end=' ')\n",
    "    for j in range(i+1):\n",
    "        print('*',end=' ')\n",
    "    print()"
   ]
  },
  {
   "cell_type": "code",
   "execution_count": 3,
   "id": "60893a83",
   "metadata": {},
   "outputs": [
    {
     "name": "stdout",
     "output_type": "stream",
     "text": [
      "          0 \n",
      "        0 0 1 \n",
      "      0 1 0 1 2 \n",
      "    0 1 2 0 1 2 3 \n",
      "  0 1 2 3 0 1 2 3 4 \n"
     ]
    }
   ],
   "source": [
    "n=5\n",
    "for i in range(n):\n",
    "    for j in range(i,n):\n",
    "        print(' ' ,end=' ')\n",
    "    for j in range(i):\n",
    "        print(j,end=' ')\n",
    "    for j in range(i+1):\n",
    "        print(j,end=' ')\n",
    "    print()"
   ]
  },
  {
   "cell_type": "code",
   "execution_count": 14,
   "id": "1501e566",
   "metadata": {},
   "outputs": [
    {
     "name": "stdout",
     "output_type": "stream",
     "text": [
      "s s s s s s s s s s s s s \n",
      "  s s s s s s s s s s s \n",
      "    s s s s s s s s s \n",
      "      s s s s s s s \n",
      "        s s s s s \n",
      "          s s s \n",
      "            s \n"
     ]
    }
   ],
   "source": [
    "def lowerpyramid(n):\n",
    "    for i in range(n,-1,-1):\n",
    "        for j in range(i,n):\n",
    "            print(' ',end=' ')\n",
    "        for j in range(i):\n",
    "            print('s',end=' ')\n",
    "        for j in range(i+1):\n",
    "            print('s',end=' ')\n",
    "        print()\n",
    "lowerpyramid(6)"
   ]
  },
  {
   "cell_type": "code",
   "execution_count": 16,
   "id": "8c868ad6",
   "metadata": {},
   "outputs": [
    {
     "name": "stdout",
     "output_type": "stream",
     "text": [
      "        0 \n",
      "      0 0 1 \n",
      "    0 1 0 1 2 \n",
      "  0 1 2 0 1 2 3 \n",
      "0 1 2 3 0 1 2 3 4 \n",
      "  0 1 2 0 1 2 3 \n",
      "    0 1 0 1 2 \n",
      "      0 0 1 \n",
      "        0 \n"
     ]
    }
   ],
   "source": [
    "def funrhombus(n):\n",
    "    for i in range(n):\n",
    "        for j in range(i,n):\n",
    "            print(' ',end=' ')\n",
    "        for j in range(i):\n",
    "            print(j,end=' ')\n",
    "        for j in range(i+1):\n",
    "            print(j,end=' ')\n",
    "        print()\n",
    "    for i in range(n,-1,-1):\n",
    "        for j in range(i,n):\n",
    "            print(' ',end=' ')\n",
    "        for j in range(i):\n",
    "            print(j,end=' ')\n",
    "        for j in range(i+1):\n",
    "            print(j,end=' ')\n",
    "        print()\n",
    "funrhombus(4)"
   ]
  },
  {
   "cell_type": "code",
   "execution_count": 17,
   "id": "f57357fc",
   "metadata": {},
   "outputs": [
    {
     "name": "stdout",
     "output_type": "stream",
     "text": [
      "        A \n",
      "      A A A \n",
      "    A A A A A \n",
      "  A A A A A A A \n",
      "A A A A A A A A A \n",
      "  A A A A A A A \n",
      "    A A A A A \n",
      "      A A A \n",
      "        A \n"
     ]
    }
   ],
   "source": [
    "def funrhombus(n):\n",
    "    for i in range(n):\n",
    "        for j in range(i,n):\n",
    "            print(' ',end=' ')\n",
    "        for j in range(i):\n",
    "            print('A',end=' ')\n",
    "        for j in range(i+1):\n",
    "            print('A',end=' ')\n",
    "        print()\n",
    "    for i in range(n,-1,-1):\n",
    "        for j in range(i,n):\n",
    "            print(' ',end=' ')\n",
    "        for j in range(i):\n",
    "            print('A',end=' ')\n",
    "        for j in range(i+1):\n",
    "            print('A',end=' ')\n",
    "        print()\n",
    "funrhombus(4)"
   ]
  },
  {
   "cell_type": "code",
   "execution_count": 18,
   "id": "c201f891",
   "metadata": {},
   "outputs": [
    {
     "name": "stdout",
     "output_type": "stream",
     "text": [
      "        * * * * * \n",
      "      * * * * * \n",
      "    * * * * * \n",
      "  * * * * * \n"
     ]
    }
   ],
   "source": [
    "def parllelogram(n):\n",
    "    for i in range(n):\n",
    "        for j in range(i,n):\n",
    "            print(' ',end=' ')\n",
    "        for j in range(i,n):\n",
    "            print('*',end=' ')\n",
    "        for j in range(i+1):\n",
    "            print('*',end=' ')\n",
    "        print()\n",
    "parllelogram(4)"
   ]
  },
  {
   "cell_type": "code",
   "execution_count": 25,
   "id": "3969e0c1",
   "metadata": {},
   "outputs": [
    {
     "name": "stdout",
     "output_type": "stream",
     "text": [
      "  0 1 2 0 1 2 3 \n",
      "    0 1 0 1 2 \n",
      "      0 0 1 \n",
      "        0 \n",
      "        0 \n",
      "      0 0 1 \n",
      "    0 1 0 1 2 \n",
      "  0 1 2 0 1 2 3 \n"
     ]
    }
   ],
   "source": [
    "def hourglassnumber(n):\n",
    "    for i in range(n-1,-1,-1):\n",
    "        for j in range(i,n):\n",
    "            print(' ',end=' ')\n",
    "        for j in range(i):\n",
    "            print(j,end=' ')\n",
    "        for j in range(i+1):\n",
    "            print(j,end=' ')\n",
    "        print()\n",
    "    for i in range(n):\n",
    "        for j in range(i,n):\n",
    "            print(' ',end=' ')\n",
    "        for j in range(i):\n",
    "            print(j,end=' ')\n",
    "        for j in range(i+1):\n",
    "            print(j,end=' ')\n",
    "        print()\n",
    "hourglassnumber(4)   "
   ]
  }
 ],
 "metadata": {
  "kernelspec": {
   "display_name": "Python 3 (ipykernel)",
   "language": "python",
   "name": "python3"
  },
  "language_info": {
   "codemirror_mode": {
    "name": "ipython",
    "version": 3
   },
   "file_extension": ".py",
   "mimetype": "text/x-python",
   "name": "python",
   "nbconvert_exporter": "python",
   "pygments_lexer": "ipython3",
   "version": "3.11.5"
  }
 },
 "nbformat": 4,
 "nbformat_minor": 5
}
