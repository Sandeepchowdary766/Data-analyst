{
 "cells": [
  {
   "cell_type": "markdown",
   "id": "1ebd8d4e",
   "metadata": {},
   "source": [
    "# Call by value"
   ]
  },
  {
   "cell_type": "markdown",
   "id": "259c9543",
   "metadata": {},
   "source": [
    "* The parameter values are copied to function parameter and then two types of parameters are stored in the memory locations.\n",
    "\n",
    "* When changes are made the functions are not reflected in the parameter of the caller.\n",
    "\n",
    "* In call by value method of parameter passing, the values of actual parameters are copied to the function’s formal parameters.\n",
    "\n",
    "* There are two copies of parameters stored in different memory locations.\n",
    "* One is the original copy and the other is the function copy.\n",
    "* Any changes made inside functions are not reflected in the actual parameters of the caller."
   ]
  },
  {
   "cell_type": "code",
   "execution_count": 1,
   "id": "caa0c55c",
   "metadata": {},
   "outputs": [
    {
     "name": "stdout",
     "output_type": "stream",
     "text": [
      "Inside Function: gud evening sir\n",
      "Outside Function: abilashmanikanta\n"
     ]
    }
   ],
   "source": [
    "# call by value\n",
    " \n",
    "x = 'abilashmanikanta'\n",
    " \n",
    "def foo(x):\n",
    "     \n",
    "    x = \"gud evening sir\"\n",
    "    print(\"Inside Function:\", x)\n",
    "    \n",
    "foo(x)\n",
    "print(\"Outside Function:\", x)"
   ]
  },
  {
   "cell_type": "markdown",
   "id": "2762a617",
   "metadata": {},
   "source": [
    "# Call by reference"
   ]
  },
  {
   "cell_type": "markdown",
   "id": "631809a9",
   "metadata": {},
   "source": [
    "* Call by reference method copies the address of an argument into the formal parameter. In this method, the address is used to access the actual argument used in the function call. It means that changes made in the parameter alter the passing argument.\n",
    "\n",
    "* In this method, the memory allocation is the same as the actual parameters. All the operation in the function are performed on the value stored at the address of the actual parameter, and the modified value will be stored at the same address.\n",
    "\n",
    "* In call by reference method of parameter passing, the address of the actual parameters is passed to the function as the formal parameters.\n",
    "\n",
    "* Both the actual and formal parameters refer to the same locations.\n",
    "* Any changes made inside the function are actually reflected in the actual parameters of the caller."
   ]
  },
  {
   "cell_type": "code",
   "execution_count": 2,
   "id": "9b3fb91f",
   "metadata": {},
   "outputs": [
    {
     "name": "stdout",
     "output_type": "stream",
     "text": [
      "Inside Function [25, 35, 45, 65, 75, 85]\n",
      "Outside Function: [25, 35, 45, 65, 75, 85]\n"
     ]
    }
   ],
   "source": [
    "# call by reference\n",
    " \n",
    "def foo(a):\n",
    "    a.append(85)\n",
    "    print(\"Inside Function\", a)\n",
    "    \n",
    "x = [25,35,45,65,75]\n",
    " \n",
    "foo(x)\n",
    "print(\"Outside Function:\", x)"
   ]
  },
  {
   "cell_type": "markdown",
   "id": "07b1bc7c",
   "metadata": {},
   "source": [
    "### Difference between the Call by Value and Call by Reference"
   ]
  },
  {
   "cell_type": "markdown",
   "id": "d043b524",
   "metadata": {},
   "source": [
    "#### Call By Value\n",
    "* While calling a function, we pass the values of variables to it. Such functions are known as “Call By Values”.\n",
    "\n",
    "* In this method, the value of each variable in the calling function is copied into corresponding dummy variables of the called function.\n",
    "\n",
    "* With this method, the changes made to the dummy variables in the called function have no effect on the values of actual variables in the calling function.\n",
    "\n",
    "* In call-by-values, we cannot alter the values of actual variables through function calls.\n",
    "\n",
    "* Values of variables are passed by the Simple technique.\n",
    "\n",
    "* This method is preferred when we have to pass some small values that should not change."
   ]
  },
  {
   "attachments": {},
   "cell_type": "markdown",
   "id": "4ce292b9",
   "metadata": {},
   "source": [
    "#### Call by Reference"
   ]
  },
  {
   "cell_type": "markdown",
   "id": "039363bb",
   "metadata": {},
   "source": [
    "* While calling a function, instead of passing the values of variables, we pass the address of variables(location of variables) to the function known as “Call By References.\n",
    "\n",
    "* In this method, the address of actual variables in the calling function is copied into the dummy variables of the called function.\n",
    "\n",
    "* With this method, using addresses we would have access to the actual variables and hence we would be able to manipulate them.\n",
    "\n",
    "* In call by reference, we can alter the values of variables through function calls.\n",
    "\n",
    "* Pointer variables are necessary to define to store the address values of variables.\n",
    "\n",
    "* This method is preferred when we have to pass a large amount of data to the function."
   ]
  }
 ],
 "metadata": {
  "kernelspec": {
   "display_name": "Python 3 (ipykernel)",
   "language": "python",
   "name": "python3"
  },
  "language_info": {
   "codemirror_mode": {
    "name": "ipython",
    "version": 3
   },
   "file_extension": ".py",
   "mimetype": "text/x-python",
   "name": "python",
   "nbconvert_exporter": "python",
   "pygments_lexer": "ipython3",
   "version": "3.11.5"
  }
 },
 "nbformat": 4,
 "nbformat_minor": 5
}
