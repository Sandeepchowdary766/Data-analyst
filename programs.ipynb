{
 "cells": [
  {
   "cell_type": "markdown",
   "id": "0ca06a19",
   "metadata": {},
   "source": [
    "#### Write a Python program that asks the user for their age and prints \"You are an adult\" if the age is 18 or older, otherwise prints \"You are a minor'."
   ]
  },
  {
   "cell_type": "code",
   "execution_count": 2,
   "id": "839f8cbb",
   "metadata": {},
   "outputs": [
    {
     "name": "stdout",
     "output_type": "stream",
     "text": [
      "enter your age:16\n",
      "your are a minor\n"
     ]
    }
   ],
   "source": [
    "age=float(input('enter your age:'))\n",
    "\n",
    "if age>=18:\n",
    "    print('your are an adult')\n",
    "else:\n",
    "    print('your are a minor')"
   ]
  },
  {
   "cell_type": "markdown",
   "id": "ed4072f6",
   "metadata": {},
   "source": [
    "###### Write a program that takes a numerical grade (out of 100) as input and prints the corresponding letter grade according to the following scale:\n",
    " 90-100: A\n",
    " 80-89: B\n",
    " 70-79: C\n",
    " 60-69: D\n",
    " Below 60: F"
   ]
  },
  {
   "cell_type": "code",
   "execution_count": 34,
   "id": "da07b601",
   "metadata": {},
   "outputs": [
    {
     "name": "stdout",
     "output_type": "stream",
     "text": [
      "enter the grade59\n",
      "F\n"
     ]
    }
   ],
   "source": [
    "grade=float(input('enter the grade'))\n",
    "\n",
    "if grade>=90:\n",
    "    print('A')\n",
    "elif grade>=80:\n",
    "    print('B')\n",
    "elif grade>=70:\n",
    "    print('c')\n",
    "elif grade>=60:\n",
    "    print('D')\n",
    "else:\n",
    "    print('F')"
   ]
  },
  {
   "cell_type": "markdown",
   "id": "fb9c9548",
   "metadata": {},
   "source": [
    "###### Write a program that calculates the Body Mass Index (BMI) of a person. The user should input their weight in kilograms and height in meters. The program should then print whether the person is underweight, normal weight, overweight, or obese"
   ]
  },
  {
   "cell_type": "code",
   "execution_count": 1,
   "id": "3a572d3b",
   "metadata": {},
   "outputs": [
    {
     "name": "stdout",
     "output_type": "stream",
     "text": [
      "Enter your weight in kg: 56\n",
      "Enter your height in mts: 6.0\n",
      "underweight\n"
     ]
    }
   ],
   "source": [
    "kg = int(input(\"Enter your weight in kg: \"))\n",
    "m = float(input(\"Enter your height in mts: \"))\n",
    "\n",
    "bmi = kg / (m ** 2)\n",
    "\n",
    "if bmi < 20:\n",
    "    print(\"underweight\")\n",
    "elif 20 <= bmi < 25:\n",
    "    print(\"normal weight\")\n",
    "elif 25 <= bmi < 30:\n",
    "    print(\"overweight\")\n",
    "else:\n",
    "    print(\"obese\")"
   ]
  },
  {
   "cell_type": "markdown",
   "id": "002b0ea1",
   "metadata": {},
   "source": [
    "##### Write a program that asks the user for three numbers and prints the maximum of the three."
   ]
  },
  {
   "cell_type": "code",
   "execution_count": 33,
   "id": "b5a1f892",
   "metadata": {},
   "outputs": [
    {
     "name": "stdout",
     "output_type": "stream",
     "text": [
      "entre first user num:6\n",
      "enter secound user num8\n",
      "enter third user num5\n",
      "8.0\n"
     ]
    }
   ],
   "source": [
    "user1=float(input('entre first user num:'))\n",
    "user2=float(input('enter secound user num'))\n",
    "user3=float(input('enter third user num'))\n",
    "\n",
    "print(max(user1,user2,user3))"
   ]
  },
  {
   "cell_type": "markdown",
   "id": "a719aeb2",
   "metadata": {},
   "source": [
    "###### Write a program that asks the user for a temperature (in Celsius) and prints \"It's freezing\" if the temperature is below 0, \"It's cool\" if it's between 0 and 10, \"It's warm\" if it's between 10 and 20, and \"It's hot\" if it's above 20"
   ]
  },
  {
   "cell_type": "code",
   "execution_count": 38,
   "id": "70197e25",
   "metadata": {},
   "outputs": [
    {
     "name": "stdout",
     "output_type": "stream",
     "text": [
      "Enter the temperature:26\n",
      "its hot\n"
     ]
    }
   ],
   "source": [
    "temperature = float(input(\"Enter the temperature:\"))\n",
    "\n",
    "if temperature <0:\n",
    "    print('its freezing')\n",
    "elif temperature<=10:\n",
    "    print('its cool')\n",
    "elif temperature<=20:\n",
    "    print('its warm')\n",
    "else:\n",
    "    print('its hot')"
   ]
  },
  {
   "cell_type": "code",
   "execution_count": 39,
   "id": "49f95655",
   "metadata": {},
   "outputs": [
    {
     "name": "stdout",
     "output_type": "stream",
     "text": [
      "Enter the temperature:-5\n",
      "its freezing\n"
     ]
    }
   ],
   "source": [
    "temperature = float(input(\"Enter the temperature:\"))\n",
    "\n",
    "if temperature <0:\n",
    "    print('its freezing')\n",
    "elif temperature<=10:\n",
    "    print('its cool')\n",
    "elif temperature<=20:\n",
    "    print('its warm')\n",
    "else:\n",
    "    print('its hot')"
   ]
  },
  {
   "cell_type": "markdown",
   "id": "c41d2ec7",
   "metadata": {},
   "source": [
    "##### Write a program that asks the user for a number (1-7) and prints the corresponding day of the week."
   ]
  },
  {
   "cell_type": "code",
   "execution_count": 3,
   "id": "53a6aa48",
   "metadata": {},
   "outputs": [
    {
     "name": "stdout",
     "output_type": "stream",
     "text": [
      "enter a valid num(1-7): 6\n",
      "friday\n"
     ]
    }
   ],
   "source": [
    "days= int(input('enter a valid num(1-7): '))\n",
    "\n",
    "if days==1:\n",
    "    print('sunday')\n",
    "elif days==2:\n",
    "    print('monday')\n",
    "elif days==3:\n",
    "    print('tuesday')\n",
    "elif days==4:\n",
    "    print('wednesday')\n",
    "elif days==5:\n",
    "    print('thursday')\n",
    "elif days==6:\n",
    "    print('friday')\n",
    "elif days==7:\n",
    "    print('saturday')\n",
    "else:\n",
    "    print('invalid')"
   ]
  },
  {
   "cell_type": "markdown",
   "id": "c515132f",
   "metadata": {},
   "source": [
    "##### Write a program that asks the user for a number and prints \"In range\" if the number is between 10 and 20 (inclusive), and \"Out of range\" otherwise."
   ]
  },
  {
   "cell_type": "code",
   "execution_count": 3,
   "id": "e161e1e3",
   "metadata": {},
   "outputs": [
    {
     "name": "stdout",
     "output_type": "stream",
     "text": [
      "Enter number: 26\n",
      "Out of range\n"
     ]
    }
   ],
   "source": [
    "num = int(input('Enter number: '))\n",
    "\n",
    "if num in range(10, 20):\n",
    "    print(\"In range\")\n",
    "else:\n",
    "    print(\"Out of range\")"
   ]
  },
  {
   "cell_type": "markdown",
   "id": "038e6099",
   "metadata": {},
   "source": [
    "###### Write a program that asks the user for an integer and prints whether it's even or odd."
   ]
  },
  {
   "cell_type": "code",
   "execution_count": 4,
   "id": "6255b7f1",
   "metadata": {},
   "outputs": [
    {
     "name": "stdout",
     "output_type": "stream",
     "text": [
      "Enter number: 5\n",
      "Odd\n"
     ]
    }
   ],
   "source": [
    "num = int(input('Enter number: '))\n",
    "\n",
    "if num%2 == 0:\n",
    "    print('Even')\n",
    "else:\n",
    "    print('Odd')"
   ]
  }
 ],
 "metadata": {
  "kernelspec": {
   "display_name": "Python 3 (ipykernel)",
   "language": "python",
   "name": "python3"
  },
  "language_info": {
   "codemirror_mode": {
    "name": "ipython",
    "version": 3
   },
   "file_extension": ".py",
   "mimetype": "text/x-python",
   "name": "python",
   "nbconvert_exporter": "python",
   "pygments_lexer": "ipython3",
   "version": "3.11.5"
  }
 },
 "nbformat": 4,
 "nbformat_minor": 5
}
