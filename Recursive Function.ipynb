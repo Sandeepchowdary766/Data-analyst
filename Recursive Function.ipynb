{
 "cells": [
  {
   "cell_type": "markdown",
   "id": "8265337f",
   "metadata": {},
   "source": [
    "### Recursive function\n",
    "* A recursive function in Python is a function that calls itself during its execution. Recursive functions can be a powerful tool in solving problems that can be broken down into smaller, similar subproblems."
   ]
  },
  {
   "cell_type": "code",
   "execution_count": 2,
   "id": "4a06c223",
   "metadata": {},
   "outputs": [
    {
     "data": {
      "text/plain": [
       "120"
      ]
     },
     "execution_count": 2,
     "metadata": {},
     "output_type": "execute_result"
    }
   ],
   "source": [
    "def foorecfact(n):\n",
    "    if n==1:\n",
    "        return 1 # base condition\n",
    "    else:\n",
    "        return n*foorecfact(n-1)\n",
    "foorecfact(5)"
   ]
  },
  {
   "cell_type": "markdown",
   "id": "b9474077",
   "metadata": {},
   "source": [
    "* frf------>1   1\n",
    "* frf(2)--->2*frf(1)\n",
    "* frf(3)--->3*frf(2)\n",
    "* frf(4)--->4*frf(3)\n",
    "* frf(5)--->5*frf(4)"
   ]
  },
  {
   "cell_type": "markdown",
   "id": "5549e453",
   "metadata": {},
   "source": [
    "##### Fibonacci series\n",
    "* The Fibonacci series is a sequence of numbers where each number is the sum of the two preceding ones. The sequence starts with 0 and 1.\n",
    "* f(n)=f(n-1)+f(n-2)"
   ]
  },
  {
   "cell_type": "code",
   "execution_count": 3,
   "id": "1d49336a",
   "metadata": {},
   "outputs": [
    {
     "data": {
      "text/plain": [
       "3"
      ]
     },
     "execution_count": 3,
     "metadata": {},
     "output_type": "execute_result"
    }
   ],
   "source": [
    "def foorecfib(n):\n",
    "    if n<=0:\n",
    "        return 0\n",
    "    elif n==1:\n",
    "        return 0\n",
    "    elif n==2:\n",
    "        return 1\n",
    "    else:\n",
    "        return foorecfib(n-1)+foorecfib(n-2)\n",
    "foorecfib(5)"
   ]
  },
  {
   "cell_type": "code",
   "execution_count": 5,
   "id": "430df939",
   "metadata": {},
   "outputs": [
    {
     "name": "stdout",
     "output_type": "stream",
     "text": [
      "0,0,1,1,2,"
     ]
    }
   ],
   "source": [
    "for i in range(5):\n",
    "    print(foorecfib(i),end=',')"
   ]
  },
  {
   "cell_type": "markdown",
   "id": "4b5ec63d",
   "metadata": {},
   "source": [
    "### args & kwargs"
   ]
  },
  {
   "cell_type": "markdown",
   "id": "c46cf25b",
   "metadata": {},
   "source": [
    "args:-\n",
    "'*args' (Arbitrary Arguments):\n",
    "\n",
    "* The *args syntax allows a function to accept a variable number of positional arguments.\n",
    "* When a function parameter is prefixed with an asterisk (*), it collects any extra positional arguments into a tuple."
   ]
  },
  {
   "cell_type": "code",
   "execution_count": 36,
   "id": "71b5d05a",
   "metadata": {},
   "outputs": [],
   "source": [
    "def foo(a,b,c=0,*args,**kwargs):\n",
    "    r=a+b+c\n",
    "    for arg in args:\n",
    "        r+=arg\n",
    "    return r"
   ]
  },
  {
   "cell_type": "code",
   "execution_count": 37,
   "id": "509d90f7",
   "metadata": {},
   "outputs": [
    {
     "data": {
      "text/plain": [
       "21"
      ]
     },
     "execution_count": 37,
     "metadata": {},
     "output_type": "execute_result"
    }
   ],
   "source": [
    "foo(1,2,3,*(4,5,6))"
   ]
  },
  {
   "cell_type": "code",
   "execution_count": 38,
   "id": "7b33f18d",
   "metadata": {},
   "outputs": [
    {
     "data": {
      "text/plain": [
       "21"
      ]
     },
     "execution_count": 38,
     "metadata": {},
     "output_type": "execute_result"
    }
   ],
   "source": [
    "foo(1,2,3,*(4,5,6),**{'marks':[1,2,3]})"
   ]
  },
  {
   "cell_type": "code",
   "execution_count": 48,
   "id": "4d9eb9d5",
   "metadata": {},
   "outputs": [],
   "source": [
    "def foostumarks(**kwargs):\n",
    "    for kwarg in kwargs:\n",
    "        print(f'Total marks scored by {kwarg}is {sum(kwargs[kwarg])}')"
   ]
  },
  {
   "cell_type": "code",
   "execution_count": 50,
   "id": "e97cb9dd",
   "metadata": {},
   "outputs": [
    {
     "name": "stdout",
     "output_type": "stream",
     "text": [
      "Total marks scored by ramis 60\n",
      "Total marks scored by rahimis 60\n",
      "Total marks scored by sandeepis 60\n"
     ]
    }
   ],
   "source": [
    "foostumarks(**{'ram':(10,20,30),'rahim':[30,20,10],'sandeep':[10,20,30]})"
   ]
  }
 ],
 "metadata": {
  "kernelspec": {
   "display_name": "Python 3 (ipykernel)",
   "language": "python",
   "name": "python3"
  },
  "language_info": {
   "codemirror_mode": {
    "name": "ipython",
    "version": 3
   },
   "file_extension": ".py",
   "mimetype": "text/x-python",
   "name": "python",
   "nbconvert_exporter": "python",
   "pygments_lexer": "ipython3",
   "version": "3.11.5"
  }
 },
 "nbformat": 4,
 "nbformat_minor": 5
}
