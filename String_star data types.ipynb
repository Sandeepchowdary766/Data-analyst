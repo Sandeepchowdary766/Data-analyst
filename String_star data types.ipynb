{
 "cells": [
  {
   "cell_type": "markdown",
   "id": "2d43cb7a",
   "metadata": {},
   "source": [
    "## Strings"
   ]
  },
  {
   "cell_type": "markdown",
   "id": "51b1efaf",
   "metadata": {},
   "source": [
    "* strings are characters or a sequence of characters ,enclose in qoutes(single,double,triple-singel or triple double quotes)\n",
    "* triple qouates are used as multiline strings or multiline comments and as doc strings."
   ]
  },
  {
   "cell_type": "markdown",
   "id": "20acdb6c",
   "metadata": {},
   "source": [
    "## Creating strings"
   ]
  },
  {
   "cell_type": "code",
   "execution_count": 7,
   "id": "9dfc44c2",
   "metadata": {},
   "outputs": [
    {
     "name": "stdout",
     "output_type": "stream",
     "text": [
      "this is a string, encloseed in singel qouates\n",
      "this is a Stringing, encloseed in double qouates\n",
      "this a multistring, enclosed in triple qoutes\n"
     ]
    }
   ],
   "source": [
    "s1='this is a string, encloseed in singel qouates'\n",
    "s2=\"this is a Stringing, encloseed in double qouates\"\n",
    "s3='''this a multistring, enclosed in triple qoutes'''\n",
    "print(s1,s2,s3, sep='\\n')"
   ]
  },
  {
   "cell_type": "code",
   "execution_count": 6,
   "id": "35749153",
   "metadata": {},
   "outputs": [
    {
     "data": {
      "text/plain": [
       "'this is an informative mltiline comments ,creating by ussing tripule double qouates'"
      ]
     },
     "execution_count": 6,
     "metadata": {},
     "output_type": "execute_result"
    }
   ],
   "source": [
    "\"\"\"this is an informative mltiline comments ,creating by ussing tripule double qouates\"\"\""
   ]
  },
  {
   "cell_type": "code",
   "execution_count": 3,
   "id": "8e8b4ba9",
   "metadata": {},
   "outputs": [
    {
     "name": "stdout",
     "output_type": "stream",
     "text": [
      "this cup now belong's to india\n"
     ]
    }
   ],
   "source": [
    "a=\"this cup now belong's to india\"\n",
    "print(a)"
   ]
  },
  {
   "cell_type": "code",
   "execution_count": 4,
   "id": "8ebde450",
   "metadata": {},
   "outputs": [
    {
     "data": {
      "text/plain": [
       "\"this cup now belong's to india\""
      ]
     },
     "execution_count": 4,
     "metadata": {},
     "output_type": "execute_result"
    }
   ],
   "source": [
    "a=\"this cup now belong\\'s to india\"\n",
    "a"
   ]
  },
  {
   "cell_type": "markdown",
   "id": "5ff1cb99",
   "metadata": {},
   "source": [
    "#### Escape Charecters"
   ]
  },
  {
   "cell_type": "code",
   "execution_count": 3,
   "id": "889b486b",
   "metadata": {},
   "outputs": [
    {
     "name": "stdout",
     "output_type": "stream",
     "text": [
      "a\n",
      "b\n",
      "a\tb\n",
      "ab\r",
      "c\n"
     ]
    }
   ],
   "source": [
    "print('a\\nb') # new line  # Escape path\n",
    "print('a\\tb') # tab/four spaces\n",
    "print('ab\\rc') # movies the cursur to start of the line"
   ]
  },
  {
   "cell_type": "markdown",
   "id": "720cc5f7",
   "metadata": {},
   "source": [
    "## Raw strings and formating strings"
   ]
  },
  {
   "cell_type": "markdown",
   "id": "d3ab8034",
   "metadata": {},
   "source": [
    "* reading everything in raw form\n",
    "* a special type of string that allows you to include backslashes ( \\ ) without interpreting them as escape sequences."
   ]
  },
  {
   "cell_type": "code",
   "execution_count": 3,
   "id": "56b4abe8",
   "metadata": {},
   "outputs": [
    {
     "name": "stdout",
     "output_type": "stream",
     "text": [
      "c:\u0007bc:\\jps\n",
      "c:/abc/newfolder/j.jpg\n"
     ]
    }
   ],
   "source": [
    "# r-strings\n",
    "print('c:\\abc:\\jps')\n",
    "print(r'c:/abc/newfolder/j.jpg')"
   ]
  },
  {
   "cell_type": "code",
   "execution_count": 10,
   "id": "cce06b8d",
   "metadata": {},
   "outputs": [
    {
     "name": "stdout",
     "output_type": "stream",
     "text": [
      "the volume of a cylinder,whose radius is 5 whose height is 7 is 550.0\n",
      "the vol of cylinder ,whose radius and height  is 5 and 7 respectively and the volume uis 550.0\n"
     ]
    }
   ],
   "source": [
    "r,h=5,7\n",
    "vol=(22/7)*(r**2)*h\n",
    "print('the volume of a cylinder,whose radius is',r, 'whose height is',h,'is',vol)\n",
    "print(f'the vol of cylinder ,whose radius and height  is {r} and {h} respectively and the volume uis {vol}')"
   ]
  },
  {
   "cell_type": "markdown",
   "id": "588f46a3",
   "metadata": {},
   "source": [
    "##  strings can be indexed :“Indexing” means referring to an element of an iterable by its position within the iterable.\n",
    "\n",
    "* ince strings are sequence of chars,and this seq has an indexing value."
   ]
  },
  {
   "cell_type": "markdown",
   "id": "0be709b7",
   "metadata": {},
   "source": [
    "# Indexing is of two types\n",
    "* Accessing Characters by Positive Index Number\n",
    "* Accessing Characters by Negative Index Number"
   ]
  },
  {
   "cell_type": "markdown",
   "id": "1dde40d9",
   "metadata": {},
   "source": [
    "# positive indexing:\n",
    "* in positive indexing ,we move from left to right and the start index is '0' and the end index is 'n-1',where n is len of the string."
   ]
  },
  {
   "cell_type": "code",
   "execution_count": 12,
   "id": "76056dc6",
   "metadata": {},
   "outputs": [
    {
     "name": "stdout",
     "output_type": "stream",
     "text": [
      "h\n"
     ]
    }
   ],
   "source": [
    "x='python'\n",
    "print(x[3]) # accesing \"h\" positive indexing"
   ]
  },
  {
   "cell_type": "markdown",
   "id": "c58e3804",
   "metadata": {},
   "source": [
    "## Negitive Indexing:\n",
    "* in negitive indexing , we movie from right  to left and thr starts index is '-1' and the ens index is -n,where 'n' is 'len of string'."
   ]
  },
  {
   "cell_type": "code",
   "execution_count": 11,
   "id": "15f1430a",
   "metadata": {},
   "outputs": [
    {
     "name": "stdout",
     "output_type": "stream",
     "text": [
      "h\n"
     ]
    }
   ],
   "source": [
    "print(x[-3]) # accesing \"h\" using nagitive indexing"
   ]
  },
  {
   "cell_type": "markdown",
   "id": "ba79fac7",
   "metadata": {},
   "source": [
    "## Slicing"
   ]
  },
  {
   "cell_type": "markdown",
   "id": "6f685a2c",
   "metadata": {},
   "source": [
    "* the extraction of a part of a string, list, or tuple.\n",
    "\n",
    "* it can be viewed as : Collection[start:end:step]\n",
    "* start position is a and end is n so we start with a and we stop until m as n is not considered\n",
    "\n",
    "1. start\n",
    "2. end\n",
    "3. step sclicing"
   ]
  },
  {
   "cell_type": "markdown",
   "id": "54c9149f",
   "metadata": {},
   "source": [
    "#### Slicing using positive indexing"
   ]
  },
  {
   "cell_type": "code",
   "execution_count": 13,
   "id": "5a680554",
   "metadata": {},
   "outputs": [
    {
     "name": "stdout",
     "output_type": "stream",
     "text": [
      " i am not sur\n",
      " i am not sure what to take as a example \n",
      "41\n",
      "  mntsr htt aea  xml \n",
      " i am not sure what to take as a example \n",
      " i am not sure what to take as a example \n",
      " wha\n"
     ]
    }
   ],
   "source": [
    "x=  ' i am not sure what to take as a example '\n",
    "print(x[0:13])\n",
    "print(x[0:41])\n",
    "print(len(x))\n",
    "print(x[0:41:2])\n",
    "print(x[0:41:1])\n",
    "print(x[::])\n",
    "print(x[14:18])"
   ]
  },
  {
   "cell_type": "code",
   "execution_count": 14,
   "id": "d8eba826",
   "metadata": {},
   "outputs": [
    {
     "name": "stdout",
     "output_type": "stream",
     "text": [
      "python\n",
      "nohtyp\n"
     ]
    },
    {
     "data": {
      "text/plain": [
       "'nohty'"
      ]
     },
     "execution_count": 14,
     "metadata": {},
     "output_type": "execute_result"
    }
   ],
   "source": [
    "x= 'python'\n",
    "print(x)\n",
    "print(x[::-1])\n",
    "x[-1:-6:-1]"
   ]
  },
  {
   "cell_type": "markdown",
   "id": "59ec8f36",
   "metadata": {},
   "source": [
    "### Slicing using Reverce indexing \\ negative indexing"
   ]
  },
  {
   "cell_type": "code",
   "execution_count": 16,
   "id": "c4cbc134",
   "metadata": {},
   "outputs": [
    {
     "name": "stdout",
     "output_type": "stream",
     "text": [
      "reverce\n"
     ]
    },
    {
     "data": {
      "text/plain": [
       "'ecrever'"
      ]
     },
     "execution_count": 16,
     "metadata": {},
     "output_type": "execute_result"
    }
   ],
   "source": [
    "x='reverce'\n",
    "print(x)\n",
    "x[-1:-8:-1]"
   ]
  },
  {
   "cell_type": "code",
   "execution_count": 17,
   "id": "af30fedd",
   "metadata": {},
   "outputs": [
    {
     "data": {
      "text/plain": [
       "'ecrev'"
      ]
     },
     "execution_count": 17,
     "metadata": {},
     "output_type": "execute_result"
    }
   ],
   "source": [
    "x[-1:-6:-1]"
   ]
  },
  {
   "cell_type": "code",
   "execution_count": 20,
   "id": "5363dfbf",
   "metadata": {},
   "outputs": [
    {
     "data": {
      "text/plain": [
       "''"
      ]
     },
     "execution_count": 20,
     "metadata": {},
     "output_type": "execute_result"
    }
   ],
   "source": [
    "x='sandeep'\n",
    "x[5:8:-1]"
   ]
  },
  {
   "cell_type": "markdown",
   "id": "695f84fc",
   "metadata": {},
   "source": [
    "## Concatnation of strings:\n",
    "* adding two strings"
   ]
  },
  {
   "cell_type": "code",
   "execution_count": 22,
   "id": "b6823756",
   "metadata": {},
   "outputs": [
    {
     "data": {
      "text/plain": [
       "'viratkohli'"
      ]
     },
     "execution_count": 22,
     "metadata": {},
     "output_type": "execute_result"
    }
   ],
   "source": [
    "a, b= 'virat' ,'kohli'\n",
    "c=a+b\n",
    "c"
   ]
  },
  {
   "cell_type": "code",
   "execution_count": 11,
   "id": "7d18c6fe",
   "metadata": {},
   "outputs": [
    {
     "data": {
      "text/plain": [
       "'chsandeep'"
      ]
     },
     "execution_count": 11,
     "metadata": {},
     "output_type": "execute_result"
    }
   ],
   "source": [
    "a,b= 'ch', 'sandeep'\n",
    "c=a+b\n",
    "c"
   ]
  },
  {
   "cell_type": "code",
   "execution_count": 12,
   "id": "5e1621cd",
   "metadata": {},
   "outputs": [
    {
     "data": {
      "text/plain": [
       "'chsandeepchsandeepchsandeep'"
      ]
     },
     "execution_count": 12,
     "metadata": {},
     "output_type": "execute_result"
    }
   ],
   "source": [
    "c*=3\n",
    "c"
   ]
  }
 ],
 "metadata": {
  "kernelspec": {
   "display_name": "Python 3 (ipykernel)",
   "language": "python",
   "name": "python3"
  },
  "language_info": {
   "codemirror_mode": {
    "name": "ipython",
    "version": 3
   },
   "file_extension": ".py",
   "mimetype": "text/x-python",
   "name": "python",
   "nbconvert_exporter": "python",
   "pygments_lexer": "ipython3",
   "version": "3.11.5"
  }
 },
 "nbformat": 4,
 "nbformat_minor": 5
}
