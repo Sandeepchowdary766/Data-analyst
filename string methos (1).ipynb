{
 "cells": [
  {
   "cell_type": "markdown",
   "id": "beb563c6",
   "metadata": {},
   "source": [
    "# Ascii values\n",
    "* Here we have the some values for each and every character called 'ascii'. The characters that can be in the form of upper        function and lower function of alphabets like, (A,B,C,D,...),(a,b,c,d,...)."
   ]
  },
  {
   "cell_type": "code",
   "execution_count": 1,
   "id": "618b2656",
   "metadata": {},
   "outputs": [
    {
     "data": {
      "text/plain": [
       "65"
      ]
     },
     "execution_count": 1,
     "metadata": {},
     "output_type": "execute_result"
    }
   ],
   "source": [
    "'Apple'\n",
    "ord('A')"
   ]
  },
  {
   "cell_type": "code",
   "execution_count": 4,
   "id": "4635e53d",
   "metadata": {},
   "outputs": [
    {
     "data": {
      "text/plain": [
       "97"
      ]
     },
     "execution_count": 4,
     "metadata": {},
     "output_type": "execute_result"
    }
   ],
   "source": [
    "ord('a')"
   ]
  },
  {
   "cell_type": "markdown",
   "id": "3704a100",
   "metadata": {},
   "source": [
    "## Methods in strings\n",
    "* Here we have in built strings in python, these are the tools and each string has a new memory location."
   ]
  },
  {
   "cell_type": "code",
   "execution_count": 10,
   "id": "a6627677",
   "metadata": {},
   "outputs": [
    {
     "name": "stdout",
     "output_type": "stream",
     "text": [
      "python <class 'str'>\n"
     ]
    }
   ],
   "source": [
    "x='python'\n",
    "print(x,type(x))"
   ]
  },
  {
   "cell_type": "code",
   "execution_count": 8,
   "id": "8348b0b9",
   "metadata": {},
   "outputs": [
    {
     "data": {
      "text/plain": [
       "['__add__',\n",
       " '__class__',\n",
       " '__contains__',\n",
       " '__delattr__',\n",
       " '__dir__',\n",
       " '__doc__',\n",
       " '__eq__',\n",
       " '__format__',\n",
       " '__ge__',\n",
       " '__getattribute__',\n",
       " '__getitem__',\n",
       " '__getnewargs__',\n",
       " '__getstate__',\n",
       " '__gt__',\n",
       " '__hash__',\n",
       " '__init__',\n",
       " '__init_subclass__',\n",
       " '__iter__',\n",
       " '__le__',\n",
       " '__len__',\n",
       " '__lt__',\n",
       " '__mod__',\n",
       " '__mul__',\n",
       " '__ne__',\n",
       " '__new__',\n",
       " '__reduce__',\n",
       " '__reduce_ex__',\n",
       " '__repr__',\n",
       " '__rmod__',\n",
       " '__rmul__',\n",
       " '__setattr__',\n",
       " '__sizeof__',\n",
       " '__str__',\n",
       " '__subclasshook__',\n",
       " 'capitalize',\n",
       " 'casefold',\n",
       " 'center',\n",
       " 'count',\n",
       " 'encode',\n",
       " 'endswith',\n",
       " 'expandtabs',\n",
       " 'find',\n",
       " 'format',\n",
       " 'format_map',\n",
       " 'index',\n",
       " 'isalnum',\n",
       " 'isalpha',\n",
       " 'isascii',\n",
       " 'isdecimal',\n",
       " 'isdigit',\n",
       " 'isidentifier',\n",
       " 'islower',\n",
       " 'isnumeric',\n",
       " 'isprintable',\n",
       " 'isspace',\n",
       " 'istitle',\n",
       " 'isupper',\n",
       " 'join',\n",
       " 'ljust',\n",
       " 'lower',\n",
       " 'lstrip',\n",
       " 'maketrans',\n",
       " 'partition',\n",
       " 'removeprefix',\n",
       " 'removesuffix',\n",
       " 'replace',\n",
       " 'rfind',\n",
       " 'rindex',\n",
       " 'rjust',\n",
       " 'rpartition',\n",
       " 'rsplit',\n",
       " 'rstrip',\n",
       " 'split',\n",
       " 'splitlines',\n",
       " 'startswith',\n",
       " 'strip',\n",
       " 'swapcase',\n",
       " 'title',\n",
       " 'translate',\n",
       " 'upper',\n",
       " 'zfill']"
      ]
     },
     "execution_count": 8,
     "metadata": {},
     "output_type": "execute_result"
    }
   ],
   "source": [
    "dir('x') # directory"
   ]
  },
  {
   "cell_type": "markdown",
   "id": "33affdce",
   "metadata": {},
   "source": [
    "## lower case\n",
    "* In pyhton the lower() function will convert the whole characters into lower() function form like (a,b,c,d,....)"
   ]
  },
  {
   "cell_type": "code",
   "execution_count": 11,
   "id": "ef972d4f",
   "metadata": {},
   "outputs": [
    {
     "name": "stdout",
     "output_type": "stream",
     "text": [
      "PYTHON\n"
     ]
    },
    {
     "data": {
      "text/plain": [
       "'python'"
      ]
     },
     "execution_count": 11,
     "metadata": {},
     "output_type": "execute_result"
    }
   ],
   "source": [
    "x='PYTHON'\n",
    "print(x)\n",
    "x.lower()"
   ]
  },
  {
   "cell_type": "markdown",
   "id": "10e4142d",
   "metadata": {},
   "source": [
    "## upper case\n",
    "* In pyhton the upper() function will convert the whole characters into upper() function form like (A,B,C,D,....)."
   ]
  },
  {
   "cell_type": "code",
   "execution_count": 15,
   "id": "878d2221",
   "metadata": {},
   "outputs": [
    {
     "name": "stdout",
     "output_type": "stream",
     "text": [
      "python\n"
     ]
    },
    {
     "data": {
      "text/plain": [
       "'PYTHON'"
      ]
     },
     "execution_count": 15,
     "metadata": {},
     "output_type": "execute_result"
    }
   ],
   "source": [
    "xs= 'python'\n",
    "print(xs)\n",
    "xs.upper()"
   ]
  },
  {
   "cell_type": "markdown",
   "id": "3dcf8f97",
   "metadata": {},
   "source": [
    "## Toung  twister"
   ]
  },
  {
   "cell_type": "code",
   "execution_count": 16,
   "id": "e904157b",
   "metadata": {},
   "outputs": [
    {
     "name": "stdout",
     "output_type": "stream",
     "text": [
      "Peter Piper picked a peck of pickled peppers\n"
     ]
    },
    {
     "data": {
      "text/plain": [
       "1604900448528"
      ]
     },
     "execution_count": 16,
     "metadata": {},
     "output_type": "execute_result"
    }
   ],
   "source": [
    "x='Peter Piper picked a peck of pickled peppers'\n",
    "print(x)\n",
    "id(x)"
   ]
  },
  {
   "cell_type": "code",
   "execution_count": 18,
   "id": "fa541766",
   "metadata": {},
   "outputs": [
    {
     "name": "stdout",
     "output_type": "stream",
     "text": [
      "Peter Piper picked a peck of pickled peppers\n"
     ]
    }
   ],
   "source": [
    "xu='Peter Piper picked a peck of pickled peppers'\n",
    "print(xu)"
   ]
  },
  {
   "cell_type": "code",
   "execution_count": 20,
   "id": "1a7cba86",
   "metadata": {},
   "outputs": [
    {
     "data": {
      "text/plain": [
       "'PETER PIPER PICKED A PECK OF PICKLED PEPPERS'"
      ]
     },
     "execution_count": 20,
     "metadata": {},
     "output_type": "execute_result"
    }
   ],
   "source": [
    "xu=x.upper()\n",
    "xu"
   ]
  },
  {
   "cell_type": "code",
   "execution_count": 21,
   "id": "aeccbf76",
   "metadata": {},
   "outputs": [
    {
     "data": {
      "text/plain": [
       "1604899445552"
      ]
     },
     "execution_count": 21,
     "metadata": {},
     "output_type": "execute_result"
    }
   ],
   "source": [
    "id(xu)"
   ]
  },
  {
   "cell_type": "markdown",
   "id": "e46384eb",
   "metadata": {},
   "source": [
    "* strings are <u> immutable,</u> the resulting strings from strings methods have a new memory location\n",
    "* <u> in order to use these strings we need teassign it to a variable</u>"
   ]
  },
  {
   "cell_type": "markdown",
   "id": "12cc0df3",
   "metadata": {},
   "source": [
    "## lower()"
   ]
  },
  {
   "cell_type": "code",
   "execution_count": 22,
   "id": "2682685c",
   "metadata": {},
   "outputs": [
    {
     "data": {
      "text/plain": [
       "'peter piper picked a peck of pickled peppers'"
      ]
     },
     "execution_count": 22,
     "metadata": {},
     "output_type": "execute_result"
    }
   ],
   "source": [
    "xu.lower()"
   ]
  },
  {
   "cell_type": "markdown",
   "id": "471ce605",
   "metadata": {},
   "source": [
    "## Capitalize()\n",
    "* In pyhton capitalize() willconnvert the first character into capital letter and the remaining characters will be in lower    case."
   ]
  },
  {
   "cell_type": "code",
   "execution_count": 25,
   "id": "1d1ad1ee",
   "metadata": {},
   "outputs": [
    {
     "data": {
      "text/plain": [
       "'Peter piper picked a peck of pickled peppers'"
      ]
     },
     "execution_count": 25,
     "metadata": {},
     "output_type": "execute_result"
    }
   ],
   "source": [
    "xu.capitalize() ## first letter capital"
   ]
  },
  {
   "cell_type": "markdown",
   "id": "1e007a88",
   "metadata": {},
   "source": [
    "## Title()\n",
    "\n",
    "* The title function will convert the given input of a every string of first character into the uppercase form."
   ]
  },
  {
   "cell_type": "code",
   "execution_count": 27,
   "id": "607d379b",
   "metadata": {},
   "outputs": [
    {
     "data": {
      "text/plain": [
       "'Peter Piper Picked A Peck Of Pickled Peppers'"
      ]
     },
     "execution_count": 27,
     "metadata": {},
     "output_type": "execute_result"
    }
   ],
   "source": [
    "xu.title()"
   ]
  },
  {
   "cell_type": "code",
   "execution_count": 28,
   "id": "4c77ad83",
   "metadata": {},
   "outputs": [
    {
     "data": {
      "text/plain": [
       "'123Abc !Def Zx 1234! !@@C'"
      ]
     },
     "execution_count": 28,
     "metadata": {},
     "output_type": "execute_result"
    }
   ],
   "source": [
    "'123abc !def zx 1234! !@@c'.title()"
   ]
  },
  {
   "cell_type": "markdown",
   "id": "e73a363b",
   "metadata": {},
   "source": [
    "## Swapcase()\n",
    " \n",
    " *  The swapcase can change the input that you have given into [upper() to lower()] (or) [lower() to upper()] characters that are given by capital letter will transform into normal letters, normal letters will transfrom into capital letter."
   ]
  },
  {
   "cell_type": "code",
   "execution_count": 30,
   "id": "8938d75a",
   "metadata": {},
   "outputs": [
    {
     "data": {
      "text/plain": [
       "'Peter Piper Picked A Peck Of Pickled Peppers'"
      ]
     },
     "execution_count": 30,
     "metadata": {},
     "output_type": "execute_result"
    }
   ],
   "source": [
    "xt='Peter Piper Picked A Peck Of Pickled Peppers'\n",
    "xt"
   ]
  },
  {
   "cell_type": "code",
   "execution_count": 31,
   "id": "298d4457",
   "metadata": {},
   "outputs": [
    {
     "data": {
      "text/plain": [
       "'pETER pIPER pICKED a pECK oF pICKLED pEPPERS'"
      ]
     },
     "execution_count": 31,
     "metadata": {},
     "output_type": "execute_result"
    }
   ],
   "source": [
    "xt.swapcase()"
   ]
  },
  {
   "cell_type": "markdown",
   "id": "6e56f80a",
   "metadata": {},
   "source": [
    "## Casefold()\n",
    "* The casefold() changes string lower case to more lowercase, special character like germen character (ß) is already in lower case so, the lower method doesn’t make the conversion.\n",
    "\n",
    "The casefold() method will convert ß to its equivalent character ss."
   ]
  },
  {
   "cell_type": "code",
   "execution_count": 32,
   "id": "3ea5b381",
   "metadata": {},
   "outputs": [
    {
     "data": {
      "text/plain": [
       "'german ss is ss'"
      ]
     },
     "execution_count": 32,
     "metadata": {},
     "output_type": "execute_result"
    }
   ],
   "source": [
    "'German ss is ß'.casefold()"
   ]
  }
 ],
 "metadata": {
  "kernelspec": {
   "display_name": "Python 3 (ipykernel)",
   "language": "python",
   "name": "python3"
  },
  "language_info": {
   "codemirror_mode": {
    "name": "ipython",
    "version": 3
   },
   "file_extension": ".py",
   "mimetype": "text/x-python",
   "name": "python",
   "nbconvert_exporter": "python",
   "pygments_lexer": "ipython3",
   "version": "3.11.5"
  }
 },
 "nbformat": 4,
 "nbformat_minor": 5
}
