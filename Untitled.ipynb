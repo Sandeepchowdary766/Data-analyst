{
 "cells": [
  {
   "cell_type": "markdown",
   "id": "5ca170b9",
   "metadata": {},
   "source": [
    "## string methods\n",
    "#### find()\n",
    "\n",
    "* The find() method finds the first occurrence of the specified value.The find() method returns -1 if the value is not found.The find() method is almost the same as the index() method, the only difference is that the index() method raises an exception if the value is not found."
   ]
  },
  {
   "cell_type": "code",
   "execution_count": 1,
   "id": "565f0ae9",
   "metadata": {},
   "outputs": [
    {
     "name": "stdout",
     "output_type": "stream",
     "text": [
      "Help on method_descriptor:\n",
      "\n",
      "find(...)\n",
      "    S.find(sub[, start[, end]]) -> int\n",
      "    \n",
      "    Return the lowest index in S where substring sub is found,\n",
      "    such that sub is contained within S[start:end].  Optional\n",
      "    arguments start and end are interpreted as in slice notation.\n",
      "    \n",
      "    Return -1 on failure.\n",
      "\n"
     ]
    }
   ],
   "source": [
    "help(str.find)"
   ]
  },
  {
   "cell_type": "code",
   "execution_count": 2,
   "id": "14b4aa06",
   "metadata": {},
   "outputs": [
    {
     "data": {
      "text/plain": [
       "'Return the lowest index in S where substring sub is found,'"
      ]
     },
     "execution_count": 2,
     "metadata": {},
     "output_type": "execute_result"
    }
   ],
   "source": [
    "a='Return the lowest index in S where substring sub is found,'\n",
    "a"
   ]
  },
  {
   "cell_type": "code",
   "execution_count": 4,
   "id": "cfdc282d",
   "metadata": {},
   "outputs": [
    {
     "data": {
      "text/plain": [
       "13"
      ]
     },
     "execution_count": 4,
     "metadata": {},
     "output_type": "execute_result"
    }
   ],
   "source": [
    "a.find('w')"
   ]
  },
  {
   "cell_type": "code",
   "execution_count": 5,
   "id": "3e224196",
   "metadata": {},
   "outputs": [
    {
     "data": {
      "text/plain": [
       "29"
      ]
     },
     "execution_count": 5,
     "metadata": {},
     "output_type": "execute_result"
    }
   ],
   "source": [
    "a.find('w',14)"
   ]
  },
  {
   "cell_type": "code",
   "execution_count": 7,
   "id": "3713ef52",
   "metadata": {},
   "outputs": [
    {
     "data": {
      "text/plain": [
       "-1"
      ]
     },
     "execution_count": 7,
     "metadata": {},
     "output_type": "execute_result"
    }
   ],
   "source": [
    "a.find('w',0,13) # no value found"
   ]
  },
  {
   "cell_type": "markdown",
   "id": "cb8f213b",
   "metadata": {},
   "source": [
    "## count()\n",
    "* The count() method returns the number of elements with the specified value."
   ]
  },
  {
   "cell_type": "code",
   "execution_count": 8,
   "id": "db34bc70",
   "metadata": {},
   "outputs": [
    {
     "name": "stdout",
     "output_type": "stream",
     "text": [
      "Help on method_descriptor:\n",
      "\n",
      "count(...)\n",
      "    S.count(sub[, start[, end]]) -> int\n",
      "    \n",
      "    Return the number of non-overlapping occurrences of substring sub in\n",
      "    string S[start:end].  Optional arguments start and end are\n",
      "    interpreted as in slice notation.\n",
      "\n"
     ]
    }
   ],
   "source": [
    "help(str.count)"
   ]
  },
  {
   "cell_type": "code",
   "execution_count": 11,
   "id": "0c3c9078",
   "metadata": {},
   "outputs": [
    {
     "data": {
      "text/plain": [
       "1"
      ]
     },
     "execution_count": 11,
     "metadata": {},
     "output_type": "execute_result"
    }
   ],
   "source": [
    "a='Return the lowest index in S where substring sub is found,'\n",
    "a.count('where')"
   ]
  },
  {
   "cell_type": "markdown",
   "id": "36065843",
   "metadata": {},
   "source": [
    "* count() function is an inbuilt function in Python programming language that returns the number of occurrences of a substring in the given string."
   ]
  },
  {
   "cell_type": "markdown",
   "id": "df0b7f32",
   "metadata": {},
   "source": [
    "## R find()"
   ]
  },
  {
   "cell_type": "code",
   "execution_count": 12,
   "id": "1cfddf39",
   "metadata": {},
   "outputs": [
    {
     "data": {
      "text/plain": [
       "30"
      ]
     },
     "execution_count": 12,
     "metadata": {},
     "output_type": "execute_result"
    }
   ],
   "source": [
    "a.rfind('h') # right to left"
   ]
  },
  {
   "cell_type": "code",
   "execution_count": 13,
   "id": "c75ff2b7",
   "metadata": {},
   "outputs": [
    {
     "data": {
      "text/plain": [
       "-1"
      ]
     },
     "execution_count": 13,
     "metadata": {},
     "output_type": "execute_result"
    }
   ],
   "source": [
    "a.rfind('h',10,20)"
   ]
  },
  {
   "cell_type": "markdown",
   "id": "e30b504b",
   "metadata": {},
   "source": [
    "## Index()"
   ]
  },
  {
   "cell_type": "markdown",
   "id": "87c54ad1",
   "metadata": {},
   "source": [
    "* index() Method allows a user to find the index of the first occurrence of an existing substring."
   ]
  },
  {
   "cell_type": "code",
   "execution_count": 14,
   "id": "a1f9e781",
   "metadata": {},
   "outputs": [
    {
     "name": "stdout",
     "output_type": "stream",
     "text": [
      "sandeep\n"
     ]
    },
    {
     "data": {
      "text/plain": [
       "(1, 1)"
      ]
     },
     "execution_count": 14,
     "metadata": {},
     "output_type": "execute_result"
    }
   ],
   "source": [
    "m='sandeep'\n",
    "print(m)\n",
    "m.find('a'),m.index('a')"
   ]
  },
  {
   "cell_type": "code",
   "execution_count": 15,
   "id": "26947374",
   "metadata": {},
   "outputs": [
    {
     "ename": "ValueError",
     "evalue": "substring not found",
     "output_type": "error",
     "traceback": [
      "\u001b[1;31m---------------------------------------------------------------------------\u001b[0m",
      "\u001b[1;31mValueError\u001b[0m                                Traceback (most recent call last)",
      "Cell \u001b[1;32mIn[15], line 1\u001b[0m\n\u001b[1;32m----> 1\u001b[0m m\u001b[38;5;241m.\u001b[39mindex(\u001b[38;5;124m'\u001b[39m\u001b[38;5;124msandy\u001b[39m\u001b[38;5;124m'\u001b[39m)\n",
      "\u001b[1;31mValueError\u001b[0m: substring not found"
     ]
    }
   ],
   "source": [
    "m.index('sandy')"
   ]
  },
  {
   "cell_type": "markdown",
   "id": "b7ad5656",
   "metadata": {},
   "source": [
    "* Raises ValueError if the argument string is not found or the index is out of range."
   ]
  },
  {
   "cell_type": "markdown",
   "id": "144070b4",
   "metadata": {},
   "source": [
    "## R index()"
   ]
  },
  {
   "cell_type": "markdown",
   "id": "7c899335",
   "metadata": {},
   "source": [
    "* rindex() method returns the highest index of the substring inside the string if the substring is found. Otherwise, it raises ValueError."
   ]
  },
  {
   "cell_type": "code",
   "execution_count": 16,
   "id": "2bed5e90",
   "metadata": {},
   "outputs": [
    {
     "data": {
      "text/plain": [
       "1"
      ]
     },
     "execution_count": 16,
     "metadata": {},
     "output_type": "execute_result"
    }
   ],
   "source": [
    "m.rindex('a')"
   ]
  },
  {
   "cell_type": "markdown",
   "id": "ddcff4e7",
   "metadata": {},
   "source": [
    "## Replace"
   ]
  },
  {
   "cell_type": "markdown",
   "id": "eb976262",
   "metadata": {},
   "source": [
    "* replace() in Python returns a copy of the string where occurrences of a substring are replaced with another substring."
   ]
  },
  {
   "cell_type": "code",
   "execution_count": 18,
   "id": "1738babe",
   "metadata": {},
   "outputs": [
    {
     "name": "stdout",
     "output_type": "stream",
     "text": [
      "Help on built-in function replace:\n",
      "\n",
      "replace(old, new, count=-1, /) method of builtins.str instance\n",
      "    Return a copy with all occurrences of substring old replaced by new.\n",
      "    \n",
      "      count\n",
      "        Maximum number of occurrences to replace.\n",
      "        -1 (the default value) means replace all occurrences.\n",
      "    \n",
      "    If the optional argument count is given, only the first count occurrences are\n",
      "    replaced.\n",
      "\n"
     ]
    }
   ],
   "source": [
    "help(m.replace)"
   ]
  },
  {
   "cell_type": "code",
   "execution_count": 19,
   "id": "18492bce",
   "metadata": {},
   "outputs": [
    {
     "data": {
      "text/plain": [
       "'sAndeep'"
      ]
     },
     "execution_count": 19,
     "metadata": {},
     "output_type": "execute_result"
    }
   ],
   "source": [
    "m.replace('a','A')"
   ]
  },
  {
   "cell_type": "code",
   "execution_count": 20,
   "id": "8c6fe4e1",
   "metadata": {},
   "outputs": [
    {
     "data": {
      "text/plain": [
       "'sAndeep'"
      ]
     },
     "execution_count": 20,
     "metadata": {},
     "output_type": "execute_result"
    }
   ],
   "source": [
    "m.replace('a','A',2)"
   ]
  },
  {
   "cell_type": "markdown",
   "id": "177a189d",
   "metadata": {},
   "source": [
    "## Split"
   ]
  },
  {
   "cell_type": "code",
   "execution_count": 21,
   "id": "a0ce91c4",
   "metadata": {},
   "outputs": [
    {
     "data": {
      "text/plain": [
       "['Return',\n",
       " 'the',\n",
       " 'lowest',\n",
       " 'index',\n",
       " 'in',\n",
       " 'S',\n",
       " 'where',\n",
       " 'substring',\n",
       " 'sub',\n",
       " 'is',\n",
       " 'found,']"
      ]
     },
     "execution_count": 21,
     "metadata": {},
     "output_type": "execute_result"
    }
   ],
   "source": [
    "a.split()"
   ]
  },
  {
   "cell_type": "code",
   "execution_count": 22,
   "id": "167abb40",
   "metadata": {},
   "outputs": [
    {
     "data": {
      "text/plain": [
       "['Return',\n",
       " 'the',\n",
       " 'lowest',\n",
       " 'index',\n",
       " 'in',\n",
       " 'S',\n",
       " 'where',\n",
       " 'substring',\n",
       " 'sub',\n",
       " 'is',\n",
       " 'found,']"
      ]
     },
     "execution_count": 22,
     "metadata": {},
     "output_type": "execute_result"
    }
   ],
   "source": [
    "a.split(' ')"
   ]
  },
  {
   "cell_type": "code",
   "execution_count": 23,
   "id": "c376e62f",
   "metadata": {},
   "outputs": [
    {
     "data": {
      "text/plain": [
       "['Return', 'the', 'lowest', 'index', 'in', 'S where substring sub is found,']"
      ]
     },
     "execution_count": 23,
     "metadata": {},
     "output_type": "execute_result"
    }
   ],
   "source": [
    "a.split(' ',maxsplit=5)"
   ]
  },
  {
   "cell_type": "markdown",
   "id": "6644cca2",
   "metadata": {},
   "source": [
    "## rsplit()\n",
    "*rsplit() method returns a list of strings after breaking the given string from the right side by the specified separator."
   ]
  },
  {
   "cell_type": "code",
   "execution_count": 24,
   "id": "0d8e7401",
   "metadata": {},
   "outputs": [
    {
     "data": {
      "text/plain": [
       "['Return',\n",
       " 'the',\n",
       " 'lowest',\n",
       " 'index',\n",
       " 'in',\n",
       " 'S',\n",
       " 'where',\n",
       " 'substring',\n",
       " 'sub',\n",
       " 'is',\n",
       " 'found,']"
      ]
     },
     "execution_count": 24,
     "metadata": {},
     "output_type": "execute_result"
    }
   ],
   "source": [
    "a.rsplit()"
   ]
  },
  {
   "cell_type": "code",
   "execution_count": 25,
   "id": "c6564e2e",
   "metadata": {},
   "outputs": [
    {
     "data": {
      "text/plain": [
       "['Return the lowest index in S where', 'substring', 'sub', 'is', 'found,']"
      ]
     },
     "execution_count": 25,
     "metadata": {},
     "output_type": "execute_result"
    }
   ],
   "source": [
    "a.rsplit(maxsplit=4)"
   ]
  },
  {
   "cell_type": "code",
   "execution_count": 26,
   "id": "7a73694e",
   "metadata": {},
   "outputs": [
    {
     "data": {
      "text/plain": [
       "['Return', 'the', 'lowest', 'index', 'in S where substring sub is found,']"
      ]
     },
     "execution_count": 26,
     "metadata": {},
     "output_type": "execute_result"
    }
   ],
   "source": [
    "a.split(maxsplit=4)"
   ]
  },
  {
   "cell_type": "markdown",
   "id": "6eaeb565",
   "metadata": {},
   "source": [
    "## partition()\n",
    "* partition() method splits the string at the first occurrence of the separator and returns a tuple containing the part before the separator, the separator, and the part after the separator."
   ]
  },
  {
   "cell_type": "code",
   "execution_count": 27,
   "id": "3d1331fa",
   "metadata": {},
   "outputs": [
    {
     "data": {
      "text/plain": [
       "('Return', ' ', 'the lowest index in S where substring sub is found,')"
      ]
     },
     "execution_count": 27,
     "metadata": {},
     "output_type": "execute_result"
    }
   ],
   "source": [
    "a.partition(' ')"
   ]
  },
  {
   "cell_type": "code",
   "execution_count": 28,
   "id": "0be23956",
   "metadata": {},
   "outputs": [
    {
     "data": {
      "text/plain": [
       "['s', 'ndeep']"
      ]
     },
     "execution_count": 28,
     "metadata": {},
     "output_type": "execute_result"
    }
   ],
   "source": [
    "m.split('a')"
   ]
  },
  {
   "cell_type": "code",
   "execution_count": 29,
   "id": "4697e4ee",
   "metadata": {},
   "outputs": [
    {
     "data": {
      "text/plain": [
       "(('sa', 'n', 'deep'), ('sand', 'e', 'ep'))"
      ]
     },
     "execution_count": 29,
     "metadata": {},
     "output_type": "execute_result"
    }
   ],
   "source": [
    "m.partition('n') ,m.partition('e')"
   ]
  },
  {
   "cell_type": "code",
   "execution_count": 30,
   "id": "5a127c09",
   "metadata": {},
   "outputs": [
    {
     "data": {
      "text/plain": [
       "['sandeep']"
      ]
     },
     "execution_count": 30,
     "metadata": {},
     "output_type": "execute_result"
    }
   ],
   "source": [
    "m.split('z')"
   ]
  },
  {
   "cell_type": "code",
   "execution_count": 31,
   "id": "2e4f4e1e",
   "metadata": {},
   "outputs": [
    {
     "data": {
      "text/plain": [
       "('sandeep', '', '')"
      ]
     },
     "execution_count": 31,
     "metadata": {},
     "output_type": "execute_result"
    }
   ],
   "source": [
    "m.partition('z')"
   ]
  },
  {
   "cell_type": "code",
   "execution_count": 32,
   "id": "1e97dee9",
   "metadata": {},
   "outputs": [
    {
     "data": {
      "text/plain": [
       "'sandeep'"
      ]
     },
     "execution_count": 32,
     "metadata": {},
     "output_type": "execute_result"
    }
   ],
   "source": [
    "m.partition('z')[0]+m.partition('z')[1]+m.partition('z')[2]"
   ]
  },
  {
   "cell_type": "markdown",
   "id": "8fd2b24e",
   "metadata": {},
   "source": [
    "## rpartition()\n",
    "* rpartition() Method split the given string into three parts. rpartition() starts looking for separator from the right side, till the separator is found and return a tuple which contains part of the string before separator, the separator and the part after the separator."
   ]
  },
  {
   "cell_type": "code",
   "execution_count": 33,
   "id": "5870b707",
   "metadata": {},
   "outputs": [
    {
     "data": {
      "text/plain": [
       "('s', 'a', 'ndeep')"
      ]
     },
     "execution_count": 33,
     "metadata": {},
     "output_type": "execute_result"
    }
   ],
   "source": [
    "m.rpartition('a')"
   ]
  },
  {
   "cell_type": "code",
   "execution_count": 34,
   "id": "8598ce6a",
   "metadata": {},
   "outputs": [
    {
     "data": {
      "text/plain": [
       "('', '', 'sandeep')"
      ]
     },
     "execution_count": 34,
     "metadata": {},
     "output_type": "execute_result"
    }
   ],
   "source": [
    "m.rpartition('z')"
   ]
  }
 ],
 "metadata": {
  "kernelspec": {
   "display_name": "Python 3 (ipykernel)",
   "language": "python",
   "name": "python3"
  },
  "language_info": {
   "codemirror_mode": {
    "name": "ipython",
    "version": 3
   },
   "file_extension": ".py",
   "mimetype": "text/x-python",
   "name": "python",
   "nbconvert_exporter": "python",
   "pygments_lexer": "ipython3",
   "version": "3.11.5"
  }
 },
 "nbformat": 4,
 "nbformat_minor": 5
}
