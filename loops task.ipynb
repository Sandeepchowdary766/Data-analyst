{
 "cells": [
  {
   "cell_type": "markdown",
   "id": "fd4d301f",
   "metadata": {},
   "source": [
    "### loops task"
   ]
  },
  {
   "cell_type": "markdown",
   "id": "a4d59ff8",
   "metadata": {},
   "source": [
    "###### Write a function that returns the longest sequence of consecutive zeroes in a binary string."
   ]
  },
  {
   "cell_type": "code",
   "execution_count": 4,
   "id": "d2d7eb0c",
   "metadata": {},
   "outputs": [
    {
     "name": "stdout",
     "output_type": "stream",
     "text": [
      "binary string:100100001010000\n",
      "4\n"
     ]
    }
   ],
   "source": [
    "count=0\n",
    "max_count=0\n",
    "\n",
    "for char in input('binary string:'):# if the char is zero,increment the count by one\n",
    "    if char=='0':\n",
    "        count+=1\n",
    "    else: # id char is not a zero,rest the count to zero\n",
    "        count=0\n",
    "    max_count=max(max_count,count)\n",
    "print(max_count)"
   ]
  },
  {
   "cell_type": "code",
   "execution_count": 6,
   "id": "3da32bc6",
   "metadata": {},
   "outputs": [
    {
     "name": "stdout",
     "output_type": "stream",
     "text": [
      "enter a string:10011000011111000000\n",
      "6\n"
     ]
    }
   ],
   "source": [
    "# get input from user\n",
    "str=(input('enter a string:'))\n",
    "count=0\n",
    "max_count=0\n",
    "i=0\n",
    "while i<len(str):\n",
    "    if  str[i]=='0':\n",
    "        count+=1\n",
    "        max_count=max(max_count,count)\n",
    "    else:\n",
    "        count=0\n",
    "    i+=1\n",
    "print(max_count)"
   ]
  },
  {
   "cell_type": "markdown",
   "id": "8b1b3d25",
   "metadata": {},
   "source": [
    "###### Write a function that takes a string of one or more words as an argument and returns the same string, but with all five or more letter words reversed. Strings passed in will consist of only letters and spaces. Spaces will be included only when more than one word is present."
   ]
  },
  {
   "cell_type": "code",
   "execution_count": 7,
   "id": "cb2dabbd",
   "metadata": {},
   "outputs": [
    {
     "name": "stdout",
     "output_type": "stream",
     "text": [
      "enter string:i'm a student at innomatics\n",
      "i'm a tneduts at scitamonni\n"
     ]
    }
   ],
   "source": [
    "string=input('enter string:')\n",
    "words=string.split()\n",
    "for i in range(len(words)):\n",
    "    if len(words[i])>=5:# condition chek words 5 or more\n",
    "        words[i]=words[i][::-1] # here reversed the words\n",
    "string2=' '.join(words)\n",
    "print(string2)"
   ]
  },
  {
   "cell_type": "code",
   "execution_count": 10,
   "id": "c636fecc",
   "metadata": {},
   "outputs": [
    {
     "name": "stdout",
     "output_type": "stream",
     "text": [
      "enter string:innomatics\n",
      "scitamonni\n"
     ]
    }
   ],
   "source": [
    "word=input('enter string:')\n",
    "output=\"\"\n",
    "i=0\n",
    "if len(word)>=5:\n",
    "    reversed_word=\"\"\n",
    "    i=len(word)-1\n",
    "    while i>=0:\n",
    "        reversed_word+=word[i]\n",
    "        i-=1\n",
    "    print(reversed_word)\n",
    "else:\n",
    "    print(word)"
   ]
  },
  {
   "cell_type": "markdown",
   "id": "1c402f47",
   "metadata": {},
   "source": [
    "##### Create a function that returns the frequency distribution of a list. This function should return an object, where the keys are the unique elements and the values are the frequency in which those elements occur."
   ]
  },
  {
   "cell_type": "code",
   "execution_count": 12,
   "id": "15bdafda",
   "metadata": {},
   "outputs": [
    {
     "name": "stdout",
     "output_type": "stream",
     "text": [
      "{1: 3, 2: 3, 4: 2, 5: 2}\n"
     ]
    }
   ],
   "source": [
    "list=[1,2,4,1,4,2,5,1,2,5]\n",
    "x={} # dding empty frequwncy distribution\n",
    "for item in list:\n",
    "    x[item]=list.count(item)\n",
    "print(x)"
   ]
  },
  {
   "cell_type": "code",
   "execution_count": 13,
   "id": "e2b169f4",
   "metadata": {},
   "outputs": [
    {
     "name": "stdout",
     "output_type": "stream",
     "text": [
      "{1: 3, 2: 3, 4: 2, 5: 2}\n"
     ]
    }
   ],
   "source": [
    "list = [1,2,4,1,4,2,5,1,2,5]\n",
    "\n",
    "freq_dist = {}  # empty dictionary\n",
    "index = 0  # initially list at zero index\n",
    "\n",
    "while index < len(list):   # loop the list \n",
    "    x = list[index]\n",
    "    if x in freq_dist:     # check if element in dictionary\n",
    "        freq_dist[x] += 1\n",
    "    \n",
    "    else:\n",
    "        freq_dist[x] = 1\n",
    "    index += 1\n",
    "print(freq_dist)"
   ]
  },
  {
   "cell_type": "markdown",
   "id": "7bd51242",
   "metadata": {},
   "source": [
    "##### Write a function that returns the groups in the school by year (as a string), separated with a comma and a space in the form of \"1a, 1b, 1c, 1d, 1e, 2a, 2b (....) 5d, 5e, 6a, 6b, 6c, 6d, 6e\"."
   ]
  },
  {
   "cell_type": "code",
   "execution_count": 3,
   "id": "9885fb65",
   "metadata": {},
   "outputs": [
    {
     "name": "stdout",
     "output_type": "stream",
     "text": [
      "1a, 1b, 1c, 1d, 1e, 2a, 2b, 2c, 2d, 2e, 3a, 3b, 3c, 3d, 3e, 4a, 4b, 4c, 4d, 4e, 5a, 5b, 5c, 5d, 5e, 6a, 6b, 6c, 6d, 6e, \n"
     ]
    }
   ],
   "source": [
    "school_year=''\n",
    "year=1\n",
    "while year<=6:\n",
    "    group='a'\n",
    "    while group<='e':\n",
    "        school_year+=str(year)+group+', '\n",
    "        group=chr(ord(group)+1)\n",
    "    year+=1\n",
    "school_year=school_year.rstrip(',')\n",
    "print(school_year)"
   ]
  },
  {
   "cell_type": "markdown",
   "id": "eb277956",
   "metadata": {},
   "source": [
    "##### Create a function that takes a list of numbers and returns a list where each number is the sum of itself + all previous numbers in the list."
   ]
  },
  {
   "cell_type": "code",
   "execution_count": 21,
   "id": "aae57c7d",
   "metadata": {},
   "outputs": [
    {
     "name": "stdout",
     "output_type": "stream",
     "text": [
      "enter numbers456\n",
      "[456]\n"
     ]
    }
   ],
   "source": [
    "l=input('enter numbers')\n",
    "numbers=l.split() #here split the num by space\n",
    "new_list=[]\n",
    "j=0\n",
    "for i in range(len(numbers)):\n",
    "    num=int(numbers[i])\n",
    "    j+=num\n",
    "    new_list.append(j)\n",
    "print(new_list)"
   ]
  },
  {
   "cell_type": "code",
   "execution_count": 17,
   "id": "4fa44b17",
   "metadata": {},
   "outputs": [
    {
     "name": "stdout",
     "output_type": "stream",
     "text": [
      "[56, 61, 129, 64]\n"
     ]
    }
   ],
   "source": [
    "num = [56,5,68,-65] # input list\n",
    "list = []\n",
    "sum = 0  # current sum\n",
    "index = 0  \n",
    "\n",
    "while index < len(num):\n",
    "    sum = sum + num[index]   # add element to current sum\n",
    "    list.append(sum)     # append the sum\n",
    "    index = index + 1    # increment the index\n",
    "print(list)"
   ]
  },
  {
   "cell_type": "markdown",
   "id": "2f9869d3",
   "metadata": {},
   "source": [
    "#### Create a function that accepts a string as an argument and returns the first non-repeated character."
   ]
  },
  {
   "cell_type": "code",
   "execution_count": 24,
   "id": "180074c7",
   "metadata": {},
   "outputs": [
    {
     "name": "stdout",
     "output_type": "stream",
     "text": [
      "Enter a string : sandeep\n",
      "s\n"
     ]
    }
   ],
   "source": [
    "string= input(\"Enter a string : \") #input\n",
    "for i in string: \n",
    "    if string.count(i)==1: # if string count is equal to 1 \n",
    "        print(i) \n",
    "        break "
   ]
  },
  {
   "cell_type": "code",
   "execution_count": 25,
   "id": "04ff5cfc",
   "metadata": {},
   "outputs": [
    {
     "name": "stdout",
     "output_type": "stream",
     "text": [
      "Enter string: sandeep\n",
      "non repeated character: s\n"
     ]
    }
   ],
   "source": [
    "str = input(\"Enter string: \")\n",
    "\n",
    "i = 0  # index\n",
    "while i < len(str): \n",
    "    char = str[i]\n",
    "    # check if the element is non-repeated \n",
    "    if str.count(char) == 1:\n",
    "        print(f\"non repeated character: {char}\")\n",
    "        found = True\n",
    "        break"
   ]
  },
  {
   "cell_type": "markdown",
   "id": "eff9f849",
   "metadata": {},
   "source": [
    "#### Create a function that returns True if an asterisk * is inside a box."
   ]
  },
  {
   "cell_type": "code",
   "execution_count": 27,
   "id": "6fd8024a",
   "metadata": {},
   "outputs": [
    {
     "name": "stdout",
     "output_type": "stream",
     "text": [
      "Give a string: sand@eep\n",
      "True\n"
     ]
    }
   ],
   "source": [
    "s = input(\"Give a string: \")  # Input the string\n",
    "asterisk = False  \n",
    "for i in s:\n",
    "    if i == '@': # condition check weather * is in string r not\n",
    "        asterisk = True\n",
    "        break \n",
    "print(asterisk)"
   ]
  },
  {
   "cell_type": "code",
   "execution_count": 28,
   "id": "31e26614",
   "metadata": {},
   "outputs": [
    {
     "name": "stdout",
     "output_type": "stream",
     "text": [
      "Enter string: sand@eep\n",
      "True\n"
     ]
    }
   ],
   "source": [
    "# get input from user\n",
    "str = input(\"Enter string: \")\n",
    "i = 0   # index\n",
    "asterisk = False\n",
    "\n",
    "while i < len(str):\n",
    "    if str[i] == \"@\":    # check asterisk in string\n",
    "        asterisk = True\n",
    "        print(True)\n",
    "        break   # exit from the loop\n",
    "    i+=1"
   ]
  },
  {
   "cell_type": "markdown",
   "id": "08da1bf7",
   "metadata": {},
   "source": [
    "#### Write a function that takes a list and returns a new list with unique positive (more than 0) numbers."
   ]
  },
  {
   "cell_type": "code",
   "execution_count": 31,
   "id": "de0107f8",
   "metadata": {},
   "outputs": [
    {
     "name": "stdout",
     "output_type": "stream",
     "text": [
      "[1, 3, 4, 7, 8]\n"
     ]
    }
   ],
   "source": [
    "s = [1,3,4,-5,7,8]\n",
    "list = []     # output list with empty elements\n",
    "i = 0\n",
    "# loop through input list\n",
    "while i < len(s):\n",
    "    a = s[i]      #getting current number\n",
    "    if a > 0:   # check positive numbers\n",
    "        list.append(a)\n",
    "        \n",
    "    i += 1      # increment the index\n",
    "print(list)"
   ]
  },
  {
   "cell_type": "markdown",
   "id": "fbef5bca",
   "metadata": {},
   "source": [
    "#### An employee working at a very bizarre company earns one penny on their first day. However, for every day that passes, their base amount doubles, so they earn two pennies on the second day and four pennies on the third day (totalling 7 pennies). Given a number of days, return how many pennies the employee accumulates."
   ]
  },
  {
   "cell_type": "code",
   "execution_count": 32,
   "id": "20df03b5",
   "metadata": {},
   "outputs": [
    {
     "name": "stdout",
     "output_type": "stream",
     "text": [
      "Enter no of days10\n",
      "The total pay after 10 days is 1023\n"
     ]
    }
   ],
   "source": [
    "num_days=int(input(\"Enter no of days\")) # input the no of days\n",
    "day_earn=1 #per day earning \n",
    "total_pennies=0 \n",
    "for day in range(1,num_days+1):# range 1 to num_days + 1\n",
    "    total_pennies+=day_earn\n",
    "    day_earn*=2\n",
    "print(\"The total pay after {} days is {}\".format(num_days,total_pennies))"
   ]
  },
  {
   "cell_type": "code",
   "execution_count": 33,
   "id": "67c4fd8f",
   "metadata": {},
   "outputs": [
    {
     "name": "stdout",
     "output_type": "stream",
     "text": [
      "Enter no of days: 5\n",
      "employee earns 0 after pennies 5 days.\n"
     ]
    }
   ],
   "source": [
    "# get input from user\n",
    "p = int(input(\"Enter no of days: \"))\n",
    "a = 1 # first term\n",
    "r = 2  # common ratio is 2\n",
    "sum = 0 # sum of pennies\n",
    "\n",
    "while i < p:\n",
    "    sum = sum + a\n",
    "    a = a * r\n",
    "    i = i + 1\n",
    "    \n",
    "print(\"employee earns\", sum, \"after pennies\", p, \"days.\")"
   ]
  },
  {
   "cell_type": "markdown",
   "id": "d3849981",
   "metadata": {},
   "source": [
    "##### Create a function that takes a string as an argument and converts the first character of each word to uppercase. Return the newly formatted string."
   ]
  },
  {
   "cell_type": "code",
   "execution_count": 34,
   "id": "7595f11e",
   "metadata": {},
   "outputs": [
    {
     "name": "stdout",
     "output_type": "stream",
     "text": [
      "Give a string: i love india\n",
      "I Love India\n"
     ]
    }
   ],
   "source": [
    "string = input(\"Give a string: \")\n",
    "words = string.split()  # Split the input string into words\n",
    "formatted_string = [] # assign empty new formatted string\n",
    "\n",
    "for word in words: \n",
    "    if word:  # condition check word is not empty\n",
    "        capitalize = word.title()# # Capitalize the first character in word\n",
    "        formatted_string.append(capitalize)\n",
    "    else:\n",
    "        formatted_string.append('')  # Add empty string for empty words\n",
    "\n",
    "formatted_string = ' '.join(formatted_string)  # Join the formatted words update into formatted string\n",
    "\n",
    "print(formatted_string)"
   ]
  },
  {
   "cell_type": "code",
   "execution_count": 39,
   "id": "645bf202",
   "metadata": {},
   "outputs": [
    {
     "name": "stdout",
     "output_type": "stream",
     "text": [
      "Enter string: i love india\n",
      "\n"
     ]
    }
   ],
   "source": [
    "# get input from user\n",
    "s = input(\"Enter string: \")\n",
    "a = s.split()   # split the string into list\n",
    "x = \"\"\n",
    "\n",
    "while i < len(a):\n",
    "    b = a[i].capitalize()  # capitalize the first letter\n",
    "    x += b + \" \"\n",
    "    i += 1          \n",
    "print(x)  "
   ]
  },
  {
   "cell_type": "markdown",
   "id": "38825c9a",
   "metadata": {},
   "source": [
    "#### Create a function that will remove the letters \"a\", \"b\" and \"c\" from the given string and return the modified version. If the given string does not contain \"a\", \"b\", or \"c\", return None."
   ]
  },
  {
   "cell_type": "code",
   "execution_count": 40,
   "id": "af3d8c26",
   "metadata": {},
   "outputs": [
    {
     "name": "stdout",
     "output_type": "stream",
     "text": [
      "Enter a string: we are playing\n",
      "we  re pl ying\n"
     ]
    }
   ],
   "source": [
    "string = input(\"Enter a string: \") # input the string\n",
    "new_string=string # assign same to new_string\n",
    "for w in \"abc\":\n",
    "    new_string = new_string.replace(w, ' ') \n",
    "if new_string!=string:\n",
    "    print(new_string)\n",
    "else:\n",
    "    print(\"None\")"
   ]
  },
  {
   "cell_type": "code",
   "execution_count": 41,
   "id": "2904a57f",
   "metadata": {},
   "outputs": [
    {
     "name": "stdout",
     "output_type": "stream",
     "text": [
      "Enter string: we are playing cricket\n",
      "The modified string is:   we re plying riket\n"
     ]
    }
   ],
   "source": [
    "str = input(\"Enter string: \")\n",
    "modified = False\n",
    "i = 0\n",
    "while i < len(str):\n",
    "    if str[i] in \"abc\":\n",
    "        str = str[:i] + str[i+1:]\n",
    "        modified = True\n",
    "    else:\n",
    "        i += 1\n",
    "        \n",
    "if modified: # if the flag is True, print the modified string\n",
    "    print(\"The modified string is:  \", str)\n",
    "else: # otherwise, print None\n",
    "    print(None)"
   ]
  },
  {
   "cell_type": "markdown",
   "id": "1b0f36b5",
   "metadata": {},
   "source": [
    "##### Write a function that takes two lists and adds the first element in the first list with the first element in the second list, the second element in the first list with the second element in the second list, etc, etc. Return True if all element combinations add up to the same number. Otherwise, return False."
   ]
  },
  {
   "cell_type": "code",
   "execution_count": 44,
   "id": "7aa953e8",
   "metadata": {},
   "outputs": [
    {
     "name": "stdout",
     "output_type": "stream",
     "text": [
      "Enter the first list: 5689\n",
      "Enter the second list: 6548\n",
      "12237\n"
     ]
    }
   ],
   "source": [
    "input_str = input(\"Enter the first list: \")\n",
    "list1 = [int(x) for x in input_str.split()]\n",
    "list=input_str.split()\n",
    "input_str = input(\"Enter the second list: \")\n",
    "list2 = [int(x) for x in input_str.split()]\n",
    "\n",
    "if len(list1) != len(list2):\n",
    "    print(False)\n",
    "else:\n",
    "    total = list1[0] + list2[0]\n",
    "    are_equal = True\n",
    "\n",
    "    for i in range(1, len(list1)):\n",
    "        if list1[i] + list2[i] != total:\n",
    "            are_equal = False\n",
    "            break\n",
    "    print(total)"
   ]
  },
  {
   "cell_type": "code",
   "execution_count": 46,
   "id": "64ef717b",
   "metadata": {},
   "outputs": [
    {
     "name": "stdout",
     "output_type": "stream",
     "text": [
      "[12453]\n"
     ]
    }
   ],
   "source": [
    "list1 = [5864]\n",
    "list2 = [6589]\n",
    "\n",
    "l = []  # empty list\n",
    "i = 0\n",
    "# use loop to iterate over the lists\n",
    "while i < len(list1):\n",
    "    l.append(list1[i] + list2[i])  # append the list\n",
    "    i +=1    # increment the index\n",
    "    \n",
    "print(l)"
   ]
  },
  {
   "cell_type": "markdown",
   "id": "34579946",
   "metadata": {},
   "source": [
    "##### create a function that takes a string and returns a new string with each new character accumulating by +1. Separate each set with a dash."
   ]
  },
  {
   "cell_type": "code",
   "execution_count": 47,
   "id": "628a3739",
   "metadata": {},
   "outputs": [
    {
     "name": "stdout",
     "output_type": "stream",
     "text": [
      "Enter a string: sandeep\n",
      "S-Aa-Nnn-Dddd-Eeeee-Eeeeee-Ppppppp\n"
     ]
    }
   ],
   "source": [
    "s = input(\"Enter a string: \")\n",
    "new_string = [] \n",
    "\n",
    "for i in range(len(s)): \n",
    "    new_string.append(s[i].upper() + s[i].lower() * i) #here first leter captial and remanins lowers and increment\n",
    "\n",
    "r = '-'.join(new_string) # join with '-'\n",
    "print(r)"
   ]
  },
  {
   "cell_type": "code",
   "execution_count": 48,
   "id": "25260270",
   "metadata": {},
   "outputs": [
    {
     "name": "stdout",
     "output_type": "stream",
     "text": [
      "Enter string: sandeep\n",
      " s-an-de-ep-\n"
     ]
    }
   ],
   "source": [
    "str = input(\"Enter string: \")\n",
    "a = \" \"\n",
    "i = 0\n",
    "\n",
    "while i < len(str):\n",
    "    a += str[i]\n",
    "    a += \"-\"\n",
    "    i +=1\n",
    "    if i < len(str):\n",
    "         a+= str[i]\n",
    "  # increment the counter by 1\n",
    "    i += 1\n",
    "print(a)"
   ]
  },
  {
   "cell_type": "markdown",
   "id": "567a12ef",
   "metadata": {},
   "source": [
    "##### Write a function that returns the position of the second occurrence of \"zip\" in a string, or -1 if it does not occur at least twice. Your code should be general enough to pass every possible case where \"zip\" can occur in a string."
   ]
  },
  {
   "cell_type": "code",
   "execution_count": 54,
   "id": "0760775d",
   "metadata": {},
   "outputs": [
    {
     "name": "stdout",
     "output_type": "stream",
     "text": [
      "Enter string: sipsispsss\n",
      "-1\n"
     ]
    }
   ],
   "source": [
    "str = input(\"Enter string: \")\n",
    "count = 0\n",
    "i = 0\n",
    "for i in range(len(str)):\n",
    "    if str[i:i+3] == \"sip\":\n",
    "        count += 1\n",
    "        if count == 2:\n",
    "            print(i)\n",
    "            break\n",
    "    i += 1\n",
    "else:\n",
    "    print(-1)"
   ]
  },
  {
   "cell_type": "code",
   "execution_count": 53,
   "id": "4d7b962d",
   "metadata": {},
   "outputs": [
    {
     "name": "stdout",
     "output_type": "stream",
     "text": [
      "Enter string: sipsipsip\n",
      "3\n"
     ]
    }
   ],
   "source": [
    "str = input(\"Enter string: \")\n",
    "i = 0\n",
    "count = 0\n",
    "while i < len(str):\n",
    "    if str[i:i+3] == \"sip\":   \n",
    "        count += 1\n",
    "        \n",
    "        if count == 2:\n",
    "            # if it having,print the index\n",
    "            print(i)\n",
    "            break\n",
    "    i += 1\n",
    "else:\n",
    "    print(-1)"
   ]
  },
  {
   "cell_type": "markdown",
   "id": "e51b18f4",
   "metadata": {},
   "source": [
    "##### Create a function which adds spaces before every capital in a word. Uncapitalize the whole string afterwards."
   ]
  },
  {
   "cell_type": "code",
   "execution_count": 57,
   "id": "848d8ecb",
   "metadata": {},
   "outputs": [
    {
     "name": "stdout",
     "output_type": "stream",
     "text": [
      "Enter a string:Hello\n",
      "hello\n"
     ]
    }
   ],
   "source": [
    "s=input(\"Enter a string:\")\n",
    "r=\"\"\n",
    "for i in  s:\n",
    "    if i.isupper():\n",
    "        r+=\" \"+i\n",
    "    else:\n",
    "        r+=i\n",
    "r=r.lower().lstrip()\n",
    "print(r)"
   ]
  },
  {
   "cell_type": "code",
   "execution_count": 56,
   "id": "0ff5e35f",
   "metadata": {},
   "outputs": [
    {
     "name": "stdout",
     "output_type": "stream",
     "text": [
      "Enter string: Hello\n",
      "hello\n"
     ]
    }
   ],
   "source": [
    "str = input(\"Enter string: \")\n",
    "i = 1\n",
    "\n",
    "while i < len(str):\n",
    "    # check the character is capital\n",
    "    if str[i].isupper():\n",
    "        str = str[:i] + \" \" + str[i:]  # provide space\n",
    "        i += 2\n",
    "    else:\n",
    "        i += 1\n",
    "str = str.lower()   # for lower string\n",
    "print(str)"
   ]
  },
  {
   "cell_type": "markdown",
   "id": "fec24d71",
   "metadata": {},
   "source": [
    "###### Create a function that counts the integer's number of digits."
   ]
  },
  {
   "cell_type": "code",
   "execution_count": 59,
   "id": "a9a0143e",
   "metadata": {},
   "outputs": [
    {
     "name": "stdout",
     "output_type": "stream",
     "text": [
      "Enter integer values: 12345689\n",
      "8\n"
     ]
    }
   ],
   "source": [
    "x = int(input(\"Enter integer values: \"))\n",
    "count = 0\n",
    "\n",
    "while x > 0:\n",
    "    x //= 10 # divide integer by 10 & increment the count value\n",
    "    count += 1\n",
    "    \n",
    "# print number of digits having\n",
    "print(count)"
   ]
  },
  {
   "cell_type": "markdown",
   "id": "d5bfd8cb",
   "metadata": {},
   "source": [
    "##### Create a function that performs an even-odd transform to a list, n times. Each even-odd transformation:\n",
    "\n",
    "* Adds two (+2) to each odd integer.\n",
    "* Subtracts two (-2) from each even integer."
   ]
  },
  {
   "cell_type": "code",
   "execution_count": 62,
   "id": "c73556ea",
   "metadata": {},
   "outputs": [
    {
     "name": "stdout",
     "output_type": "stream",
     "text": [
      "[-6, -2, -8, 19, -4]\n"
     ]
    }
   ],
   "source": [
    "l=[4,8,2,9,6] # given list\n",
    "n=5 # no of integers\n",
    "for _ in range(n):\n",
    "    for i in range(len(l)):\n",
    "        if l[i]%2==0: # given number divided by 2\n",
    "            l[i] -=2 # sub by -2\n",
    "        else:\n",
    "            l[i] +=2 # or add by +2\n",
    "print(l)"
   ]
  },
  {
   "cell_type": "code",
   "execution_count": 63,
   "id": "4f90d287",
   "metadata": {},
   "outputs": [
    {
     "name": "stdout",
     "output_type": "stream",
     "text": [
      "[3, 0, 5, 2, 7, 4, 9, 6, 11, 8]\n"
     ]
    }
   ],
   "source": [
    "list = [1,2,3,4,5,6,7,8,9,10]\n",
    "\n",
    "n = 3   # no of transfromations\n",
    "i = 0\n",
    "\n",
    "while i < n:\n",
    "    for i in range(len(list)):\n",
    "        # check the odd elements\n",
    "        if list[i]%2 != 0:\n",
    "            list[i] += 2  # add +2, if the element is odd\n",
    "        else:\n",
    "            list[i] -= 2   # sub -2, if the element is even\n",
    "    i += 1\n",
    "print(list)"
   ]
  },
  {
   "cell_type": "markdown",
   "id": "1713babb",
   "metadata": {},
   "source": [
    "##### Given a string containing unique letters, return a sorted string with the letters that don't appear in the string."
   ]
  },
  {
   "cell_type": "code",
   "execution_count": 65,
   "id": "ff0e97ce",
   "metadata": {},
   "outputs": [
    {
     "name": "stdout",
     "output_type": "stream",
     "text": [
      "Enter a string:happy\n",
      "bcdefgijklmnoqrstuvwxz\n"
     ]
    }
   ],
   "source": [
    "s=input(\"Enter a string:\")\n",
    "unique_letters=set(s)\n",
    "ml=\"\"\n",
    "for letter in 'abcdefghijklmnopqrstuvwxyz':\n",
    "    if letter not in unique_letters:\n",
    "        ml +=letter\n",
    "r= ''.join(sorted(ml))\n",
    "print(r)"
   ]
  },
  {
   "cell_type": "code",
   "execution_count": 64,
   "id": "5ad1c8b4",
   "metadata": {},
   "outputs": [
    {
     "name": "stdout",
     "output_type": "stream",
     "text": [
      "Enter string: happy birthday\n",
      "['c', 'e', 'f', 'g', 'j', 'k', 'k', 'l', 'm', 'n', 'o', 'q', 's', 'u', 'v', 'w', 'x', 'z']\n"
     ]
    }
   ],
   "source": [
    "str = input(\"Enter string: \")\n",
    "\n",
    "alpha = 'abcdefghijkklmnopqrstuvwxyz'\n",
    "i = 0\n",
    "x = \"\"    \n",
    "while i < len(alpha):\n",
    "    # check if the current letter is not in the input string\n",
    "    if alpha[i] not in str:\n",
    "        x += alpha[i]\n",
    "    i += 1\n",
    "print(sorted(x))"
   ]
  },
  {
   "cell_type": "markdown",
   "id": "c0871106",
   "metadata": {},
   "source": [
    "#### You are given one input: a list containing eight 1's and/or 0's. Write a function that takes an 8 bit binary number and converts it to decimal."
   ]
  },
  {
   "cell_type": "code",
   "execution_count": 69,
   "id": "cc56db3d",
   "metadata": {},
   "outputs": [
    {
     "name": "stdout",
     "output_type": "stream",
     "text": [
      "Enter number: 10101100111\n",
      "1383\n"
     ]
    }
   ],
   "source": [
    "# get input from user\n",
    "x = input(\"Enter number: \")\n",
    "decimal = 0    # variable to store the decimal\n",
    "\n",
    "for i in range(len(x)):\n",
    "    # convert the character to an integer and multiply by the corresponding power of 2\n",
    "    decimal += int(x[i]) * (2 ** (len(x) - i - 1))\n",
    "    \n",
    "# print decimal number\n",
    "print(decimal)"
   ]
  },
  {
   "cell_type": "markdown",
   "id": "2981ed67",
   "metadata": {},
   "source": [
    "##### Write a function that finds the largest even number in a list. Return -1 if not found. The use of built-in functions max() and sorted() are prohibited."
   ]
  },
  {
   "cell_type": "code",
   "execution_count": 66,
   "id": "4fec7679",
   "metadata": {},
   "outputs": [
    {
     "name": "stdout",
     "output_type": "stream",
     "text": [
      "88\n"
     ]
    }
   ],
   "source": [
    "list = [12,34,22,21,65,88,99]\n",
    "largest_even = -1   # initialize the largest even number variable\n",
    "\n",
    "for num in list:\n",
    "    # check the list to find the largest number\n",
    "    if num % 2 == 0 and num > largest_even:\n",
    "        largest_even = num\n",
    "print(largest_even)"
   ]
  },
  {
   "cell_type": "code",
   "execution_count": 67,
   "id": "7871bfc2",
   "metadata": {},
   "outputs": [
    {
     "name": "stdout",
     "output_type": "stream",
     "text": [
      "6\n"
     ]
    }
   ],
   "source": [
    "list = [1,2,3,4,5,6,7,9,11]\n",
    "i = 0\n",
    "largest_even = -1   # initialize the largest even number variable\n",
    "\n",
    "while i < len(list):\n",
    "    # check if the current element is even and larger than the current largest even number\n",
    "    if list[i] % 2 == 0 and list[i] > largest_even:\n",
    "        largest_even = list[i]\n",
    "    i += 1\n",
    "    \n",
    "# Print the largest even number or -1 if not found\n",
    "if largest_even == -1:\n",
    "    print(-1)\n",
    "else:\n",
    "    print(largest_even)"
   ]
  }
 ],
 "metadata": {
  "kernelspec": {
   "display_name": "Python 3 (ipykernel)",
   "language": "python",
   "name": "python3"
  },
  "language_info": {
   "codemirror_mode": {
    "name": "ipython",
    "version": 3
   },
   "file_extension": ".py",
   "mimetype": "text/x-python",
   "name": "python",
   "nbconvert_exporter": "python",
   "pygments_lexer": "ipython3",
   "version": "3.11.5"
  }
 },
 "nbformat": 4,
 "nbformat_minor": 5
}
