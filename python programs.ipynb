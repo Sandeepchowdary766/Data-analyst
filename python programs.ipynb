{
 "cells": [
  {
   "cell_type": "markdown",
   "id": "0ca06a19",
   "metadata": {},
   "source": [
    "#### Write a Python program that asks the user for their age and prints \"You are an adult\" if the age is 18 or older, otherwise prints \"You are a minor'."
   ]
  },
  {
   "cell_type": "code",
   "execution_count": 2,
   "id": "839f8cbb",
   "metadata": {},
   "outputs": [
    {
     "name": "stdout",
     "output_type": "stream",
     "text": [
      "enter your age:16\n",
      "your are a minor\n"
     ]
    }
   ],
   "source": [
    "age=float(input('enter your age:'))\n",
    "\n",
    "if age>=18:\n",
    "    print('your are an adult')\n",
    "else:\n",
    "    print('your are a minor')"
   ]
  },
  {
   "cell_type": "markdown",
   "id": "ed4072f6",
   "metadata": {},
   "source": [
    "###### Write a program that takes a numerical grade (out of 100) as input and prints the corresponding letter grade according to the following scale:\n",
    " 90-100: A\n",
    " 80-89: B\n",
    " 70-79: C\n",
    " 60-69: D\n",
    " Below 60: F"
   ]
  },
  {
   "cell_type": "code",
   "execution_count": 34,
   "id": "da07b601",
   "metadata": {},
   "outputs": [
    {
     "name": "stdout",
     "output_type": "stream",
     "text": [
      "enter the grade59\n",
      "F\n"
     ]
    }
   ],
   "source": [
    "grade=float(input('enter the grade'))\n",
    "\n",
    "if grade>=90:\n",
    "    print('A')\n",
    "elif grade>=80:\n",
    "    print('B')\n",
    "elif grade>=70:\n",
    "    print('c')\n",
    "elif grade>=60:\n",
    "    print('D')\n",
    "else:\n",
    "    print('F')"
   ]
  },
  {
   "cell_type": "markdown",
   "id": "fb9c9548",
   "metadata": {},
   "source": [
    "###### Write a program that calculates the Body Mass Index (BMI) of a person. The user should input their weight in kilograms and height in meters. The program should then print whether the person is underweight, normal weight, overweight, or obese"
   ]
  },
  {
   "cell_type": "code",
   "execution_count": 1,
   "id": "3a572d3b",
   "metadata": {},
   "outputs": [
    {
     "name": "stdout",
     "output_type": "stream",
     "text": [
      "Enter your weight in kg: 56\n",
      "Enter your height in mts: 6.0\n",
      "underweight\n"
     ]
    }
   ],
   "source": [
    "kg = int(input(\"Enter your weight in kg: \"))\n",
    "m = float(input(\"Enter your height in mts: \"))\n",
    "\n",
    "bmi = kg / (m ** 2)\n",
    "\n",
    "if bmi < 20:\n",
    "    print(\"underweight\")\n",
    "elif 20 <= bmi < 25:\n",
    "    print(\"normal weight\")\n",
    "elif 25 <= bmi < 30:\n",
    "    print(\"overweight\")\n",
    "else:\n",
    "    print(\"obese\")"
   ]
  },
  {
   "cell_type": "markdown",
   "id": "002b0ea1",
   "metadata": {},
   "source": [
    "##### Write a program that asks the user for three numbers and prints the maximum of the three."
   ]
  },
  {
   "cell_type": "code",
   "execution_count": 33,
   "id": "b5a1f892",
   "metadata": {},
   "outputs": [
    {
     "name": "stdout",
     "output_type": "stream",
     "text": [
      "entre first user num:6\n",
      "enter secound user num8\n",
      "enter third user num5\n",
      "8.0\n"
     ]
    }
   ],
   "source": [
    "user1=float(input('entre first user num:'))\n",
    "user2=float(input('enter secound user num'))\n",
    "user3=float(input('enter third user num'))\n",
    "\n",
    "print(max(user1,user2,user3))"
   ]
  },
  {
   "cell_type": "markdown",
   "id": "a719aeb2",
   "metadata": {},
   "source": [
    "###### Write a program that asks the user for a temperature (in Celsius) and prints \"It's freezing\" if the temperature is below 0, \"It's cool\" if it's between 0 and 10, \"It's warm\" if it's between 10 and 20, and \"It's hot\" if it's above 20"
   ]
  },
  {
   "cell_type": "code",
   "execution_count": 38,
   "id": "70197e25",
   "metadata": {},
   "outputs": [
    {
     "name": "stdout",
     "output_type": "stream",
     "text": [
      "Enter the temperature:26\n",
      "its hot\n"
     ]
    }
   ],
   "source": [
    "temperature = float(input(\"Enter the temperature:\"))\n",
    "\n",
    "if temperature <0:\n",
    "    print('its freezing')\n",
    "elif temperature<=10:\n",
    "    print('its cool')\n",
    "elif temperature<=20:\n",
    "    print('its warm')\n",
    "else:\n",
    "    print('its hot')"
   ]
  },
  {
   "cell_type": "code",
   "execution_count": 39,
   "id": "49f95655",
   "metadata": {},
   "outputs": [
    {
     "name": "stdout",
     "output_type": "stream",
     "text": [
      "Enter the temperature:-5\n",
      "its freezing\n"
     ]
    }
   ],
   "source": [
    "temperature = float(input(\"Enter the temperature:\"))\n",
    "\n",
    "if temperature <0:\n",
    "    print('its freezing')\n",
    "elif temperature<=10:\n",
    "    print('its cool')\n",
    "elif temperature<=20:\n",
    "    print('its warm')\n",
    "else:\n",
    "    print('its hot')"
   ]
  },
  {
   "cell_type": "markdown",
   "id": "c41d2ec7",
   "metadata": {},
   "source": [
    "##### Write a program that asks the user for a number (1-7) and prints the corresponding day of the week."
   ]
  },
  {
   "cell_type": "code",
   "execution_count": 3,
   "id": "53a6aa48",
   "metadata": {},
   "outputs": [
    {
     "name": "stdout",
     "output_type": "stream",
     "text": [
      "enter a valid num(1-7): 6\n",
      "friday\n"
     ]
    }
   ],
   "source": [
    "days= int(input('enter a valid num(1-7): '))\n",
    "\n",
    "if days==1:\n",
    "    print('sunday')\n",
    "elif days==2:\n",
    "    print('monday')\n",
    "elif days==3:\n",
    "    print('tuesday')\n",
    "elif days==4:\n",
    "    print('wednesday')\n",
    "elif days==5:\n",
    "    print('thursday')\n",
    "elif days==6:\n",
    "    print('friday')\n",
    "elif days==7:\n",
    "    print('saturday')\n",
    "else:\n",
    "    print('invalid')"
   ]
  },
  {
   "cell_type": "markdown",
   "id": "8771b89e",
   "metadata": {},
   "source": [
    "##### Write a program that asks the user for a number and prints \"In range\" if the number is between 10 and 20 (inclusive), and \"Out of range\" otherwise."
   ]
  },
  {
   "cell_type": "code",
   "execution_count": 3,
   "id": "e161e1e3",
   "metadata": {},
   "outputs": [
    {
     "name": "stdout",
     "output_type": "stream",
     "text": [
      "Enter number: 26\n",
      "Out of range\n"
     ]
    }
   ],
   "source": [
    "num = int(input('Enter number: '))\n",
    "\n",
    "if num in range(10, 20):\n",
    "    print(\"In range\")\n",
    "else:\n",
    "    print(\"Out of range\")"
   ]
  },
  {
   "cell_type": "markdown",
   "id": "e32d72ec",
   "metadata": {},
   "source": [
    "###### Write a program that asks the user for an integer and prints whether it's even or odd."
   ]
  },
  {
   "cell_type": "code",
   "execution_count": 4,
   "id": "6255b7f1",
   "metadata": {},
   "outputs": [
    {
     "name": "stdout",
     "output_type": "stream",
     "text": [
      "Enter number: 5\n",
      "Odd\n"
     ]
    }
   ],
   "source": [
    "num = int(input('Enter number: '))\n",
    "\n",
    "if num%2 == 0:\n",
    "    print('Even')\n",
    "else:\n",
    "    print('Odd')"
   ]
  },
  {
   "cell_type": "markdown",
   "id": "bd855253",
   "metadata": {},
   "source": [
    "#### Write a Python program to add 'ing' at the end of a given string (string length should be equal to or more than 3). If the given string already ends with 'ing' then add 'ly' instead.If the string length of the given string is less than 3, leave it unchanged"
   ]
  },
  {
   "cell_type": "code",
   "execution_count": 2,
   "id": "454b2cec",
   "metadata": {},
   "outputs": [
    {
     "name": "stdout",
     "output_type": "stream",
     "text": [
      "string: ug\n",
      "string\n"
     ]
    }
   ],
   "source": [
    "a=str(input('string: ')) # given input as string\n",
    "if len(a) < 3: # checks length of a is below  3 \n",
    "        print('string') #if it is true it prints string\n",
    "elif a[-3:] == 'ing': \n",
    "            print(string+'ly')\n",
    "else:\n",
    "            print(string + 'ing') "
   ]
  },
  {
   "cell_type": "markdown",
   "id": "0090ee61",
   "metadata": {},
   "source": [
    "#### Create rock-paper-scissors by using the if condition."
   ]
  },
  {
   "cell_type": "code",
   "execution_count": 1,
   "id": "f6f455b4",
   "metadata": {},
   "outputs": [
    {
     "name": "stdout",
     "output_type": "stream",
     "text": [
      "player-1:a\n",
      "player-2r\n",
      "b\n"
     ]
    }
   ],
   "source": [
    "a,b=input('player-1:').lower(),input('player-2').lower()\n",
    "if a=='p' and b=='r':\n",
    "    print('a win')\n",
    "elif a=='s' and b=='p':\n",
    "    print('a win')\n",
    "elif a=='r' and b=='s':\n",
    "    print('a win')\n",
    "elif a==b:\n",
    "    print('tie')\n",
    "else:\n",
    "    print('b')"
   ]
  },
  {
   "cell_type": "code",
   "execution_count": 4,
   "id": "c5ffea7c",
   "metadata": {},
   "outputs": [
    {
     "name": "stdout",
     "output_type": "stream",
     "text": [
      "player-1:f\n",
      "b\n"
     ]
    }
   ],
   "source": [
    "import random\n",
    "b=list('rps')\n",
    "random.shuffle(b)\n",
    "b=b[0]\n",
    "a=input('player-1:').lower()\n",
    "if (a=='p'and b=='r') or(a=='s'and b=='p') or (a=='r'and b=='s'):\n",
    "    print('a win')\n",
    "elif a==b:\n",
    "    print('tie')\n",
    "else:\n",
    "    print('b')"
   ]
  },
  {
   "cell_type": "markdown",
   "id": "7cb69523",
   "metadata": {},
   "source": [
    "#### Create a dynamic calculator which asks for numbers and operator and return the answers,\n",
    "   * example Input: Type first number: 10\", Type any of this (+, -, , /, %, ): , Assignment-2 ,\n",
    "Type second number: 19, Output:Answer is 190"
   ]
  },
  {
   "cell_type": "code",
   "execution_count": 3,
   "id": "fa4814ec",
   "metadata": {},
   "outputs": [
    {
     "name": "stdout",
     "output_type": "stream",
     "text": [
      "Enter value: 20\n",
      "Enter value: 50\n",
      "Enter operator (+, -, *, /, %): +\n",
      "70\n"
     ]
    }
   ],
   "source": [
    "a = int(input(\"Enter value: \"))\n",
    "b = int(input(\"Enter value: \"))\n",
    "\n",
    "cal = input(\"Enter operator (+, -, *, /, %): \")\n",
    "\n",
    "# check if calculater performs operations\n",
    "if cal == '+':\n",
    "    print(a + b)\n",
    "elif cal == '-':\n",
    "    print(a - b)\n",
    "elif cal == '':\n",
    "    print(a * b)\n",
    "elif cal == '/':\n",
    "    if b == 0:\n",
    "        print(\" Division by zero\")\n",
    "    else:\n",
    "        print(a / b)\n",
    "elif cal == '%':\n",
    "    if b == 0:\n",
    "        print(\"Modulo by zero\")\n",
    "    else:\n",
    "        print(a % b)\n",
    "else:\n",
    "    print(\" Invalid operator\")"
   ]
  },
  {
   "cell_type": "markdown",
   "id": "ce49b9e7",
   "metadata": {},
   "source": [
    "###### Manoj Kumar has family and friends. Help him remind them who is who. Given a string with a name, return the relation of that person to Manoj Kumar.,\n",
    "Person Relation, Shiva father ,Letha mother, Tarun brother,Kavitha sister ,,Strange Coder."
   ]
  },
  {
   "cell_type": "code",
   "execution_count": 5,
   "id": "12b3bc0e",
   "metadata": {},
   "outputs": [
    {
     "name": "stdout",
     "output_type": "stream",
     "text": [
      "Enter name: Tarun\n",
      "Tarun is Manoj Kumar's brother.\n"
     ]
    }
   ],
   "source": [
    "Name = input(\"Enter name: \")\n",
    "\n",
    "relation = { 'Shiva':'father',      # define the relations in a dictionary\n",
    "           'Latha':'mother',\n",
    "           'Tarun':'brother',\n",
    "           'Kavitha':'sister',\n",
    "           'strange Coder':'friend'}\n",
    "\n",
    "# check the name is in the relations dictionary\n",
    "if Name in relation:\n",
    "    relation = relation[Name]\n",
    "    print(f\"{Name} is Manoj Kumar's {relation}.\")\n",
    "else:\n",
    "    print('Name not found')"
   ]
  },
  {
   "cell_type": "markdown",
   "id": "9ccda72f",
   "metadata": {},
   "source": [
    "##### Write a python program that takes in a word and determines whether or not it is plural. A plural word is one that ends with “s”"
   ]
  },
  {
   "cell_type": "code",
   "execution_count": 6,
   "id": "7529472d",
   "metadata": {},
   "outputs": [
    {
     "name": "stdout",
     "output_type": "stream",
     "text": [
      "Enter word: innomatics\n",
      "is a plural\n"
     ]
    }
   ],
   "source": [
    "word = input('Enter word: ')\n",
    "\n",
    "# check the word if it ends with \"s\"\n",
    "if word.endswith(\"s\"):\n",
    "    print(\"is a plural\")\n",
    "else:\n",
    "    print(\"is not plural\")"
   ]
  },
  {
   "cell_type": "markdown",
   "id": "274485b7",
   "metadata": {},
   "source": [
    "### Take values of length and breadth of a rectangle from the user and check if it is square or not."
   ]
  },
  {
   "cell_type": "code",
   "execution_count": 7,
   "id": "7987cc19",
   "metadata": {},
   "outputs": [
    {
     "name": "stdout",
     "output_type": "stream",
     "text": [
      "Enter rectangle length: 60\n",
      "Enter rectangle breadth: 80\n",
      "is not square\n"
     ]
    }
   ],
   "source": [
    "length = int(input(\"Enter rectangle length: \"))\n",
    "breadth = int(input(\"Enter rectangle breadth: \"))\n",
    "\n",
    "# check if it's a square or not\n",
    "if length == breadth:\n",
    "    print(\"is square\")\n",
    "else:\n",
    "    print(\"is not square\")"
   ]
  },
  {
   "cell_type": "markdown",
   "id": "dff055c1",
   "metadata": {},
   "source": [
    "##### Accept three sides of the triangle and check whether the triangle is possible or not.(Triangle is possible only when the sum of any two sides is greater than 3 rd side)."
   ]
  },
  {
   "cell_type": "code",
   "execution_count": 8,
   "id": "deb189be",
   "metadata": {},
   "outputs": [
    {
     "name": "stdout",
     "output_type": "stream",
     "text": [
      "Enter value of side1: 6\n",
      "Enter value of side2: 9\n",
      "Enter value of side3: 9\n",
      "It's a triangle\n"
     ]
    }
   ],
   "source": [
    "side1 = int(input(\"Enter value of side1: \"))\n",
    "side2 = int(input(\"Enter value of side2: \"))\n",
    "side3 = int(input(\"Enter value of side3: \"))\n",
    "\n",
    "# check if it's a triangle or not\n",
    "if side1+side2>side3 and side2+side3>side1 and side3+side1>side2:\n",
    "    print(\"It's a triangle\")\n",
    "else:\n",
    "    print(\"It's not triangle\")"
   ]
  }
 ],
 "metadata": {
  "kernelspec": {
   "display_name": "Python 3 (ipykernel)",
   "language": "python",
   "name": "python3"
  },
  "language_info": {
   "codemirror_mode": {
    "name": "ipython",
    "version": 3
   },
   "file_extension": ".py",
   "mimetype": "text/x-python",
   "name": "python",
   "nbconvert_exporter": "python",
   "pygments_lexer": "ipython3",
   "version": "3.11.5"
  }
 },
 "nbformat": 4,
 "nbformat_minor": 5
}
